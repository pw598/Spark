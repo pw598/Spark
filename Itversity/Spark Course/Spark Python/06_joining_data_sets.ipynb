{
 "cells": [
  {
   "cell_type": "markdown",
   "metadata": {},
   "source": [
    "# Joining Data Sets\n",
    "\n",
    "Let us understand how to join multiple Data Sets using Spark based APIs."
   ]
  },
  {
   "cell_type": "markdown",
   "metadata": {},
   "source": [
    "## Prepare Datasets for Joins\n",
    "Let us prepare Dataset to join and get the details related to airports (origin and destination).\n",
    "\n",
    "* Make sure airport-codes is in HDFS."
   ]
  },
  {
   "cell_type": "code",
   "execution_count": 1,
   "metadata": {},
   "outputs": [
    {
     "name": "stdout",
     "output_type": "stream",
     "text": [
      "Found 1 items\n",
      "-rw-r--r--   2 hdfs supergroup      11411 2021-01-28 10:48 /public/airlines_all/airport-codes/airport-codes-na.txt\n"
     ]
    }
   ],
   "source": [
    "%%sh\n",
    "hdfs dfs -ls /public/airlines_all/airport-codes"
   ]
  },
  {
   "cell_type": "markdown",
   "metadata": {},
   "source": [
    "## Starting Spark Context\n",
    "\n",
    "Let us start spark context for this Notebook so that we can execute the code provided."
   ]
  },
  {
   "cell_type": "code",
   "execution_count": 2,
   "metadata": {},
   "outputs": [],
   "source": [
    "from pyspark.sql import SparkSession\n",
    "\n",
    "import getpass\n",
    "username = getpass.getuser()\n",
    "\n",
    "spark = SparkSession. \\\n",
    "    builder. \\\n",
    "    config('spark.ui.port', '0'). \\\n",
    "    enableHiveSupport(). \\\n",
    "    appName(f'{username} | Python - Joining Data Sets'). \\\n",
    "    master('yarn'). \\\n",
    "    getOrCreate()"
   ]
  },
  {
   "cell_type": "code",
   "execution_count": 3,
   "metadata": {},
   "outputs": [],
   "source": [
    "spark.conf.set('spark.sql.shuffle.partitions', '2')"
   ]
  },
  {
   "cell_type": "markdown",
   "metadata": {},
   "source": [
    "* Analyze the Dataset to confirm if there is header and also how the data is structured."
   ]
  },
  {
   "cell_type": "code",
   "execution_count": 4,
   "metadata": {},
   "outputs": [
    {
     "name": "stdout",
     "output_type": "stream",
     "text": [
      "+-------------------------+\n",
      "|value                    |\n",
      "+-------------------------+\n",
      "|City\tState\tCountry\tIATA  |\n",
      "|Abbotsford\tBC\tCanada\tYXX |\n",
      "|Aberdeen\tSD\tUSA\tABR      |\n",
      "|Abilene\tTX\tUSA\tABI       |\n",
      "|Akron\tOH\tUSA\tCAK         |\n",
      "|Alamosa\tCO\tUSA\tALS       |\n",
      "|Albany\tGA\tUSA\tABY        |\n",
      "|Albany\tNY\tUSA\tALB        |\n",
      "|Albuquerque\tNM\tUSA\tABQ   |\n",
      "|Alexandria\tLA\tUSA\tAEX    |\n",
      "|Allentown\tPA\tUSA\tABE     |\n",
      "|Alliance\tNE\tUSA\tAIA      |\n",
      "|Alpena\tMI\tUSA\tAPN        |\n",
      "|Altoona\tPA\tUSA\tAOO       |\n",
      "|Amarillo\tTX\tUSA\tAMA      |\n",
      "|Anahim Lake\tBC\tCanada\tYAA|\n",
      "|Anchorage\tAK\tUSA\tANC     |\n",
      "|Appleton\tWI\tUSA\tATW      |\n",
      "|Arviat\tNWT\tCanada\tYEK    |\n",
      "|Asheville\tNC\tUSA\tAVL     |\n",
      "+-------------------------+\n",
      "only showing top 20 rows\n",
      "\n"
     ]
    }
   ],
   "source": [
    "spark.read. \\\n",
    "    text(\"/public/airlines_all/airport-codes\"). \\\n",
    "    show(truncate=False)"
   ]
  },
  {
   "cell_type": "markdown",
   "metadata": {},
   "source": [
    " * Data is tab separated.\n",
    " * There is header for the data set.\n",
    " * Dataset have 4 fields - **Country, State, City, IATA**\n",
    "    \n",
    "    \n",
    "Create DataFrame airport_codes applying appropriate Schema.\n"
   ]
  },
  {
   "cell_type": "code",
   "execution_count": 5,
   "metadata": {},
   "outputs": [],
   "source": [
    "airport_codes_path = \"/public/airlines_all/airport-codes\""
   ]
  },
  {
   "cell_type": "code",
   "execution_count": 6,
   "metadata": {},
   "outputs": [],
   "source": [
    "airport_codes = spark. \\\n",
    "    read. \\\n",
    "    csv(airport_codes_path,\n",
    "        sep=\"\\t\",\n",
    "        header=True,\n",
    "        inferSchema=True\n",
    "       )"
   ]
  },
  {
   "cell_type": "markdown",
   "metadata": {},
   "source": [
    "* Preview and Understand the data."
   ]
  },
  {
   "cell_type": "code",
   "execution_count": 7,
   "metadata": {},
   "outputs": [
    {
     "name": "stdout",
     "output_type": "stream",
     "text": [
      "+-----------+-----+-------+----+\n",
      "|       City|State|Country|IATA|\n",
      "+-----------+-----+-------+----+\n",
      "| Abbotsford|   BC| Canada| YXX|\n",
      "|   Aberdeen|   SD|    USA| ABR|\n",
      "|    Abilene|   TX|    USA| ABI|\n",
      "|      Akron|   OH|    USA| CAK|\n",
      "|    Alamosa|   CO|    USA| ALS|\n",
      "|     Albany|   GA|    USA| ABY|\n",
      "|     Albany|   NY|    USA| ALB|\n",
      "|Albuquerque|   NM|    USA| ABQ|\n",
      "| Alexandria|   LA|    USA| AEX|\n",
      "|  Allentown|   PA|    USA| ABE|\n",
      "|   Alliance|   NE|    USA| AIA|\n",
      "|     Alpena|   MI|    USA| APN|\n",
      "|    Altoona|   PA|    USA| AOO|\n",
      "|   Amarillo|   TX|    USA| AMA|\n",
      "|Anahim Lake|   BC| Canada| YAA|\n",
      "|  Anchorage|   AK|    USA| ANC|\n",
      "|   Appleton|   WI|    USA| ATW|\n",
      "|     Arviat|  NWT| Canada| YEK|\n",
      "|  Asheville|   NC|    USA| AVL|\n",
      "|      Aspen|   CO|    USA| ASE|\n",
      "+-----------+-----+-------+----+\n",
      "only showing top 20 rows\n",
      "\n"
     ]
    }
   ],
   "source": [
    "airport_codes.show()"
   ]
  },
  {
   "cell_type": "markdown",
   "metadata": {},
   "source": [
    "* Get schema of **airport_codes**."
   ]
  },
  {
   "cell_type": "code",
   "execution_count": 8,
   "metadata": {},
   "outputs": [
    {
     "name": "stdout",
     "output_type": "stream",
     "text": [
      "root\n",
      " |-- City: string (nullable = true)\n",
      " |-- State: string (nullable = true)\n",
      " |-- Country: string (nullable = true)\n",
      " |-- IATA: string (nullable = true)\n",
      "\n"
     ]
    }
   ],
   "source": [
    "airport_codes.printSchema()"
   ]
  },
  {
   "cell_type": "markdown",
   "metadata": {},
   "source": [
    "* Preview the data\n",
    " * Get the count of records"
   ]
  },
  {
   "cell_type": "code",
   "execution_count": 9,
   "metadata": {},
   "outputs": [
    {
     "data": {
      "text/plain": [
       "526"
      ]
     },
     "execution_count": 9,
     "metadata": {},
     "output_type": "execute_result"
    }
   ],
   "source": [
    "airport_codes.count()"
   ]
  },
  {
   "cell_type": "markdown",
   "metadata": {},
   "source": [
    "   * Get the count of unique records and see if it is the same as total count."
   ]
  },
  {
   "cell_type": "code",
   "execution_count": 10,
   "metadata": {},
   "outputs": [
    {
     "data": {
      "text/plain": [
       "524"
      ]
     },
     "execution_count": 10,
     "metadata": {},
     "output_type": "execute_result"
    }
   ],
   "source": [
    "airport_codes. \\\n",
    "    select(\"IATA\"). \\\n",
    "    distinct(). \\\n",
    "    count()"
   ]
  },
  {
   "cell_type": "markdown",
   "metadata": {},
   "source": [
    " * If they are not equal, analyze the data and identify IATA codes which are repeated more than once."
   ]
  },
  {
   "cell_type": "code",
   "execution_count": 11,
   "metadata": {},
   "outputs": [],
   "source": [
    "from pyspark.sql.functions import lit, count"
   ]
  },
  {
   "cell_type": "code",
   "execution_count": 12,
   "metadata": {},
   "outputs": [],
   "source": [
    "duplicate_iata_count = airport_codes. \\\n",
    "    groupBy(\"IATA\"). \\\n",
    "    agg(count(lit(1)).alias(\"iata_count\")). \\\n",
    "    filter(\"iata_count > 1\")"
   ]
  },
  {
   "cell_type": "code",
   "execution_count": 13,
   "metadata": {},
   "outputs": [
    {
     "name": "stdout",
     "output_type": "stream",
     "text": [
      "+----+----------+\n",
      "|IATA|iata_count|\n",
      "+----+----------+\n",
      "| Big|         3|\n",
      "+----+----------+\n",
      "\n"
     ]
    }
   ],
   "source": [
    "duplicate_iata_count.show()"
   ]
  },
  {
   "cell_type": "markdown",
   "metadata": {},
   "source": [
    " * Filter out the duplicates using the most appropriate one and discard others."
   ]
  },
  {
   "cell_type": "code",
   "execution_count": 14,
   "metadata": {},
   "outputs": [
    {
     "name": "stdout",
     "output_type": "stream",
     "text": [
      "+-----------+------+-------+----+\n",
      "|       City| State|Country|IATA|\n",
      "+-----------+------+-------+----+\n",
      "|       Hilo|    HI|    USA| Big|\n",
      "|Kailua-Kona|Hawaii|    USA| Big|\n",
      "|    Kamuela|Hawaii|    USA| Big|\n",
      "+-----------+------+-------+----+\n",
      "\n"
     ]
    }
   ],
   "source": [
    "airport_codes. \\\n",
    "    filter(\"IATA = 'Big'\"). \\\n",
    "    show()"
   ]
  },
  {
   "cell_type": "code",
   "execution_count": 15,
   "metadata": {},
   "outputs": [
    {
     "name": "stdout",
     "output_type": "stream",
     "text": [
      "+-----------+-----+-------+----+\n",
      "|       City|State|Country|IATA|\n",
      "+-----------+-----+-------+----+\n",
      "| Abbotsford|   BC| Canada| YXX|\n",
      "|   Aberdeen|   SD|    USA| ABR|\n",
      "|    Abilene|   TX|    USA| ABI|\n",
      "|      Akron|   OH|    USA| CAK|\n",
      "|    Alamosa|   CO|    USA| ALS|\n",
      "|     Albany|   GA|    USA| ABY|\n",
      "|     Albany|   NY|    USA| ALB|\n",
      "|Albuquerque|   NM|    USA| ABQ|\n",
      "| Alexandria|   LA|    USA| AEX|\n",
      "|  Allentown|   PA|    USA| ABE|\n",
      "|   Alliance|   NE|    USA| AIA|\n",
      "|     Alpena|   MI|    USA| APN|\n",
      "|    Altoona|   PA|    USA| AOO|\n",
      "|   Amarillo|   TX|    USA| AMA|\n",
      "|Anahim Lake|   BC| Canada| YAA|\n",
      "|  Anchorage|   AK|    USA| ANC|\n",
      "|   Appleton|   WI|    USA| ATW|\n",
      "|     Arviat|  NWT| Canada| YEK|\n",
      "|  Asheville|   NC|    USA| AVL|\n",
      "|      Aspen|   CO|    USA| ASE|\n",
      "+-----------+-----+-------+----+\n",
      "only showing top 20 rows\n",
      "\n"
     ]
    }
   ],
   "source": [
    "airport_codes. \\\n",
    "    filter(\"!(State = 'Hawaii' AND IATA = 'Big')\"). \\\n",
    "    show()"
   ]
  },
  {
   "cell_type": "markdown",
   "metadata": {},
   "source": [
    " * Get number of airports (IATA Codes) for each state in the US. Sort the data in descending order by count."
   ]
  },
  {
   "cell_type": "code",
   "execution_count": 16,
   "metadata": {},
   "outputs": [],
   "source": [
    "from pyspark.sql.functions import col, lit, count"
   ]
  },
  {
   "cell_type": "code",
   "execution_count": 17,
   "metadata": {},
   "outputs": [],
   "source": [
    "airport_codes_path = \"/public/airlines_all/airport-codes\""
   ]
  },
  {
   "cell_type": "code",
   "execution_count": 18,
   "metadata": {},
   "outputs": [],
   "source": [
    "airport_codes = spark. \\\n",
    "    read. \\\n",
    "    csv(airport_codes_path,\n",
    "        sep=\"\\t\",\n",
    "        header=True,\n",
    "        inferSchema=True\n",
    "       ). \\\n",
    "    filter(\"!(State = 'Hawaii' AND IATA = 'Big') AND Country='USA'\")"
   ]
  },
  {
   "cell_type": "code",
   "execution_count": 19,
   "metadata": {},
   "outputs": [],
   "source": [
    "airport_count_per_state = airport_codes. \\\n",
    "    groupBy(\"Country\", \"State\"). \\\n",
    "    agg(count(lit(1)).alias(\"IATACount\")). \\\n",
    "    orderBy(col(\"IATACount\").desc())"
   ]
  },
  {
   "cell_type": "code",
   "execution_count": 20,
   "metadata": {},
   "outputs": [
    {
     "name": "stdout",
     "output_type": "stream",
     "text": [
      "+-------+-----+---------+\n",
      "|Country|State|IATACount|\n",
      "+-------+-----+---------+\n",
      "|    USA|   CA|       29|\n",
      "|    USA|   TX|       26|\n",
      "|    USA|   AK|       25|\n",
      "|    USA|   NY|       18|\n",
      "|    USA|   FL|       18|\n",
      "|    USA|   MI|       18|\n",
      "|    USA|   MT|       14|\n",
      "|    USA|   PA|       13|\n",
      "|    USA|   CO|       12|\n",
      "|    USA|   IL|       12|\n",
      "|    USA|   WY|       10|\n",
      "|    USA|   NC|       10|\n",
      "|    USA|   WI|        9|\n",
      "|    USA|   NM|        9|\n",
      "|    USA|   HI|        9|\n",
      "|    USA|   KS|        9|\n",
      "|    USA|   GA|        9|\n",
      "|    USA|   WA|        9|\n",
      "|    USA|   NE|        9|\n",
      "|    USA|   MO|        8|\n",
      "+-------+-----+---------+\n",
      "only showing top 20 rows\n",
      "\n"
     ]
    }
   ],
   "source": [
    "airport_count_per_state.show()"
   ]
  },
  {
   "cell_type": "markdown",
   "metadata": {},
   "source": [
    "## Joining Data Frames\n",
    "\n",
    "Let us understand how to join Data Frames by using some problem statements. Use 2008 January data.\n",
    "* Get number of flights departed from each of the US airport.\n",
    "* Get number of flights departed from each of the state.\n",
    "* Get the list of airports in the US from which flights are not departed.\n",
    "* Check if there are any origins in airlines data which do not have record in airport-codes.\n",
    "* Get the total number of flights from the airports that do not contain entries in airport-codes.\n",
    "* Get the total number of flights per airport that do not contain entries in airport-codes."
   ]
  },
  {
   "cell_type": "markdown",
   "metadata": {},
   "source": [
    "## Overview of Joins\n",
    "\n",
    "Let us get an overview of joining Data Frames.\n",
    "* Our data cannot be stored in one table. It will be stored in multiple tables and the tables might be related.\n",
    "  * When it comes to transactional systems, we typically define tables based on Normalization Principles.\n",
    "  * When it comes to data warehousing applications, we typically define tables using Dimensional Modeling.\n",
    "  * Either of the approach data is scattered into multiple tables and relationships are defined.\n",
    "  * Typically tables are related with one to one, one to many, many to many relationships.\n",
    "* When we have 2 Data Sets that are related based on a common key we typically perform join.\n",
    "* There are different types of joins.\n",
    "  * INNER JOIN\n",
    "  * OUTER JOIN (LEFT or RIGHT)\n",
    "  * FULL OUTER JOIN (a LEFT OUTER JOIN b UNION a RIGHT OUTER JOIN b)\n",
    " "
   ]
  },
  {
   "cell_type": "markdown",
   "metadata": {},
   "source": [
    "## Solutions - Problem 1\n",
    "\n",
    "Get number of flights departed from each of the US airport."
   ]
  },
  {
   "cell_type": "code",
   "execution_count": 21,
   "metadata": {},
   "outputs": [],
   "source": [
    "from pyspark.sql.functions import col, lit, count"
   ]
  },
  {
   "cell_type": "code",
   "execution_count": 22,
   "metadata": {},
   "outputs": [],
   "source": [
    "airlines_path = \"/public/airlines_all/airlines-part/flightmonth=200801\""
   ]
  },
  {
   "cell_type": "code",
   "execution_count": 23,
   "metadata": {},
   "outputs": [],
   "source": [
    "airlines = spark. \\\n",
    "    read. \\\n",
    "    parquet(airlines_path)"
   ]
  },
  {
   "cell_type": "code",
   "execution_count": 24,
   "metadata": {},
   "outputs": [
    {
     "name": "stdout",
     "output_type": "stream",
     "text": [
      "+----+-----+----------+---------+-------+----------+-------+----------+-------------+---------+-------+-----------------+--------------+-------+--------+--------+------+----+--------+------+-------+---------+----------------+--------+------------+------------+--------+-------------+-----------------+------------+------------+\n",
      "|Year|Month|DayofMonth|DayOfWeek|DepTime|CRSDepTime|ArrTime|CRSArrTime|UniqueCarrier|FlightNum|TailNum|ActualElapsedTime|CRSElapsedTime|AirTime|ArrDelay|DepDelay|Origin|Dest|Distance|TaxiIn|TaxiOut|Cancelled|CancellationCode|Diverted|CarrierDelay|WeatherDelay|NASDelay|SecurityDelay|LateAircraftDelay|IsArrDelayed|IsDepDelayed|\n",
      "+----+-----+----------+---------+-------+----------+-------+----------+-------------+---------+-------+-----------------+--------------+-------+--------+--------+------+----+--------+------+-------+---------+----------------+--------+------------+------------+--------+-------------+-----------------+------------+------------+\n",
      "|2008|    1|        16|        3|   1725|      1735|   1959|      2021|           OH|     5367| N716CA|              154|           166|    146|     -22|     -10|   BGR| CVG|     906|     1|      7|        0|            null|       0|          NA|          NA|      NA|           NA|               NA|          NO|          NO|\n",
      "|2008|    1|        17|        4|   1717|      1701|   1915|      1855|           OH|     4977| N967CA|              118|           114|    101|      20|      16|   SYR| CVG|     527|     2|     15|        0|            null|       0|          16|           0|       4|            0|                0|         YES|         YES|\n",
      "|2008|    1|        17|        4|   1220|      1225|   1440|      1504|           OH|     5352| N709CA|              140|           159|    117|     -24|      -5|   SAV| BOS|     901|     8|     15|        0|            null|       0|          NA|          NA|      NA|           NA|               NA|          NO|          NO|\n",
      "|2008|    1|        17|        4|   1530|      1530|   1645|      1637|           OH|     5426| N779CA|               75|            67|     45|       8|       0|   CVG| GRR|     268|     5|     25|        0|            null|       0|          NA|          NA|      NA|           NA|               NA|         YES|          NO|\n",
      "|2008|    1|        17|        4|   1203|      1205|   1429|      1429|           OH|     5441| N809CA|               86|            84|     58|       0|      -2|   STL| CVG|     307|     3|     25|        0|            null|       0|          NA|          NA|      NA|           NA|               NA|          NO|          NO|\n",
      "|2008|    1|        18|        5|   1150|      1150|   1457|      1524|           OH|     5220| N436CA|              127|           154|    102|     -27|       0|   STL| JFK|     892|     4|     21|        0|            null|       0|          NA|          NA|      NA|           NA|               NA|          NO|          NO|\n",
      "|2008|    1|        18|        5|   1215|      1009|   1540|      1251|           OH|     5260| N446CA|              145|           102|    140|     169|     126|   MCI| CVG|     539|     2|      3|        0|            null|       0|         126|           0|      43|            0|                0|         YES|         YES|\n",
      "|2008|    1|        19|        6|    835|       835|   1145|      1130|           OH|     5276| N523CA|              130|           115|     83|      15|       0|   TUL| CVG|     646|     4|     43|        0|            null|       0|           0|           0|      15|            0|                0|         YES|          NO|\n",
      "|2008|    1|        20|        7|   1925|      1935|   2148|      2124|           OH|     5215| N729CA|              143|           109|     34|      24|     -10|   JFK| PHL|      94|     5|    104|        0|            null|       0|           0|           0|      24|            0|                0|         YES|          NO|\n",
      "|2008|    1|        20|        7|    825|       830|   1045|      1007|           OH|     5324| N933CA|              140|            97|     92|      38|      -5|   RDU| CVG|     390|     1|     47|        0|            null|       0|           0|           0|      38|            0|                0|         YES|          NO|\n",
      "|2008|    1|        21|        1|   1638|      1640|   1741|      1754|           OH|     4984| N719CA|               63|            74|     45|     -13|      -2|   CVG| DTW|     229|    10|      8|        0|            null|       0|          NA|          NA|      NA|           NA|               NA|          NO|          NO|\n",
      "|2008|    1|        21|        1|   1200|      1204|   1600|      1559|           OH|     5056| N371CA|              180|           175|    147|       1|      -4|   MSY| LGA|    1183|    13|     20|        0|            null|       0|          NA|          NA|      NA|           NA|               NA|         YES|          NO|\n",
      "|2008|    1|        21|        1|   1950|      1935|   2103|      2124|           OH|     5215| N965CA|               73|           109|     29|     -21|      15|   JFK| PHL|      94|     8|     36|        0|            null|       0|          NA|          NA|      NA|           NA|               NA|          NO|         YES|\n",
      "|2008|    1|        21|        1|   1950|      1830|   2225|      2007|           OH|     5595| N641CA|              155|            97|    136|     138|      80|   DCA| JFK|     213|    10|      9|        0|            null|       0|           0|          80|      58|            0|                0|         YES|         YES|\n",
      "|2008|    1|        21|        1|    700|       700|    955|       950|           OH|     5610| N964CA|              115|           110|     87|       5|       0|   HSV| DCA|     613|     8|     20|        0|            null|       0|          NA|          NA|      NA|           NA|               NA|         YES|          NO|\n",
      "|2008|    1|        22|        2|   2020|      1910|   2223|      2125|           OH|     5032| N538CA|               63|            75|     44|      58|      70|   ORD| CVG|     264|     1|     18|        0|            null|       0|           0|          58|       0|            0|                0|         YES|         YES|\n",
      "|2008|    1|        22|        2|   1320|      1320|   1600|      1528|           OH|     5331| N805CA|              160|           128|    102|      32|       0|   CVG| JFK|     589|    12|     46|        0|            null|       0|           0|           0|      32|            0|                0|         YES|          NO|\n",
      "|2008|    1|        23|        3|    908|       908|   1216|      1149|           OH|     5033| N963CA|              188|           161|    124|      27|       0|   LGA| SAV|     722|     6|     58|        0|            null|       0|           0|           0|      27|            0|                0|         YES|          NO|\n",
      "|2008|    1|        23|        3|   1245|      1252|   1409|      1430|           OH|     5050| N427CA|               84|            98|     73|     -21|      -7|   CLT| CVG|     335|     1|     10|        0|            null|       0|          NA|          NA|      NA|           NA|               NA|          NO|          NO|\n",
      "|2008|    1|        23|        3|    630|       635|    840|       831|           OH|     5355| N926CA|              130|           116|     85|       9|      -5|   GSP| LGA|     610|    20|     25|        0|            null|       0|          NA|          NA|      NA|           NA|               NA|         YES|          NO|\n",
      "+----+-----+----------+---------+-------+----------+-------+----------+-------------+---------+-------+-----------------+--------------+-------+--------+--------+------+----+--------+------+-------+---------+----------------+--------+------------+------------+--------+-------------+-----------------+------------+------------+\n",
      "only showing top 20 rows\n",
      "\n"
     ]
    }
   ],
   "source": [
    "airlines.show()"
   ]
  },
  {
   "cell_type": "code",
   "execution_count": 25,
   "metadata": {},
   "outputs": [
    {
     "name": "stdout",
     "output_type": "stream",
     "text": [
      "+----+-----+----------+------+----+----------+\n",
      "|Year|Month|DayOfMonth|Origin|Dest|CRSDepTime|\n",
      "+----+-----+----------+------+----+----------+\n",
      "|2008|    1|        16|   BGR| CVG|      1735|\n",
      "|2008|    1|        17|   SYR| CVG|      1701|\n",
      "|2008|    1|        17|   SAV| BOS|      1225|\n",
      "|2008|    1|        17|   CVG| GRR|      1530|\n",
      "|2008|    1|        17|   STL| CVG|      1205|\n",
      "|2008|    1|        18|   STL| JFK|      1150|\n",
      "|2008|    1|        18|   MCI| CVG|      1009|\n",
      "|2008|    1|        19|   TUL| CVG|       835|\n",
      "|2008|    1|        20|   JFK| PHL|      1935|\n",
      "|2008|    1|        20|   RDU| CVG|       830|\n",
      "|2008|    1|        21|   CVG| DTW|      1640|\n",
      "|2008|    1|        21|   MSY| LGA|      1204|\n",
      "|2008|    1|        21|   JFK| PHL|      1935|\n",
      "|2008|    1|        21|   DCA| JFK|      1830|\n",
      "|2008|    1|        21|   HSV| DCA|       700|\n",
      "|2008|    1|        22|   ORD| CVG|      1910|\n",
      "|2008|    1|        22|   CVG| JFK|      1320|\n",
      "|2008|    1|        23|   LGA| SAV|       908|\n",
      "|2008|    1|        23|   CLT| CVG|      1252|\n",
      "|2008|    1|        23|   GSP| LGA|       635|\n",
      "+----+-----+----------+------+----+----------+\n",
      "only showing top 20 rows\n",
      "\n"
     ]
    }
   ],
   "source": [
    "airlines.select(\"Year\", \"Month\", \"DayOfMonth\", \"Origin\", \"Dest\", \"CRSDepTime\").show()"
   ]
  },
  {
   "cell_type": "code",
   "execution_count": 26,
   "metadata": {},
   "outputs": [
    {
     "data": {
      "text/plain": [
       "605659"
      ]
     },
     "execution_count": 26,
     "metadata": {},
     "output_type": "execute_result"
    }
   ],
   "source": [
    "airlines.count()"
   ]
  },
  {
   "cell_type": "code",
   "execution_count": 27,
   "metadata": {},
   "outputs": [],
   "source": [
    "airport_codes_path = \"/public/airlines_all/airport-codes\""
   ]
  },
  {
   "cell_type": "code",
   "execution_count": 28,
   "metadata": {},
   "outputs": [],
   "source": [
    "airport_codes = spark. \\\n",
    "    read. \\\n",
    "    csv(airport_codes_path,\n",
    "        sep=\"\\t\",\n",
    "        header=True,\n",
    "        inferSchema=True\n",
    "       ). \\\n",
    "    filter(\"!(State = 'Hawaii' AND IATA = 'Big') AND Country='USA'\")"
   ]
  },
  {
   "cell_type": "code",
   "execution_count": 29,
   "metadata": {},
   "outputs": [
    {
     "data": {
      "text/plain": [
       "443"
      ]
     },
     "execution_count": 29,
     "metadata": {},
     "output_type": "execute_result"
    }
   ],
   "source": [
    "airport_codes.count()"
   ]
  },
  {
   "cell_type": "code",
   "execution_count": 30,
   "metadata": {},
   "outputs": [
    {
     "name": "stdout",
     "output_type": "stream",
     "text": [
      "+----+-----+----------+-------------+-----+-------+----+----------+\n",
      "|Year|Month|DayOfMonth|         City|State|Country|IATA|CRSDepTime|\n",
      "+----+-----+----------+-------------+-----+-------+----+----------+\n",
      "|2008|    1|        16|       Bangor|   ME|    USA| BGR|      1735|\n",
      "|2008|    1|        17|     Syracuse|   NY|    USA| SYR|      1701|\n",
      "|2008|    1|        17|     Savannah|   GA|    USA| SAV|      1225|\n",
      "|2008|    1|        17|   Cincinnati|   OH|    USA| CVG|      1530|\n",
      "|2008|    1|        17|    St. Louis|   MO|    USA| STL|      1205|\n",
      "|2008|    1|        18|    St. Louis|   MO|    USA| STL|      1150|\n",
      "|2008|    1|        18|  Kansas City|   MO|    USA| MCI|      1009|\n",
      "|2008|    1|        19|        Tulsa|   OK|    USA| TUL|       835|\n",
      "|2008|    1|        20|     New York|   NY|    USA| JFK|      1935|\n",
      "|2008|    1|        20|      Raleigh|   NC|    USA| RDU|       830|\n",
      "|2008|    1|        21|   Cincinnati|   OH|    USA| CVG|      1640|\n",
      "|2008|    1|        21|  New Orleans|   LA|    USA| MSY|      1204|\n",
      "|2008|    1|        21|     New York|   NY|    USA| JFK|      1935|\n",
      "|2008|    1|        21|Washington DC| null|    USA| DCA|      1830|\n",
      "|2008|    1|        21|   Huntsville|   AL|    USA| HSV|       700|\n",
      "|2008|    1|        22|      Chicago|   IL|    USA| ORD|      1910|\n",
      "|2008|    1|        22|   Cincinnati|   OH|    USA| CVG|      1320|\n",
      "|2008|    1|        23|     New York|   NY|    USA| LGA|       908|\n",
      "|2008|    1|        23|    Charlotte|   NC|    USA| CLT|      1252|\n",
      "|2008|    1|        23|   Greenville|   SC|    USA| GSP|       635|\n",
      "+----+-----+----------+-------------+-----+-------+----+----------+\n",
      "only showing top 20 rows\n",
      "\n"
     ]
    }
   ],
   "source": [
    "airlines. \\\n",
    "    join(airport_codes, col(\"IATA\") == col(\"Origin\")). \\\n",
    "    select(\"Year\", \"Month\", \"DayOfMonth\", airport_codes[\"*\"], \"CRSDepTime\"). \\\n",
    "    show()"
   ]
  },
  {
   "cell_type": "code",
   "execution_count": 31,
   "metadata": {},
   "outputs": [
    {
     "name": "stdout",
     "output_type": "stream",
     "text": [
      "+----+-----+----------+-------------+-----+-------+----+----------+\n",
      "|Year|Month|DayOfMonth|         City|State|Country|IATA|CRSDepTime|\n",
      "+----+-----+----------+-------------+-----+-------+----+----------+\n",
      "|2008|    1|        16|       Bangor|   ME|    USA| BGR|      1735|\n",
      "|2008|    1|        17|     Syracuse|   NY|    USA| SYR|      1701|\n",
      "|2008|    1|        17|     Savannah|   GA|    USA| SAV|      1225|\n",
      "|2008|    1|        17|   Cincinnati|   OH|    USA| CVG|      1530|\n",
      "|2008|    1|        17|    St. Louis|   MO|    USA| STL|      1205|\n",
      "|2008|    1|        18|    St. Louis|   MO|    USA| STL|      1150|\n",
      "|2008|    1|        18|  Kansas City|   MO|    USA| MCI|      1009|\n",
      "|2008|    1|        19|        Tulsa|   OK|    USA| TUL|       835|\n",
      "|2008|    1|        20|     New York|   NY|    USA| JFK|      1935|\n",
      "|2008|    1|        20|      Raleigh|   NC|    USA| RDU|       830|\n",
      "|2008|    1|        21|   Cincinnati|   OH|    USA| CVG|      1640|\n",
      "|2008|    1|        21|  New Orleans|   LA|    USA| MSY|      1204|\n",
      "|2008|    1|        21|     New York|   NY|    USA| JFK|      1935|\n",
      "|2008|    1|        21|Washington DC| null|    USA| DCA|      1830|\n",
      "|2008|    1|        21|   Huntsville|   AL|    USA| HSV|       700|\n",
      "|2008|    1|        22|      Chicago|   IL|    USA| ORD|      1910|\n",
      "|2008|    1|        22|   Cincinnati|   OH|    USA| CVG|      1320|\n",
      "|2008|    1|        23|     New York|   NY|    USA| LGA|       908|\n",
      "|2008|    1|        23|    Charlotte|   NC|    USA| CLT|      1252|\n",
      "|2008|    1|        23|   Greenville|   SC|    USA| GSP|       635|\n",
      "+----+-----+----------+-------------+-----+-------+----+----------+\n",
      "only showing top 20 rows\n",
      "\n"
     ]
    }
   ],
   "source": [
    "airlines. \\\n",
    "    join(airport_codes, airport_codes.IATA == airlines[\"Origin\"]). \\\n",
    "    select(\"Year\", \"Month\", \"DayOfMonth\", airport_codes[\"*\"], \"CRSDepTime\"). \\\n",
    "    show()"
   ]
  },
  {
   "cell_type": "code",
   "execution_count": 32,
   "metadata": {},
   "outputs": [
    {
     "data": {
      "text/plain": [
       "\u001b[0;31mSignature:\u001b[0m \u001b[0mairlines\u001b[0m\u001b[0;34m.\u001b[0m\u001b[0mjoin\u001b[0m\u001b[0;34m(\u001b[0m\u001b[0mother\u001b[0m\u001b[0;34m,\u001b[0m \u001b[0mon\u001b[0m\u001b[0;34m=\u001b[0m\u001b[0;32mNone\u001b[0m\u001b[0;34m,\u001b[0m \u001b[0mhow\u001b[0m\u001b[0;34m=\u001b[0m\u001b[0;32mNone\u001b[0m\u001b[0;34m)\u001b[0m\u001b[0;34m\u001b[0m\u001b[0;34m\u001b[0m\u001b[0m\n",
       "\u001b[0;31mDocstring:\u001b[0m\n",
       "Joins with another :class:`DataFrame`, using the given join expression.\n",
       "\n",
       ":param other: Right side of the join\n",
       ":param on: a string for the join column name, a list of column names,\n",
       "    a join expression (Column), or a list of Columns.\n",
       "    If `on` is a string or a list of strings indicating the name of the join column(s),\n",
       "    the column(s) must exist on both sides, and this performs an equi-join.\n",
       ":param how: str, default ``inner``. Must be one of: ``inner``, ``cross``, ``outer``,\n",
       "    ``full``, ``full_outer``, ``left``, ``left_outer``, ``right``, ``right_outer``,\n",
       "    ``left_semi``, and ``left_anti``.\n",
       "\n",
       "The following performs a full outer join between ``df1`` and ``df2``.\n",
       "\n",
       ">>> df.join(df2, df.name == df2.name, 'outer').select(df.name, df2.height).collect()\n",
       "[Row(name=None, height=80), Row(name='Bob', height=85), Row(name='Alice', height=None)]\n",
       "\n",
       ">>> df.join(df2, 'name', 'outer').select('name', 'height').collect()\n",
       "[Row(name='Tom', height=80), Row(name='Bob', height=85), Row(name='Alice', height=None)]\n",
       "\n",
       ">>> cond = [df.name == df3.name, df.age == df3.age]\n",
       ">>> df.join(df3, cond, 'outer').select(df.name, df3.age).collect()\n",
       "[Row(name='Alice', age=2), Row(name='Bob', age=5)]\n",
       "\n",
       ">>> df.join(df2, 'name').select(df.name, df2.height).collect()\n",
       "[Row(name='Bob', height=85)]\n",
       "\n",
       ">>> df.join(df4, ['name', 'age']).select(df.name, df.age).collect()\n",
       "[Row(name='Bob', age=5)]\n",
       "\n",
       ".. versionadded:: 1.3\n",
       "\u001b[0;31mFile:\u001b[0m      /opt/spark-2.4.7-bin-hadoop2.7/python/pyspark/sql/dataframe.py\n",
       "\u001b[0;31mType:\u001b[0m      method\n"
      ]
     },
     "metadata": {},
     "output_type": "display_data"
    }
   ],
   "source": [
    "airlines.join?"
   ]
  },
  {
   "cell_type": "code",
   "execution_count": 33,
   "metadata": {},
   "outputs": [],
   "source": [
    "flight_count_per_airport = airlines. \\\n",
    "    join(airport_codes, airport_codes.IATA == airlines.Origin). \\\n",
    "    groupBy(\"Origin\"). \\\n",
    "    agg(count(lit(1)).alias(\"FlightCount\")). \\\n",
    "    orderBy(col(\"FlightCount\").desc())"
   ]
  },
  {
   "cell_type": "code",
   "execution_count": 34,
   "metadata": {},
   "outputs": [
    {
     "name": "stdout",
     "output_type": "stream",
     "text": [
      "+------+-----------+\n",
      "|Origin|FlightCount|\n",
      "+------+-----------+\n",
      "|   ATL|      33897|\n",
      "|   ORD|      29936|\n",
      "|   DFW|      23861|\n",
      "|   DEN|      19477|\n",
      "|   LAX|      18945|\n",
      "|   PHX|      17695|\n",
      "|   IAH|      15531|\n",
      "|   LAS|      15292|\n",
      "|   DTW|      14357|\n",
      "|   EWR|      12467|\n",
      "|   SLC|      12401|\n",
      "|   MSP|      11800|\n",
      "|   SFO|      11573|\n",
      "|   MCO|      11070|\n",
      "|   CLT|      10752|\n",
      "|   LGA|      10300|\n",
      "|   JFK|      10023|\n",
      "|   BOS|       9717|\n",
      "|   BWI|       8883|\n",
      "|   CVG|       8659|\n",
      "+------+-----------+\n",
      "only showing top 20 rows\n",
      "\n"
     ]
    }
   ],
   "source": [
    "flight_count_per_airport.show()"
   ]
  },
  {
   "cell_type": "markdown",
   "metadata": {},
   "source": [
    "## Solutions - Problem 2\n",
    "\n",
    "Get number of flights departed from each of the state."
   ]
  },
  {
   "cell_type": "code",
   "execution_count": 35,
   "metadata": {},
   "outputs": [],
   "source": [
    "from pyspark.sql.functions import col, lit, count"
   ]
  },
  {
   "cell_type": "code",
   "execution_count": 36,
   "metadata": {},
   "outputs": [],
   "source": [
    "airlines_path = \"/public/airlines_all/airlines-part/flightmonth=200801\""
   ]
  },
  {
   "cell_type": "code",
   "execution_count": 37,
   "metadata": {},
   "outputs": [],
   "source": [
    "airlines = spark. \\\n",
    "    read. \\\n",
    "    parquet(airlines_path)"
   ]
  },
  {
   "cell_type": "code",
   "execution_count": 38,
   "metadata": {},
   "outputs": [],
   "source": [
    "airport_codes_path = \"/public/airlines_all/airport-codes\""
   ]
  },
  {
   "cell_type": "code",
   "execution_count": 39,
   "metadata": {},
   "outputs": [],
   "source": [
    "airport_codes = spark. \\\n",
    "    read. \\\n",
    "    csv(airport_codes_path,\n",
    "        sep=\"\\t\",\n",
    "        header=True,\n",
    "        inferSchema=True\n",
    "       ). \\\n",
    "    filter(\"!(State = 'Hawaii' AND IATA = 'Big') AND Country='USA'\")"
   ]
  },
  {
   "cell_type": "code",
   "execution_count": 40,
   "metadata": {},
   "outputs": [],
   "source": [
    "flight_count_per_state = airlines. \\\n",
    "    join(airport_codes, airport_codes.IATA == airlines.Origin). \\\n",
    "    groupBy(\"State\"). \\\n",
    "    agg(count(lit(1)).alias(\"FlightCount\")). \\\n",
    "    orderBy(col(\"FlightCount\").desc())"
   ]
  },
  {
   "cell_type": "code",
   "execution_count": 41,
   "metadata": {},
   "outputs": [
    {
     "name": "stdout",
     "output_type": "stream",
     "text": [
      "+-----+-----------+\n",
      "|State|FlightCount|\n",
      "+-----+-----------+\n",
      "|   CA|      72853|\n",
      "|   TX|      63930|\n",
      "|   FL|      41042|\n",
      "|   IL|      39812|\n",
      "|   GA|      35527|\n",
      "|   NY|      28414|\n",
      "|   CO|      23288|\n",
      "|   AZ|      20768|\n",
      "|   OH|      19209|\n",
      "|   NC|      17942|\n",
      "|   MI|      17824|\n",
      "|   NV|      17763|\n",
      "| null|      14090|\n",
      "|   TN|      13549|\n",
      "|   PA|      13491|\n",
      "|   UT|      12709|\n",
      "|   NJ|      12498|\n",
      "|   MN|      12357|\n",
      "|   MO|      11808|\n",
      "|   WA|      10210|\n",
      "+-----+-----------+\n",
      "only showing top 20 rows\n",
      "\n"
     ]
    }
   ],
   "source": [
    "flight_count_per_state.show()"
   ]
  },
  {
   "cell_type": "markdown",
   "metadata": {},
   "source": [
    "## Solutions - Problem 3\n",
    "\n",
    "Get the list of airports in the US from which flights are not departed."
   ]
  },
  {
   "cell_type": "code",
   "execution_count": 42,
   "metadata": {},
   "outputs": [],
   "source": [
    "airlines_path = \"/public/airlines_all/airlines-part/flightmonth=200801\""
   ]
  },
  {
   "cell_type": "code",
   "execution_count": 43,
   "metadata": {},
   "outputs": [],
   "source": [
    "airlines = spark. \\\n",
    "    read. \\\n",
    "    parquet(airlines_path)"
   ]
  },
  {
   "cell_type": "code",
   "execution_count": 44,
   "metadata": {},
   "outputs": [],
   "source": [
    "airport_codes_path = \"/public/airlines_all/airport-codes\""
   ]
  },
  {
   "cell_type": "code",
   "execution_count": 45,
   "metadata": {},
   "outputs": [],
   "source": [
    "airport_codes = spark. \\\n",
    "    read. \\\n",
    "    csv(airport_codes_path,\n",
    "        sep=\"\\t\",\n",
    "        header=True,\n",
    "        inferSchema=True\n",
    "       ). \\\n",
    "    filter(\"!(State = 'Hawaii' AND IATA = 'Big') AND Country='USA'\")"
   ]
  },
  {
   "cell_type": "code",
   "execution_count": 46,
   "metadata": {},
   "outputs": [
    {
     "name": "stdout",
     "output_type": "stream",
     "text": [
      "root\n",
      " |-- City: string (nullable = true)\n",
      " |-- State: string (nullable = true)\n",
      " |-- Country: string (nullable = true)\n",
      " |-- IATA: string (nullable = true)\n",
      "\n"
     ]
    }
   ],
   "source": [
    "airport_codes.printSchema()"
   ]
  },
  {
   "cell_type": "code",
   "execution_count": 47,
   "metadata": {},
   "outputs": [
    {
     "name": "stdout",
     "output_type": "stream",
     "text": [
      "+--------+-----+-------+----+----+-----+----------+------+----------+\n",
      "|    City|State|Country|IATA|Year|Month|DayOfMonth|Origin|CRSDepTime|\n",
      "+--------+-----+-------+----+----+-----+----------+------+----------+\n",
      "|Aberdeen|   SD|    USA| ABR|null| null|      null|  null|      null|\n",
      "| Abilene|   TX|    USA| ABI|2008|    1|         5|   ABI|       540|\n",
      "| Abilene|   TX|    USA| ABI|2008|    1|        17|   ABI|      1423|\n",
      "| Abilene|   TX|    USA| ABI|2008|    1|        21|   ABI|       640|\n",
      "| Abilene|   TX|    USA| ABI|2008|    1|         8|   ABI|       842|\n",
      "| Abilene|   TX|    USA| ABI|2008|    1|        15|   ABI|      1423|\n",
      "| Abilene|   TX|    USA| ABI|2008|    1|        13|   ABI|       540|\n",
      "| Abilene|   TX|    USA| ABI|2008|    1|        18|   ABI|       842|\n",
      "| Abilene|   TX|    USA| ABI|2008|    1|        25|   ABI|       640|\n",
      "| Abilene|   TX|    USA| ABI|2008|    1|         2|   ABI|       640|\n",
      "| Abilene|   TX|    USA| ABI|2008|    1|        30|   ABI|       640|\n",
      "| Abilene|   TX|    USA| ABI|2008|    1|        23|   ABI|      1150|\n",
      "| Abilene|   TX|    USA| ABI|2008|    1|         1|   ABI|      1735|\n",
      "| Abilene|   TX|    USA| ABI|2008|    1|        15|   ABI|       930|\n",
      "| Abilene|   TX|    USA| ABI|2008|    1|        26|   ABI|      1150|\n",
      "| Abilene|   TX|    USA| ABI|2008|    1|        13|   ABI|       930|\n",
      "| Abilene|   TX|    USA| ABI|2008|    1|         9|   ABI|      1150|\n",
      "| Abilene|   TX|    USA| ABI|2008|    1|         7|   ABI|       930|\n",
      "| Abilene|   TX|    USA| ABI|2008|    1|        28|   ABI|       842|\n",
      "| Abilene|   TX|    USA| ABI|2008|    1|        14|   ABI|      1150|\n",
      "+--------+-----+-------+----+----+-----+----------+------+----------+\n",
      "only showing top 20 rows\n",
      "\n"
     ]
    }
   ],
   "source": [
    "airports_not_used = airport_codes. \\\n",
    "    join(airlines, airport_codes.IATA == airlines.Origin, \"left\"). \\\n",
    "    select(airport_codes[\"*\"], \"Year\", \"Month\", \n",
    "           \"DayOfMonth\", \"Origin\", \"CRSDepTime\"). \\\n",
    "    show()"
   ]
  },
  {
   "cell_type": "code",
   "execution_count": 48,
   "metadata": {},
   "outputs": [],
   "source": [
    "airports_not_used = airport_codes. \\\n",
    "    join(airlines, airport_codes.IATA == airlines.Origin, \"left\"). \\\n",
    "    filter(airlines.Origin.isNull()). \\\n",
    "    select('City', 'State', 'Country', 'IATA')"
   ]
  },
  {
   "cell_type": "code",
   "execution_count": 49,
   "metadata": {},
   "outputs": [],
   "source": [
    "airports_not_used = airlines. \\\n",
    "    join(airport_codes, airport_codes.IATA == airlines.Origin, \"right\"). \\\n",
    "    filter(\"Origin IS NULL\"). \\\n",
    "    select('City', 'State', 'Country', 'IATA')"
   ]
  },
  {
   "cell_type": "code",
   "execution_count": 50,
   "metadata": {},
   "outputs": [
    {
     "data": {
      "text/plain": [
       "173"
      ]
     },
     "execution_count": 50,
     "metadata": {},
     "output_type": "execute_result"
    }
   ],
   "source": [
    "airports_not_used.count()"
   ]
  },
  {
   "cell_type": "code",
   "execution_count": 51,
   "metadata": {},
   "outputs": [
    {
     "name": "stdout",
     "output_type": "stream",
     "text": [
      "+-------------+-----+-------+----+\n",
      "|         City|State|Country|IATA|\n",
      "+-------------+-----+-------+----+\n",
      "|     Aberdeen|   SD|    USA| ABR|\n",
      "|      Abilene|   TX|    USA| ABI|\n",
      "|        Akron|   OH|    USA| CAK|\n",
      "|      Alamosa|   CO|    USA| ALS|\n",
      "|       Albany|   GA|    USA| ABY|\n",
      "|       Albany|   NY|    USA| ALB|\n",
      "|  Albuquerque|   NM|    USA| ABQ|\n",
      "|   Alexandria|   LA|    USA| AEX|\n",
      "|    Allentown|   PA|    USA| ABE|\n",
      "|     Alliance|   NE|    USA| AIA|\n",
      "|       Alpena|   MI|    USA| APN|\n",
      "|      Altoona|   PA|    USA| AOO|\n",
      "|     Amarillo|   TX|    USA| AMA|\n",
      "|    Anchorage|   AK|    USA| ANC|\n",
      "|     Appleton|   WI|    USA| ATW|\n",
      "|    Asheville|   NC|    USA| AVL|\n",
      "|        Aspen|   CO|    USA| ASE|\n",
      "|       Athens|   GA|    USA| AHN|\n",
      "|      Atlanta|   GA|    USA| ATL|\n",
      "|Atlantic City|   NJ|    USA| ACY|\n",
      "+-------------+-----+-------+----+\n",
      "only showing top 20 rows\n",
      "\n"
     ]
    }
   ],
   "source": [
    "airport_codes.show()"
   ]
  },
  {
   "cell_type": "markdown",
   "metadata": {},
   "source": [
    "## Solutions - Problem 4\n",
    "\n",
    "Check if there are any origins in airlines data which do not have record in airport-codes."
   ]
  },
  {
   "cell_type": "code",
   "execution_count": 52,
   "metadata": {},
   "outputs": [],
   "source": [
    "airlines_path = \"/public/airlines_all/airlines-part/flightmonth=200801\""
   ]
  },
  {
   "cell_type": "code",
   "execution_count": 53,
   "metadata": {},
   "outputs": [],
   "source": [
    "airlines = spark. \\\n",
    "    read. \\\n",
    "    parquet(airlines_path)"
   ]
  },
  {
   "cell_type": "code",
   "execution_count": 54,
   "metadata": {},
   "outputs": [],
   "source": [
    "airport_codes_path = \"/public/airlines_all/airport-codes\""
   ]
  },
  {
   "cell_type": "code",
   "execution_count": 55,
   "metadata": {},
   "outputs": [],
   "source": [
    "airport_codes = spark. \\\n",
    "    read. \\\n",
    "    csv(airport_codes_path,\n",
    "        sep=\"\\t\",\n",
    "        header=True,\n",
    "        inferSchema=True\n",
    "       ). \\\n",
    "    filter(\"!(State = 'Hawaii' AND IATA = 'Big')\")"
   ]
  },
  {
   "cell_type": "code",
   "execution_count": 56,
   "metadata": {},
   "outputs": [
    {
     "name": "stdout",
     "output_type": "stream",
     "text": [
      "+------+\n",
      "|Origin|\n",
      "+------+\n",
      "|   HDN|\n",
      "|   SJU|\n",
      "|   ITO|\n",
      "|   STT|\n",
      "|   CEC|\n",
      "|   CDC|\n",
      "|   PSG|\n",
      "|   ADK|\n",
      "|   KOA|\n",
      "|   OTZ|\n",
      "|   BQN|\n",
      "|   STX|\n",
      "|   PMD|\n",
      "|   PSE|\n",
      "|   SCC|\n",
      "|   SLE|\n",
      "+------+\n",
      "\n"
     ]
    }
   ],
   "source": [
    "airlines. \\\n",
    "    join(airport_codes, airlines.Origin == airport_codes.IATA, \"left\"). \\\n",
    "    filter(\"IATA IS NULL\"). \\\n",
    "    select(\"Origin\"). \\\n",
    "    distinct(). \\\n",
    "    show()"
   ]
  },
  {
   "cell_type": "code",
   "execution_count": 57,
   "metadata": {},
   "outputs": [
    {
     "data": {
      "text/plain": [
       "16"
      ]
     },
     "execution_count": 57,
     "metadata": {},
     "output_type": "execute_result"
    }
   ],
   "source": [
    "airlines. \\\n",
    "    join(airport_codes, airlines.Origin == airport_codes.IATA, \"left\"). \\\n",
    "    filter(\"IATA IS NULL\"). \\\n",
    "    select(\"Origin\"). \\\n",
    "    distinct(). \\\n",
    "    count()"
   ]
  },
  {
   "cell_type": "markdown",
   "metadata": {},
   "source": [
    "## Solutions - Problem 5\n",
    "\n",
    "Get the total number of flights from the airports that do not contain entries in airport-codes."
   ]
  },
  {
   "cell_type": "code",
   "execution_count": 58,
   "metadata": {},
   "outputs": [],
   "source": [
    "airlines_path = \"/public/airlines_all/airlines-part/flightmonth=200801\""
   ]
  },
  {
   "cell_type": "code",
   "execution_count": 59,
   "metadata": {},
   "outputs": [],
   "source": [
    "airlines = spark. \\\n",
    "    read. \\\n",
    "    parquet(airlines_path)"
   ]
  },
  {
   "cell_type": "code",
   "execution_count": null,
   "metadata": {},
   "outputs": [],
   "source": [
    "airport_codes_path = \"/public/airlines_all/airport-codes\""
   ]
  },
  {
   "cell_type": "code",
   "execution_count": null,
   "metadata": {},
   "outputs": [],
   "source": [
    "airport_codes = spark. \\\n",
    "    read. \\\n",
    "    csv(airport_codes_path,\n",
    "        sep=\"\\t\",\n",
    "        header=True,\n",
    "        inferSchema=True\n",
    "       ). \\\n",
    "    filter(\"!(State = 'Hawaii' AND IATA = 'Big')\")"
   ]
  },
  {
   "cell_type": "code",
   "execution_count": null,
   "metadata": {},
   "outputs": [],
   "source": [
    "airlines. \\\n",
    "    join(airport_codes, airlines.Origin == airport_codes.IATA, \"left\"). \\\n",
    "    filter(\"IATA IS NULL\"). \\\n",
    "    count()"
   ]
  },
  {
   "cell_type": "markdown",
   "metadata": {},
   "source": [
    "## Solutions - Problem 6\n",
    "\n",
    "Get the total number of flights per airport that do not contain entries in airport-codes."
   ]
  },
  {
   "cell_type": "code",
   "execution_count": null,
   "metadata": {},
   "outputs": [],
   "source": [
    "airlines_path = \"/public/airlines_all/airlines-part/flightmonth=200801\""
   ]
  },
  {
   "cell_type": "code",
   "execution_count": null,
   "metadata": {},
   "outputs": [],
   "source": [
    "airlines = spark. \\\n",
    "    read. \\\n",
    "    parquet(airlines_path)"
   ]
  },
  {
   "cell_type": "code",
   "execution_count": null,
   "metadata": {},
   "outputs": [],
   "source": [
    "airport_codes_path = \"/public/airlines_all/airport-codes\"\n",
    "airport_codes = spark. \\\n",
    "    read. \\\n",
    "    csv(airport_codes_path,\n",
    "        sep=\"\\t\",\n",
    "        header=True,\n",
    "        inferSchema=True\n",
    "       ). \\\n",
    "    filter(\"!(State = 'Hawaii' AND IATA = 'Big')\")"
   ]
  },
  {
   "cell_type": "code",
   "execution_count": null,
   "metadata": {},
   "outputs": [],
   "source": [
    "airlines. \\\n",
    "    join(airport_codes, airlines.Origin == airport_codes.IATA, \"left\"). \\\n",
    "    filter(\"IATA IS NULL\"). \\\n",
    "    groupBy(\"Origin\"). \\\n",
    "    count(). \\\n",
    "    show()"
   ]
  },
  {
   "cell_type": "code",
   "execution_count": null,
   "metadata": {},
   "outputs": [],
   "source": []
  }
 ],
 "metadata": {
  "kernelspec": {
   "display_name": "Python 3 (ipykernel)",
   "language": "python",
   "name": "python3"
  },
  "language_info": {
   "codemirror_mode": {
    "name": "ipython",
    "version": 3
   },
   "file_extension": ".py",
   "mimetype": "text/x-python",
   "name": "python",
   "nbconvert_exporter": "python",
   "pygments_lexer": "ipython3",
   "version": "3.11.4"
  },
  "pycharm": {
   "stem_cell": {
    "cell_type": "raw",
    "metadata": {
     "collapsed": false
    },
    "source": []
   }
  }
 },
 "nbformat": 4,
 "nbformat_minor": 4
}
