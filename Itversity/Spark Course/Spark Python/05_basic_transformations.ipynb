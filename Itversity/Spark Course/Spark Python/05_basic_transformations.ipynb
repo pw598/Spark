{
 "cells": [
  {
   "cell_type": "markdown",
   "metadata": {},
   "source": [
    "# Basic Transformations\n",
    "\n",
    "## Overview of Basic Transformations\n",
    "\n",
    "Let us define problem statements to learn more about Data Frame APIs. We will try to cover filtering, aggregations and sorting as part of solutions for these problem statements.\n",
    "* Get total number of flights as well as number of flights which are delayed in departure and number of flights delayed in arrival. \n",
    "  * Output should contain 3 columns - **FlightCount**, **DepDelayedCount**, **ArrDelayedCount**\n",
    "* Get number of flights which are delayed in departure and number of flights delayed in arrival for each day along with number of flights departed for each day. \n",
    "  * Output should contain 4 columns - **FlightDate**, **FlightCount**, **DepDelayedCount**, **ArrDelayedCount**\n",
    "  * **FlightDate** should be of **YYYY-MM-dd** format.\n",
    "  * Data should be **sorted** in ascending order by **flightDate**\n",
    "* Get all the flights which are departed late but arrived early (**IsArrDelayed is NO**).\n",
    "  * Output should contain - **FlightCRSDepTime**, **UniqueCarrier**, **FlightNum**, **Origin**, **Dest**, **DepDelay**, **ArrDelay**\n",
    "  * **FlightCRSDepTime** need to be computed using **Year**, **Month**, **DayOfMonth**, **CRSDepTime**\n",
    "  * **FlightCRSDepTime** should be displayed using **YYYY-MM-dd HH:mm** format.\n",
    "  * Output should be sorted by **FlightCRSDepTime** and then by the difference between **DepDelay** and **ArrDelay**\n",
    "  * Also get the count of such flights"
   ]
  },
  {
   "cell_type": "markdown",
   "metadata": {},
   "source": [
    "## Starting Spark Context\n",
    "\n",
    "Let us start spark context for this Notebook so that we can execute the code provided."
   ]
  },
  {
   "cell_type": "code",
   "execution_count": 1,
   "metadata": {},
   "outputs": [],
   "source": [
    "from pyspark.sql import SparkSession\n",
    "\n",
    "spark = SparkSession. \\\n",
    "    builder. \\\n",
    "    config(\"spark.ui.port\", \"0\"). \\\n",
    "    enableHiveSupport(). \\\n",
    "    appName(\"Processing Column Data\"). \\\n",
    "    master(\"yarn\"). \\\n",
    "    getOrCreate()"
   ]
  },
  {
   "cell_type": "markdown",
   "metadata": {},
   "source": [
    " \n",
    "## Overview of Filtering\n",
    "Let us understand few important details related to filtering before we get into the solution\n",
    "* Filtering can be done either by using `filter` or `>where`. These are like synonyms to each other.\n",
    "* When it comes to the condition, we can either pass it in **SQL Style** or **Data Frame Style**.\n",
    "* Example for SQL Style - `airlines.filter(\"IsArrDelayed = 'YES'\").show() or airlines.where(\"IsArrDelayed = 'YES'\").show()`\n",
    "* Example for Data Frame Style - `airlines.filter(airlines[\"IsArrDelayed\"] == 'YES').show()</mark> or <mark>airlines.filter(airlines.IsArrDelayed == 'YES').show()`. We can also use where instead of filter.\n",
    "* Here are the other operations we can perform to filter the data - `!=`, `>`, `<`>, `>=`, `<=`, `LIKE`, `BETWEEN` with `AND`\n",
    "* If we have to validate against multiple columns then we need to use boolean operations such as `AND` and `OR`.\n",
    "* If we have to compare each column value with multiple values then we can use the `IN` operator.\n",
    "    "
   ]
  },
  {
   "cell_type": "markdown",
   "metadata": {},
   "source": [
    "### Tasks\n",
    "\n",
    "Let us perform some tasks to understand filtering in detail. Solve all the problems by passing  conditions using both SQL Style as well as API Style.\n",
    "\n",
    "* Read the data for the month of 2008 January."
   ]
  },
  {
   "cell_type": "code",
   "execution_count": 2,
   "metadata": {
    "pycharm": {
     "name": "#%%\n"
    }
   },
   "outputs": [],
   "source": [
    "airlines_path = \"/public/airlines_all/airlines-part/flightmonth=200801\""
   ]
  },
  {
   "cell_type": "code",
   "execution_count": 3,
   "metadata": {
    "pycharm": {
     "name": "#%%\n"
    }
   },
   "outputs": [],
   "source": [
    "airlines = spark. \\\n",
    "    read. \\\n",
    "    parquet(airlines_path)"
   ]
  },
  {
   "cell_type": "code",
   "execution_count": 4,
   "metadata": {
    "pycharm": {
     "name": "#%%\n"
    }
   },
   "outputs": [
    {
     "name": "stdout",
     "output_type": "stream",
     "text": [
      "root\n",
      " |-- Year: integer (nullable = true)\n",
      " |-- Month: integer (nullable = true)\n",
      " |-- DayofMonth: integer (nullable = true)\n",
      " |-- DayOfWeek: integer (nullable = true)\n",
      " |-- DepTime: string (nullable = true)\n",
      " |-- CRSDepTime: integer (nullable = true)\n",
      " |-- ArrTime: string (nullable = true)\n",
      " |-- CRSArrTime: integer (nullable = true)\n",
      " |-- UniqueCarrier: string (nullable = true)\n",
      " |-- FlightNum: integer (nullable = true)\n",
      " |-- TailNum: string (nullable = true)\n",
      " |-- ActualElapsedTime: string (nullable = true)\n",
      " |-- CRSElapsedTime: integer (nullable = true)\n",
      " |-- AirTime: string (nullable = true)\n",
      " |-- ArrDelay: string (nullable = true)\n",
      " |-- DepDelay: string (nullable = true)\n",
      " |-- Origin: string (nullable = true)\n",
      " |-- Dest: string (nullable = true)\n",
      " |-- Distance: string (nullable = true)\n",
      " |-- TaxiIn: string (nullable = true)\n",
      " |-- TaxiOut: string (nullable = true)\n",
      " |-- Cancelled: integer (nullable = true)\n",
      " |-- CancellationCode: string (nullable = true)\n",
      " |-- Diverted: integer (nullable = true)\n",
      " |-- CarrierDelay: string (nullable = true)\n",
      " |-- WeatherDelay: string (nullable = true)\n",
      " |-- NASDelay: string (nullable = true)\n",
      " |-- SecurityDelay: string (nullable = true)\n",
      " |-- LateAircraftDelay: string (nullable = true)\n",
      " |-- IsArrDelayed: string (nullable = true)\n",
      " |-- IsDepDelayed: string (nullable = true)\n",
      "\n"
     ]
    }
   ],
   "source": [
    "airlines.printSchema()"
   ]
  },
  {
   "cell_type": "markdown",
   "metadata": {},
   "source": [
    "* Get count of flights which are departed late at origin and reach destination early or on time.\n"
   ]
  },
  {
   "cell_type": "code",
   "execution_count": 5,
   "metadata": {
    "pycharm": {
     "name": "#%%\n"
    }
   },
   "outputs": [
    {
     "data": {
      "text/plain": [
       "54233"
      ]
     },
     "execution_count": 5,
     "metadata": {},
     "output_type": "execute_result"
    }
   ],
   "source": [
    "airlines. \\\n",
    "    filter(\"IsDepDelayed = 'YES' AND IsArrDelayed = 'NO'\"). \\\n",
    "    count()"
   ]
  },
  {
   "cell_type": "markdown",
   "metadata": {},
   "source": [
    "* API Style"
   ]
  },
  {
   "cell_type": "code",
   "execution_count": 6,
   "metadata": {
    "pycharm": {
     "name": "#%%\n"
    }
   },
   "outputs": [],
   "source": [
    "from pyspark.sql.functions import col"
   ]
  },
  {
   "cell_type": "code",
   "execution_count": 7,
   "metadata": {
    "pycharm": {
     "name": "#%%\n"
    }
   },
   "outputs": [
    {
     "data": {
      "text/plain": [
       "54233"
      ]
     },
     "execution_count": 7,
     "metadata": {},
     "output_type": "execute_result"
    }
   ],
   "source": [
    "airlines. \\\n",
    "    filter((col(\"IsDepDelayed\") == \"YES\") & \n",
    "           (col(\"IsArrDelayed\") == \"NO\")\n",
    "          ). \\\n",
    "    count()"
   ]
  },
  {
   "cell_type": "code",
   "execution_count": 8,
   "metadata": {},
   "outputs": [
    {
     "data": {
      "text/plain": [
       "54233"
      ]
     },
     "execution_count": 8,
     "metadata": {},
     "output_type": "execute_result"
    }
   ],
   "source": [
    "airlines. \\\n",
    "    filter((airlines[\"IsDepDelayed\"] == \"YES\") & \n",
    "           (airlines.IsArrDelayed == \"NO\")\n",
    "          ). \\\n",
    "    count()"
   ]
  },
  {
   "cell_type": "markdown",
   "metadata": {},
   "source": [
    "* Get count of flights which are departed late from origin by more than 60 minutes.\n"
   ]
  },
  {
   "cell_type": "code",
   "execution_count": 9,
   "metadata": {
    "pycharm": {
     "name": "#%%\n"
    }
   },
   "outputs": [
    {
     "data": {
      "text/plain": [
       "40104"
      ]
     },
     "execution_count": 9,
     "metadata": {},
     "output_type": "execute_result"
    }
   ],
   "source": [
    "airlines. \\\n",
    "    filter(\"DepDelay > 60\"). \\\n",
    "    count()"
   ]
  },
  {
   "cell_type": "markdown",
   "metadata": {},
   "source": [
    "\n",
    "* API Style"
   ]
  },
  {
   "cell_type": "code",
   "execution_count": 10,
   "metadata": {
    "pycharm": {
     "name": "#%%\n"
    }
   },
   "outputs": [
    {
     "data": {
      "text/plain": [
       "40104"
      ]
     },
     "execution_count": 10,
     "metadata": {},
     "output_type": "execute_result"
    }
   ],
   "source": [
    "from pyspark.sql.functions import col\n",
    "\n",
    "airlines. \\\n",
    "    filter(col(\"DepDelay\") > 60). \\\n",
    "    count()"
   ]
  },
  {
   "cell_type": "markdown",
   "metadata": {},
   "source": [
    "* Get count of flights which are departed early or on time but arrive late by at least 15 minutes.\n"
   ]
  },
  {
   "cell_type": "code",
   "execution_count": 11,
   "metadata": {
    "pycharm": {
     "name": "#%%\n"
    }
   },
   "outputs": [
    {
     "data": {
      "text/plain": [
       "20705"
      ]
     },
     "execution_count": 11,
     "metadata": {},
     "output_type": "execute_result"
    }
   ],
   "source": [
    "airlines. \\\n",
    "    filter(\"IsDepDelayed = 'NO' AND ArrDelay >= 15\"). \\\n",
    "    count()"
   ]
  },
  {
   "cell_type": "markdown",
   "metadata": {},
   "source": [
    "* API Style"
   ]
  },
  {
   "cell_type": "code",
   "execution_count": 12,
   "metadata": {
    "pycharm": {
     "name": "#%%\n"
    }
   },
   "outputs": [
    {
     "data": {
      "text/plain": [
       "20705"
      ]
     },
     "execution_count": 12,
     "metadata": {},
     "output_type": "execute_result"
    }
   ],
   "source": [
    "from pyspark.sql.functions import col\n",
    "\n",
    "airlines. \\\n",
    "    filter((col(\"IsDepDelayed\") == \"NO\") & (col(\"ArrDelay\") >= 15)). \\\n",
    "    count()"
   ]
  },
  {
   "cell_type": "markdown",
   "metadata": {},
   "source": [
    "* Get count of flights departed from following major airports - ORD, DFW, ATL, LAX, SFO."
   ]
  },
  {
   "cell_type": "code",
   "execution_count": 13,
   "metadata": {
    "pycharm": {
     "name": "#%% \n"
    }
   },
   "outputs": [
    {
     "data": {
      "text/plain": [
       "118212"
      ]
     },
     "execution_count": 13,
     "metadata": {},
     "output_type": "execute_result"
    }
   ],
   "source": [
    "airlines. \\\n",
    "    filter(\"Origin IN ('ORD', 'DFW', 'ATL', 'LAX', 'SFO')\"). \\\n",
    "    count()"
   ]
  },
  {
   "cell_type": "code",
   "execution_count": 14,
   "metadata": {},
   "outputs": [
    {
     "data": {
      "text/plain": [
       "605659"
      ]
     },
     "execution_count": 14,
     "metadata": {},
     "output_type": "execute_result"
    }
   ],
   "source": [
    "airlines.count()"
   ]
  },
  {
   "cell_type": "markdown",
   "metadata": {},
   "source": [
    "* API Style"
   ]
  },
  {
   "cell_type": "code",
   "execution_count": 15,
   "metadata": {},
   "outputs": [
    {
     "name": "stdout",
     "output_type": "stream",
     "text": [
      "Help on method isin in module pyspark.sql.column:\n",
      "\n",
      "isin(*cols) method of pyspark.sql.column.Column instance\n",
      "    A boolean expression that is evaluated to true if the value of this\n",
      "    expression is contained by the evaluated values of the arguments.\n",
      "    \n",
      "    >>> df[df.name.isin(\"Bob\", \"Mike\")].collect()\n",
      "    [Row(age=5, name='Bob')]\n",
      "    >>> df[df.age.isin([1, 2, 3])].collect()\n",
      "    [Row(age=2, name='Alice')]\n",
      "    \n",
      "    .. versionadded:: 1.5\n",
      "\n"
     ]
    }
   ],
   "source": [
    "from pyspark.sql.functions import col\n",
    "c = col('x')\n",
    "help(c.isin)"
   ]
  },
  {
   "cell_type": "code",
   "execution_count": 16,
   "metadata": {
    "pycharm": {
     "name": "#%%\n"
    }
   },
   "outputs": [
    {
     "data": {
      "text/plain": [
       "118212"
      ]
     },
     "execution_count": 16,
     "metadata": {},
     "output_type": "execute_result"
    }
   ],
   "source": [
    "from pyspark.sql.functions import col\n",
    "\n",
    "airlines. \\\n",
    "    filter(col(\"Origin\").isin(\"ORD\", \"DFW\", \"ATL\", \"LAX\", \"SFO\")). \\\n",
    "    count()"
   ]
  },
  {
   "cell_type": "markdown",
   "metadata": {},
   "source": [
    "* Add a column FlightDate by using Year, Month and DayOfMonth. Format should be **yyyyMMdd**.\n"
   ]
  },
  {
   "cell_type": "code",
   "execution_count": 17,
   "metadata": {
    "pycharm": {
     "name": "#%%\n"
    }
   },
   "outputs": [
    {
     "name": "stdout",
     "output_type": "stream",
     "text": [
      "+----+-----+----------+---------+-------+----------+-------+----------+-------------+---------+-------+-----------------+--------------+-------+--------+--------+------+----+--------+------+-------+---------+----------------+--------+------------+------------+--------+-------------+-----------------+------------+------------+----------+\n",
      "|Year|Month|DayofMonth|DayOfWeek|DepTime|CRSDepTime|ArrTime|CRSArrTime|UniqueCarrier|FlightNum|TailNum|ActualElapsedTime|CRSElapsedTime|AirTime|ArrDelay|DepDelay|Origin|Dest|Distance|TaxiIn|TaxiOut|Cancelled|CancellationCode|Diverted|CarrierDelay|WeatherDelay|NASDelay|SecurityDelay|LateAircraftDelay|IsArrDelayed|IsDepDelayed|FlightDate|\n",
      "+----+-----+----------+---------+-------+----------+-------+----------+-------------+---------+-------+-----------------+--------------+-------+--------+--------+------+----+--------+------+-------+---------+----------------+--------+------------+------------+--------+-------------+-----------------+------------+------------+----------+\n",
      "|2008|    1|        16|        3|   1725|      1735|   1959|      2021|           OH|     5367| N716CA|              154|           166|    146|     -22|     -10|   BGR| CVG|     906|     1|      7|        0|            null|       0|          NA|          NA|      NA|           NA|               NA|          NO|          NO|  20080116|\n",
      "|2008|    1|        17|        4|   1717|      1701|   1915|      1855|           OH|     4977| N967CA|              118|           114|    101|      20|      16|   SYR| CVG|     527|     2|     15|        0|            null|       0|          16|           0|       4|            0|                0|         YES|         YES|  20080117|\n",
      "|2008|    1|        17|        4|   1220|      1225|   1440|      1504|           OH|     5352| N709CA|              140|           159|    117|     -24|      -5|   SAV| BOS|     901|     8|     15|        0|            null|       0|          NA|          NA|      NA|           NA|               NA|          NO|          NO|  20080117|\n",
      "|2008|    1|        17|        4|   1530|      1530|   1645|      1637|           OH|     5426| N779CA|               75|            67|     45|       8|       0|   CVG| GRR|     268|     5|     25|        0|            null|       0|          NA|          NA|      NA|           NA|               NA|         YES|          NO|  20080117|\n",
      "|2008|    1|        17|        4|   1203|      1205|   1429|      1429|           OH|     5441| N809CA|               86|            84|     58|       0|      -2|   STL| CVG|     307|     3|     25|        0|            null|       0|          NA|          NA|      NA|           NA|               NA|          NO|          NO|  20080117|\n",
      "|2008|    1|        18|        5|   1150|      1150|   1457|      1524|           OH|     5220| N436CA|              127|           154|    102|     -27|       0|   STL| JFK|     892|     4|     21|        0|            null|       0|          NA|          NA|      NA|           NA|               NA|          NO|          NO|  20080118|\n",
      "|2008|    1|        18|        5|   1215|      1009|   1540|      1251|           OH|     5260| N446CA|              145|           102|    140|     169|     126|   MCI| CVG|     539|     2|      3|        0|            null|       0|         126|           0|      43|            0|                0|         YES|         YES|  20080118|\n",
      "|2008|    1|        19|        6|    835|       835|   1145|      1130|           OH|     5276| N523CA|              130|           115|     83|      15|       0|   TUL| CVG|     646|     4|     43|        0|            null|       0|           0|           0|      15|            0|                0|         YES|          NO|  20080119|\n",
      "|2008|    1|        20|        7|   1925|      1935|   2148|      2124|           OH|     5215| N729CA|              143|           109|     34|      24|     -10|   JFK| PHL|      94|     5|    104|        0|            null|       0|           0|           0|      24|            0|                0|         YES|          NO|  20080120|\n",
      "|2008|    1|        20|        7|    825|       830|   1045|      1007|           OH|     5324| N933CA|              140|            97|     92|      38|      -5|   RDU| CVG|     390|     1|     47|        0|            null|       0|           0|           0|      38|            0|                0|         YES|          NO|  20080120|\n",
      "|2008|    1|        21|        1|   1638|      1640|   1741|      1754|           OH|     4984| N719CA|               63|            74|     45|     -13|      -2|   CVG| DTW|     229|    10|      8|        0|            null|       0|          NA|          NA|      NA|           NA|               NA|          NO|          NO|  20080121|\n",
      "|2008|    1|        21|        1|   1200|      1204|   1600|      1559|           OH|     5056| N371CA|              180|           175|    147|       1|      -4|   MSY| LGA|    1183|    13|     20|        0|            null|       0|          NA|          NA|      NA|           NA|               NA|         YES|          NO|  20080121|\n",
      "|2008|    1|        21|        1|   1950|      1935|   2103|      2124|           OH|     5215| N965CA|               73|           109|     29|     -21|      15|   JFK| PHL|      94|     8|     36|        0|            null|       0|          NA|          NA|      NA|           NA|               NA|          NO|         YES|  20080121|\n",
      "|2008|    1|        21|        1|   1950|      1830|   2225|      2007|           OH|     5595| N641CA|              155|            97|    136|     138|      80|   DCA| JFK|     213|    10|      9|        0|            null|       0|           0|          80|      58|            0|                0|         YES|         YES|  20080121|\n",
      "|2008|    1|        21|        1|    700|       700|    955|       950|           OH|     5610| N964CA|              115|           110|     87|       5|       0|   HSV| DCA|     613|     8|     20|        0|            null|       0|          NA|          NA|      NA|           NA|               NA|         YES|          NO|  20080121|\n",
      "|2008|    1|        22|        2|   2020|      1910|   2223|      2125|           OH|     5032| N538CA|               63|            75|     44|      58|      70|   ORD| CVG|     264|     1|     18|        0|            null|       0|           0|          58|       0|            0|                0|         YES|         YES|  20080122|\n",
      "|2008|    1|        22|        2|   1320|      1320|   1600|      1528|           OH|     5331| N805CA|              160|           128|    102|      32|       0|   CVG| JFK|     589|    12|     46|        0|            null|       0|           0|           0|      32|            0|                0|         YES|          NO|  20080122|\n",
      "|2008|    1|        23|        3|    908|       908|   1216|      1149|           OH|     5033| N963CA|              188|           161|    124|      27|       0|   LGA| SAV|     722|     6|     58|        0|            null|       0|           0|           0|      27|            0|                0|         YES|          NO|  20080123|\n",
      "|2008|    1|        23|        3|   1245|      1252|   1409|      1430|           OH|     5050| N427CA|               84|            98|     73|     -21|      -7|   CLT| CVG|     335|     1|     10|        0|            null|       0|          NA|          NA|      NA|           NA|               NA|          NO|          NO|  20080123|\n",
      "|2008|    1|        23|        3|    630|       635|    840|       831|           OH|     5355| N926CA|              130|           116|     85|       9|      -5|   GSP| LGA|     610|    20|     25|        0|            null|       0|          NA|          NA|      NA|           NA|               NA|         YES|          NO|  20080123|\n",
      "+----+-----+----------+---------+-------+----------+-------+----------+-------------+---------+-------+-----------------+--------------+-------+--------+--------+------+----+--------+------+-------+---------+----------------+--------+------------+------------+--------+-------------+-----------------+------------+------------+----------+\n",
      "only showing top 20 rows\n",
      "\n"
     ]
    }
   ],
   "source": [
    "from pyspark.sql.functions import col, concat, lpad\n",
    "\n",
    "airlines. \\\n",
    "    withColumn(\"FlightDate\",\n",
    "                concat(col(\"Year\"),\n",
    "                       lpad(col(\"Month\"), 2, \"0\"),\n",
    "                       lpad(col(\"DayOfMonth\"), 2, \"0\")\n",
    "                      )\n",
    "              ). \\\n",
    "    show()"
   ]
  },
  {
   "cell_type": "markdown",
   "metadata": {},
   "source": [
    "* Get count of flights departed late between 2008 January 1st to January 9th using FlightDate.\n"
   ]
  },
  {
   "cell_type": "code",
   "execution_count": 18,
   "metadata": {
    "pycharm": {
     "name": "#%%\n"
    }
   },
   "outputs": [
    {
     "data": {
      "text/plain": [
       "91045"
      ]
     },
     "execution_count": 18,
     "metadata": {},
     "output_type": "execute_result"
    }
   ],
   "source": [
    "from pyspark.sql.functions import col, concat, lpad\n",
    "\n",
    "airlines. \\\n",
    "    withColumn(\"FlightDate\",\n",
    "               concat(col(\"Year\"),\n",
    "                      lpad(col(\"Month\"), 2, \"0\"),\n",
    "                      lpad(col(\"DayOfMonth\"), 2, \"0\")\n",
    "                     )\n",
    "              ). \\\n",
    "    filter(\"IsDepDelayed = 'YES' AND FlightDate LIKE '2008010%'\"). \\\n",
    "    count()"
   ]
  },
  {
   "cell_type": "code",
   "execution_count": 19,
   "metadata": {
    "pycharm": {
     "name": "#%%\n"
    }
   },
   "outputs": [
    {
     "data": {
      "text/plain": [
       "91045"
      ]
     },
     "execution_count": 19,
     "metadata": {},
     "output_type": "execute_result"
    }
   ],
   "source": [
    "from pyspark.sql.functions import col, concat, lpad\n",
    "\n",
    "airlines. \\\n",
    "    withColumn(\"FlightDate\",\n",
    "               concat(col(\"Year\"),\n",
    "                      lpad(col(\"Month\"), 2, \"0\"),\n",
    "                      lpad(col(\"DayOfMonth\"), 2, \"0\")\n",
    "                     )\n",
    "              ). \\\n",
    "    filter(\"\"\"\n",
    "           IsDepDelayed = 'YES' AND \n",
    "           FlightDate BETWEEN 20080101 AND 20080109\n",
    "          \"\"\"). \\\n",
    "    count()"
   ]
  },
  {
   "cell_type": "markdown",
   "metadata": {},
   "source": [
    "* API Style"
   ]
  },
  {
   "cell_type": "code",
   "execution_count": 20,
   "metadata": {},
   "outputs": [
    {
     "name": "stdout",
     "output_type": "stream",
     "text": [
      "Help on method _ in module pyspark.sql.column:\n",
      "\n",
      "_(other) method of pyspark.sql.column.Column instance\n",
      "    SQL like expression. Returns a boolean :class:`Column` based on a SQL LIKE match.\n",
      "    \n",
      "    :param other: a SQL LIKE pattern\n",
      "    \n",
      "    See :func:`rlike` for a regex version\n",
      "    \n",
      "    >>> df.filter(df.name.like('Al%')).collect()\n",
      "    [Row(age=2, name='Alice')]\n",
      "\n"
     ]
    }
   ],
   "source": [
    "from pyspark.sql.functions import col\n",
    "c = col('x')\n",
    "help(c.like)"
   ]
  },
  {
   "cell_type": "code",
   "execution_count": 21,
   "metadata": {
    "pycharm": {
     "name": "#%%\n"
    }
   },
   "outputs": [
    {
     "data": {
      "text/plain": [
       "91045"
      ]
     },
     "execution_count": 21,
     "metadata": {},
     "output_type": "execute_result"
    }
   ],
   "source": [
    "from pyspark.sql.functions import col, concat, lpad\n",
    "\n",
    "airlines. \\\n",
    "    withColumn(\"FlightDate\",\n",
    "               concat(col(\"Year\"),\n",
    "                      lpad(col(\"Month\"), 2, \"0\"),\n",
    "                      lpad(col(\"DayOfMonth\"), 2, \"0\")\n",
    "                     )\n",
    "              ). \\\n",
    "    filter((col(\"IsDepDelayed\") == \"YES\") & \n",
    "           (col(\"FlightDate\").like(\"2008010%\"))\n",
    "          ). \\\n",
    "    count()"
   ]
  },
  {
   "cell_type": "code",
   "execution_count": 22,
   "metadata": {},
   "outputs": [
    {
     "name": "stdout",
     "output_type": "stream",
     "text": [
      "Help on method between in module pyspark.sql.column:\n",
      "\n",
      "between(lowerBound, upperBound) method of pyspark.sql.column.Column instance\n",
      "    A boolean expression that is evaluated to true if the value of this\n",
      "    expression is between the given columns.\n",
      "    \n",
      "    >>> df.select(df.name, df.age.between(2, 4)).show()\n",
      "    +-----+---------------------------+\n",
      "    | name|((age >= 2) AND (age <= 4))|\n",
      "    +-----+---------------------------+\n",
      "    |Alice|                       true|\n",
      "    |  Bob|                      false|\n",
      "    +-----+---------------------------+\n",
      "    \n",
      "    .. versionadded:: 1.3\n",
      "\n"
     ]
    }
   ],
   "source": [
    "from pyspark.sql.functions import col\n",
    "c = col('x')\n",
    "help(c.between)"
   ]
  },
  {
   "cell_type": "code",
   "execution_count": 23,
   "metadata": {
    "pycharm": {
     "name": "#%%\n"
    }
   },
   "outputs": [
    {
     "data": {
      "text/plain": [
       "91045"
      ]
     },
     "execution_count": 23,
     "metadata": {},
     "output_type": "execute_result"
    }
   ],
   "source": [
    "from pyspark.sql.functions import col, concat, lpad\n",
    "\n",
    "airlines. \\\n",
    "    withColumn(\"FlightDate\",\n",
    "               concat(col(\"Year\"),\n",
    "                      lpad(col(\"Month\"), 2, \"0\"),\n",
    "                      lpad(col(\"DayOfMonth\"), 2, \"0\")\n",
    "                     )\n",
    "              ). \\\n",
    "    filter((col(\"IsDepDelayed\") == \"YES\") & \n",
    "           (col(\"FlightDate\").between(\"20080101\", \"20080109\"))\n",
    "          ). \\\n",
    "    count()"
   ]
  },
  {
   "cell_type": "markdown",
   "metadata": {},
   "source": [
    "* Get number of flights departed late on Sundays."
   ]
  },
  {
   "cell_type": "code",
   "execution_count": 24,
   "metadata": {},
   "outputs": [],
   "source": [
    "l = [('X',)]\n",
    "df = spark.createDataFrame(l, \"dummy STRING\")"
   ]
  },
  {
   "cell_type": "code",
   "execution_count": 25,
   "metadata": {},
   "outputs": [
    {
     "name": "stdout",
     "output_type": "stream",
     "text": [
      "+--------------+\n",
      "|current_date()|\n",
      "+--------------+\n",
      "|    2023-08-01|\n",
      "+--------------+\n",
      "\n"
     ]
    }
   ],
   "source": [
    "from pyspark.sql.functions import current_date\n",
    "df.select(current_date()).show()"
   ]
  },
  {
   "cell_type": "code",
   "execution_count": 26,
   "metadata": {},
   "outputs": [
    {
     "name": "stdout",
     "output_type": "stream",
     "text": [
      "+--------------+-------------------------------+\n",
      "|current_date()|date_format(current_date(), EE)|\n",
      "+--------------+-------------------------------+\n",
      "|    2023-08-01|                            Tue|\n",
      "+--------------+-------------------------------+\n",
      "\n"
     ]
    }
   ],
   "source": [
    "from pyspark.sql.functions import date_format\n",
    "\n",
    "df.select(current_date(), date_format(current_date(), 'EE')).show()"
   ]
  },
  {
   "cell_type": "code",
   "execution_count": 27,
   "metadata": {
    "pycharm": {
     "name": "#%%\n"
    }
   },
   "outputs": [
    {
     "data": {
      "text/plain": [
       "34708"
      ]
     },
     "execution_count": 27,
     "metadata": {},
     "output_type": "execute_result"
    }
   ],
   "source": [
    "from pyspark.sql.functions import col, concat, lpad\n",
    "\n",
    "airlines. \\\n",
    "    withColumn(\"FlightDate\",\n",
    "               concat(col(\"Year\"),\n",
    "                      lpad(col(\"Month\"), 2, \"0\"),\n",
    "                      lpad(col(\"DayOfMonth\"), 2, \"0\")\n",
    "                     )\n",
    "              ). \\\n",
    "    filter(\"\"\"\n",
    "           IsDepDelayed = 'YES' AND \n",
    "           date_format(to_date(FlightDate, 'yyyyMMdd'), 'EEEE') = 'Sunday'\n",
    "           \"\"\"). \\\n",
    "    count()"
   ]
  },
  {
   "cell_type": "markdown",
   "metadata": {},
   "source": [
    "* API Style"
   ]
  },
  {
   "cell_type": "code",
   "execution_count": 28,
   "metadata": {
    "pycharm": {
     "name": "#%%\n"
    }
   },
   "outputs": [
    {
     "data": {
      "text/plain": [
       "34708"
      ]
     },
     "execution_count": 28,
     "metadata": {},
     "output_type": "execute_result"
    }
   ],
   "source": [
    "from pyspark.sql.functions import col, concat, lpad, date_format, to_date\n",
    "\n",
    "airlines. \\\n",
    "    withColumn(\"FlightDate\",\n",
    "               concat(col(\"Year\"),\n",
    "                      lpad(col(\"Month\"), 2, \"0\"),\n",
    "                      lpad(col(\"DayOfMonth\"), 2, \"0\")\n",
    "                     )\n",
    "              ). \\\n",
    "    filter((col(\"IsDepDelayed\") == \"YES\") &\n",
    "           (date_format(\n",
    "               to_date(\"FlightDate\", \"yyyyMMdd\"), \"EEEE\"\n",
    "           ) == \"Sunday\")\n",
    "          ). \\\n",
    "    count()"
   ]
  },
  {
   "cell_type": "markdown",
   "metadata": {},
   "source": [
    "## Overview of Aggregations\n",
    "\n",
    "Let us go through the details related to aggregation using Spark.\n",
    "\n",
    "* We can perform total aggregations directly on Dataframe or we can perform aggregations after grouping by a key(s).\n",
    "* Here are the APIs which we typically use to group the data using a key.\n",
    "  * groupBy\n",
    "  * rollup\n",
    "  * cube\n",
    "* Here are the functions which we typically use to perform aggregations.\n",
    "  * count\n",
    "  * sum, avg\n",
    "  * min, max\n",
    "* If we want to provide aliases to the aggregated fields then we have to use `agg` after `groupBy`."
   ]
  },
  {
   "cell_type": "markdown",
   "metadata": {},
   "source": [
    "## Overview of Sorting\n",
    "\n",
    "Let us understand how to sort the data in a Data Frame.\n",
    "* We can use `orderBy` or `sort` to sort the data.\n",
    "* We can perform composite sorting by passing multiple columns or expressions.\n",
    "* By default data is sorted in ascending order, we can change it to descending by applying `desc()` function on the column or expression."
   ]
  },
  {
   "cell_type": "markdown",
   "metadata": {},
   "source": [
    "## Solutions - Problem 1\n",
    "Get total number of flights as well as number of flights which are delayed in departure and number of flights delayed in arrival. \n",
    "* Output should contain 3 columns - **FlightCount**, **DepDelayedCount**, **ArrDelayedCount**\n",
    "\n",
    "### Reading airlines data"
   ]
  },
  {
   "cell_type": "code",
   "execution_count": 29,
   "metadata": {
    "pycharm": {
     "name": "#%%\n"
    }
   },
   "outputs": [
    {
     "name": "stdout",
     "output_type": "stream",
     "text": [
      "root\n",
      " |-- Year: integer (nullable = true)\n",
      " |-- Month: integer (nullable = true)\n",
      " |-- DayofMonth: integer (nullable = true)\n",
      " |-- DayOfWeek: integer (nullable = true)\n",
      " |-- DepTime: string (nullable = true)\n",
      " |-- CRSDepTime: integer (nullable = true)\n",
      " |-- ArrTime: string (nullable = true)\n",
      " |-- CRSArrTime: integer (nullable = true)\n",
      " |-- UniqueCarrier: string (nullable = true)\n",
      " |-- FlightNum: integer (nullable = true)\n",
      " |-- TailNum: string (nullable = true)\n",
      " |-- ActualElapsedTime: string (nullable = true)\n",
      " |-- CRSElapsedTime: integer (nullable = true)\n",
      " |-- AirTime: string (nullable = true)\n",
      " |-- ArrDelay: string (nullable = true)\n",
      " |-- DepDelay: string (nullable = true)\n",
      " |-- Origin: string (nullable = true)\n",
      " |-- Dest: string (nullable = true)\n",
      " |-- Distance: string (nullable = true)\n",
      " |-- TaxiIn: string (nullable = true)\n",
      " |-- TaxiOut: string (nullable = true)\n",
      " |-- Cancelled: integer (nullable = true)\n",
      " |-- CancellationCode: string (nullable = true)\n",
      " |-- Diverted: integer (nullable = true)\n",
      " |-- CarrierDelay: string (nullable = true)\n",
      " |-- WeatherDelay: string (nullable = true)\n",
      " |-- NASDelay: string (nullable = true)\n",
      " |-- SecurityDelay: string (nullable = true)\n",
      " |-- LateAircraftDelay: string (nullable = true)\n",
      " |-- IsArrDelayed: string (nullable = true)\n",
      " |-- IsDepDelayed: string (nullable = true)\n",
      "\n"
     ]
    }
   ],
   "source": [
    "airlines_path = \"/public/airlines_all/airlines-part/flightmonth=200801\"\n",
    "\n",
    "airlines = spark. \\\n",
    "    read. \\\n",
    "    parquet(airlines_path)\n",
    "\n",
    "airlines.printSchema()"
   ]
  },
  {
   "cell_type": "markdown",
   "metadata": {},
   "source": [
    "### Get flights with delayed arrival"
   ]
  },
  {
   "cell_type": "code",
   "execution_count": 30,
   "metadata": {
    "pycharm": {
     "name": "#%%\n"
    }
   },
   "outputs": [
    {
     "name": "stdout",
     "output_type": "stream",
     "text": [
      "+----+-----+----------+---------+-------+----------+-------+----------+-------------+---------+-------+-----------------+--------------+-------+--------+--------+------+----+--------+------+-------+---------+----------------+--------+------------+------------+--------+-------------+-----------------+------------+------------+\n",
      "|Year|Month|DayofMonth|DayOfWeek|DepTime|CRSDepTime|ArrTime|CRSArrTime|UniqueCarrier|FlightNum|TailNum|ActualElapsedTime|CRSElapsedTime|AirTime|ArrDelay|DepDelay|Origin|Dest|Distance|TaxiIn|TaxiOut|Cancelled|CancellationCode|Diverted|CarrierDelay|WeatherDelay|NASDelay|SecurityDelay|LateAircraftDelay|IsArrDelayed|IsDepDelayed|\n",
      "+----+-----+----------+---------+-------+----------+-------+----------+-------------+---------+-------+-----------------+--------------+-------+--------+--------+------+----+--------+------+-------+---------+----------------+--------+------------+------------+--------+-------------+-----------------+------------+------------+\n",
      "|2008|    1|        17|        4|   1717|      1701|   1915|      1855|           OH|     4977| N967CA|              118|           114|    101|      20|      16|   SYR| CVG|     527|     2|     15|        0|            null|       0|          16|           0|       4|            0|                0|         YES|         YES|\n",
      "|2008|    1|        17|        4|   1530|      1530|   1645|      1637|           OH|     5426| N779CA|               75|            67|     45|       8|       0|   CVG| GRR|     268|     5|     25|        0|            null|       0|          NA|          NA|      NA|           NA|               NA|         YES|          NO|\n",
      "|2008|    1|        18|        5|   1215|      1009|   1540|      1251|           OH|     5260| N446CA|              145|           102|    140|     169|     126|   MCI| CVG|     539|     2|      3|        0|            null|       0|         126|           0|      43|            0|                0|         YES|         YES|\n",
      "|2008|    1|        19|        6|    835|       835|   1145|      1130|           OH|     5276| N523CA|              130|           115|     83|      15|       0|   TUL| CVG|     646|     4|     43|        0|            null|       0|           0|           0|      15|            0|                0|         YES|          NO|\n",
      "|2008|    1|        20|        7|   1925|      1935|   2148|      2124|           OH|     5215| N729CA|              143|           109|     34|      24|     -10|   JFK| PHL|      94|     5|    104|        0|            null|       0|           0|           0|      24|            0|                0|         YES|          NO|\n",
      "|2008|    1|        20|        7|    825|       830|   1045|      1007|           OH|     5324| N933CA|              140|            97|     92|      38|      -5|   RDU| CVG|     390|     1|     47|        0|            null|       0|           0|           0|      38|            0|                0|         YES|          NO|\n",
      "|2008|    1|        21|        1|   1200|      1204|   1600|      1559|           OH|     5056| N371CA|              180|           175|    147|       1|      -4|   MSY| LGA|    1183|    13|     20|        0|            null|       0|          NA|          NA|      NA|           NA|               NA|         YES|          NO|\n",
      "|2008|    1|        21|        1|   1950|      1830|   2225|      2007|           OH|     5595| N641CA|              155|            97|    136|     138|      80|   DCA| JFK|     213|    10|      9|        0|            null|       0|           0|          80|      58|            0|                0|         YES|         YES|\n",
      "|2008|    1|        21|        1|    700|       700|    955|       950|           OH|     5610| N964CA|              115|           110|     87|       5|       0|   HSV| DCA|     613|     8|     20|        0|            null|       0|          NA|          NA|      NA|           NA|               NA|         YES|          NO|\n",
      "|2008|    1|        22|        2|   2020|      1910|   2223|      2125|           OH|     5032| N538CA|               63|            75|     44|      58|      70|   ORD| CVG|     264|     1|     18|        0|            null|       0|           0|          58|       0|            0|                0|         YES|         YES|\n",
      "|2008|    1|        22|        2|   1320|      1320|   1600|      1528|           OH|     5331| N805CA|              160|           128|    102|      32|       0|   CVG| JFK|     589|    12|     46|        0|            null|       0|           0|           0|      32|            0|                0|         YES|          NO|\n",
      "|2008|    1|        23|        3|    908|       908|   1216|      1149|           OH|     5033| N963CA|              188|           161|    124|      27|       0|   LGA| SAV|     722|     6|     58|        0|            null|       0|           0|           0|      27|            0|                0|         YES|          NO|\n",
      "|2008|    1|        23|        3|    630|       635|    840|       831|           OH|     5355| N926CA|              130|           116|     85|       9|      -5|   GSP| LGA|     610|    20|     25|        0|            null|       0|          NA|          NA|      NA|           NA|               NA|         YES|          NO|\n",
      "|2008|    1|        24|        4|    930|       930|   1049|      1019|           OH|     5689| N403CA|              139|           109|     90|      30|       0|   CVG| DSM|     505|     5|     44|        0|            null|       0|           0|           0|      30|            0|                0|         YES|          NO|\n",
      "|2008|    1|        27|        7|   1950|      1950|   2132|      2129|           OH|     5433| N447CA|              102|            99|     65|       3|       0|   CVG| SAV|     515|     4|     33|        0|            null|       0|          NA|          NA|      NA|           NA|               NA|         YES|          NO|\n",
      "|2008|    1|        27|        7|   1315|      1315|   1506|      1459|           OH|     5645| N916CA|              111|           104|     66|       7|       0|   BOS| DCA|     399|     3|     42|        0|            null|       0|          NA|          NA|      NA|           NA|               NA|         YES|          NO|\n",
      "|2008|    1|        29|        2|    915|       915|    945|       925|           OH|     5249| N960CA|               90|            70|     54|      20|       0|   CVG| BNA|     230|    13|     23|        0|            null|       0|           0|           0|      20|            0|                0|         YES|          NO|\n",
      "|2008|    1|        29|        2|   1150|      1150|   1448|      1430|           OH|     5670| N695CA|              118|           100|     76|      18|       0|   MCI| CVG|     539|     6|     36|        0|            null|       0|           0|           0|      18|            0|                0|         YES|          NO|\n",
      "|2008|    1|        31|        4|   1505|      1505|   1651|      1645|           OH|     5107| N912CA|              106|           100|     85|       6|       0|   CVG| SAV|     515|     3|     18|        0|            null|       0|          NA|          NA|      NA|           NA|               NA|         YES|          NO|\n",
      "|2008|    1|         1|        2|   1742|      1711|   1748|      1718|           OO|     1998| N815SK|               66|            67|     40|      30|      31|   ATL| BNA|     214|     6|     20|        0|            null|       0|          30|           0|       0|            0|                0|         YES|         YES|\n",
      "+----+-----+----------+---------+-------+----------+-------+----------+-------------+---------+-------+-----------------+--------------+-------+--------+--------+------+----+--------+------+-------+---------+----------------+--------+------------+------------+--------+-------------+-----------------+------------+------------+\n",
      "only showing top 20 rows\n",
      "\n"
     ]
    }
   ],
   "source": [
    "# SQL Style\n",
    "airlines.filter(\"IsArrDelayed = 'YES'\").show()"
   ]
  },
  {
   "cell_type": "code",
   "execution_count": 31,
   "metadata": {
    "pycharm": {
     "name": "#%%\n"
    }
   },
   "outputs": [
    {
     "name": "stdout",
     "output_type": "stream",
     "text": [
      "+----+-----+----------+---------+-------+----------+-------+----------+-------------+---------+-------+-----------------+--------------+-------+--------+--------+------+----+--------+------+-------+---------+----------------+--------+------------+------------+--------+-------------+-----------------+------------+------------+\n",
      "|Year|Month|DayofMonth|DayOfWeek|DepTime|CRSDepTime|ArrTime|CRSArrTime|UniqueCarrier|FlightNum|TailNum|ActualElapsedTime|CRSElapsedTime|AirTime|ArrDelay|DepDelay|Origin|Dest|Distance|TaxiIn|TaxiOut|Cancelled|CancellationCode|Diverted|CarrierDelay|WeatherDelay|NASDelay|SecurityDelay|LateAircraftDelay|IsArrDelayed|IsDepDelayed|\n",
      "+----+-----+----------+---------+-------+----------+-------+----------+-------------+---------+-------+-----------------+--------------+-------+--------+--------+------+----+--------+------+-------+---------+----------------+--------+------------+------------+--------+-------------+-----------------+------------+------------+\n",
      "|2008|    1|        17|        4|   1717|      1701|   1915|      1855|           OH|     4977| N967CA|              118|           114|    101|      20|      16|   SYR| CVG|     527|     2|     15|        0|            null|       0|          16|           0|       4|            0|                0|         YES|         YES|\n",
      "|2008|    1|        17|        4|   1530|      1530|   1645|      1637|           OH|     5426| N779CA|               75|            67|     45|       8|       0|   CVG| GRR|     268|     5|     25|        0|            null|       0|          NA|          NA|      NA|           NA|               NA|         YES|          NO|\n",
      "|2008|    1|        18|        5|   1215|      1009|   1540|      1251|           OH|     5260| N446CA|              145|           102|    140|     169|     126|   MCI| CVG|     539|     2|      3|        0|            null|       0|         126|           0|      43|            0|                0|         YES|         YES|\n",
      "|2008|    1|        19|        6|    835|       835|   1145|      1130|           OH|     5276| N523CA|              130|           115|     83|      15|       0|   TUL| CVG|     646|     4|     43|        0|            null|       0|           0|           0|      15|            0|                0|         YES|          NO|\n",
      "|2008|    1|        20|        7|   1925|      1935|   2148|      2124|           OH|     5215| N729CA|              143|           109|     34|      24|     -10|   JFK| PHL|      94|     5|    104|        0|            null|       0|           0|           0|      24|            0|                0|         YES|          NO|\n",
      "|2008|    1|        20|        7|    825|       830|   1045|      1007|           OH|     5324| N933CA|              140|            97|     92|      38|      -5|   RDU| CVG|     390|     1|     47|        0|            null|       0|           0|           0|      38|            0|                0|         YES|          NO|\n",
      "|2008|    1|        21|        1|   1200|      1204|   1600|      1559|           OH|     5056| N371CA|              180|           175|    147|       1|      -4|   MSY| LGA|    1183|    13|     20|        0|            null|       0|          NA|          NA|      NA|           NA|               NA|         YES|          NO|\n",
      "|2008|    1|        21|        1|   1950|      1830|   2225|      2007|           OH|     5595| N641CA|              155|            97|    136|     138|      80|   DCA| JFK|     213|    10|      9|        0|            null|       0|           0|          80|      58|            0|                0|         YES|         YES|\n",
      "|2008|    1|        21|        1|    700|       700|    955|       950|           OH|     5610| N964CA|              115|           110|     87|       5|       0|   HSV| DCA|     613|     8|     20|        0|            null|       0|          NA|          NA|      NA|           NA|               NA|         YES|          NO|\n",
      "|2008|    1|        22|        2|   2020|      1910|   2223|      2125|           OH|     5032| N538CA|               63|            75|     44|      58|      70|   ORD| CVG|     264|     1|     18|        0|            null|       0|           0|          58|       0|            0|                0|         YES|         YES|\n",
      "|2008|    1|        22|        2|   1320|      1320|   1600|      1528|           OH|     5331| N805CA|              160|           128|    102|      32|       0|   CVG| JFK|     589|    12|     46|        0|            null|       0|           0|           0|      32|            0|                0|         YES|          NO|\n",
      "|2008|    1|        23|        3|    908|       908|   1216|      1149|           OH|     5033| N963CA|              188|           161|    124|      27|       0|   LGA| SAV|     722|     6|     58|        0|            null|       0|           0|           0|      27|            0|                0|         YES|          NO|\n",
      "|2008|    1|        23|        3|    630|       635|    840|       831|           OH|     5355| N926CA|              130|           116|     85|       9|      -5|   GSP| LGA|     610|    20|     25|        0|            null|       0|          NA|          NA|      NA|           NA|               NA|         YES|          NO|\n",
      "|2008|    1|        24|        4|    930|       930|   1049|      1019|           OH|     5689| N403CA|              139|           109|     90|      30|       0|   CVG| DSM|     505|     5|     44|        0|            null|       0|           0|           0|      30|            0|                0|         YES|          NO|\n",
      "|2008|    1|        27|        7|   1950|      1950|   2132|      2129|           OH|     5433| N447CA|              102|            99|     65|       3|       0|   CVG| SAV|     515|     4|     33|        0|            null|       0|          NA|          NA|      NA|           NA|               NA|         YES|          NO|\n",
      "|2008|    1|        27|        7|   1315|      1315|   1506|      1459|           OH|     5645| N916CA|              111|           104|     66|       7|       0|   BOS| DCA|     399|     3|     42|        0|            null|       0|          NA|          NA|      NA|           NA|               NA|         YES|          NO|\n",
      "|2008|    1|        29|        2|    915|       915|    945|       925|           OH|     5249| N960CA|               90|            70|     54|      20|       0|   CVG| BNA|     230|    13|     23|        0|            null|       0|           0|           0|      20|            0|                0|         YES|          NO|\n",
      "|2008|    1|        29|        2|   1150|      1150|   1448|      1430|           OH|     5670| N695CA|              118|           100|     76|      18|       0|   MCI| CVG|     539|     6|     36|        0|            null|       0|           0|           0|      18|            0|                0|         YES|          NO|\n",
      "|2008|    1|        31|        4|   1505|      1505|   1651|      1645|           OH|     5107| N912CA|              106|           100|     85|       6|       0|   CVG| SAV|     515|     3|     18|        0|            null|       0|          NA|          NA|      NA|           NA|               NA|         YES|          NO|\n",
      "|2008|    1|         1|        2|   1742|      1711|   1748|      1718|           OO|     1998| N815SK|               66|            67|     40|      30|      31|   ATL| BNA|     214|     6|     20|        0|            null|       0|          30|           0|       0|            0|                0|         YES|         YES|\n",
      "+----+-----+----------+---------+-------+----------+-------+----------+-------------+---------+-------+-----------------+--------------+-------+--------+--------+------+----+--------+------+-------+---------+----------------+--------+------------+------------+--------+-------------+-----------------+------------+------------+\n",
      "only showing top 20 rows\n",
      "\n"
     ]
    }
   ],
   "source": [
    "# Data Frame Style\n",
    "airlines.filter(airlines[\"IsArrDelayed\"] == 'YES').show()"
   ]
  },
  {
   "cell_type": "code",
   "execution_count": 32,
   "metadata": {
    "pycharm": {
     "name": "#%%\n"
    }
   },
   "outputs": [
    {
     "name": "stdout",
     "output_type": "stream",
     "text": [
      "+----+-----+----------+---------+-------+----------+-------+----------+-------------+---------+-------+-----------------+--------------+-------+--------+--------+------+----+--------+------+-------+---------+----------------+--------+------------+------------+--------+-------------+-----------------+------------+------------+\n",
      "|Year|Month|DayofMonth|DayOfWeek|DepTime|CRSDepTime|ArrTime|CRSArrTime|UniqueCarrier|FlightNum|TailNum|ActualElapsedTime|CRSElapsedTime|AirTime|ArrDelay|DepDelay|Origin|Dest|Distance|TaxiIn|TaxiOut|Cancelled|CancellationCode|Diverted|CarrierDelay|WeatherDelay|NASDelay|SecurityDelay|LateAircraftDelay|IsArrDelayed|IsDepDelayed|\n",
      "+----+-----+----------+---------+-------+----------+-------+----------+-------------+---------+-------+-----------------+--------------+-------+--------+--------+------+----+--------+------+-------+---------+----------------+--------+------------+------------+--------+-------------+-----------------+------------+------------+\n",
      "|2008|    1|        17|        4|   1717|      1701|   1915|      1855|           OH|     4977| N967CA|              118|           114|    101|      20|      16|   SYR| CVG|     527|     2|     15|        0|            null|       0|          16|           0|       4|            0|                0|         YES|         YES|\n",
      "|2008|    1|        17|        4|   1530|      1530|   1645|      1637|           OH|     5426| N779CA|               75|            67|     45|       8|       0|   CVG| GRR|     268|     5|     25|        0|            null|       0|          NA|          NA|      NA|           NA|               NA|         YES|          NO|\n",
      "|2008|    1|        18|        5|   1215|      1009|   1540|      1251|           OH|     5260| N446CA|              145|           102|    140|     169|     126|   MCI| CVG|     539|     2|      3|        0|            null|       0|         126|           0|      43|            0|                0|         YES|         YES|\n",
      "|2008|    1|        19|        6|    835|       835|   1145|      1130|           OH|     5276| N523CA|              130|           115|     83|      15|       0|   TUL| CVG|     646|     4|     43|        0|            null|       0|           0|           0|      15|            0|                0|         YES|          NO|\n",
      "|2008|    1|        20|        7|   1925|      1935|   2148|      2124|           OH|     5215| N729CA|              143|           109|     34|      24|     -10|   JFK| PHL|      94|     5|    104|        0|            null|       0|           0|           0|      24|            0|                0|         YES|          NO|\n",
      "|2008|    1|        20|        7|    825|       830|   1045|      1007|           OH|     5324| N933CA|              140|            97|     92|      38|      -5|   RDU| CVG|     390|     1|     47|        0|            null|       0|           0|           0|      38|            0|                0|         YES|          NO|\n",
      "|2008|    1|        21|        1|   1200|      1204|   1600|      1559|           OH|     5056| N371CA|              180|           175|    147|       1|      -4|   MSY| LGA|    1183|    13|     20|        0|            null|       0|          NA|          NA|      NA|           NA|               NA|         YES|          NO|\n",
      "|2008|    1|        21|        1|   1950|      1830|   2225|      2007|           OH|     5595| N641CA|              155|            97|    136|     138|      80|   DCA| JFK|     213|    10|      9|        0|            null|       0|           0|          80|      58|            0|                0|         YES|         YES|\n",
      "|2008|    1|        21|        1|    700|       700|    955|       950|           OH|     5610| N964CA|              115|           110|     87|       5|       0|   HSV| DCA|     613|     8|     20|        0|            null|       0|          NA|          NA|      NA|           NA|               NA|         YES|          NO|\n",
      "|2008|    1|        22|        2|   2020|      1910|   2223|      2125|           OH|     5032| N538CA|               63|            75|     44|      58|      70|   ORD| CVG|     264|     1|     18|        0|            null|       0|           0|          58|       0|            0|                0|         YES|         YES|\n",
      "|2008|    1|        22|        2|   1320|      1320|   1600|      1528|           OH|     5331| N805CA|              160|           128|    102|      32|       0|   CVG| JFK|     589|    12|     46|        0|            null|       0|           0|           0|      32|            0|                0|         YES|          NO|\n",
      "|2008|    1|        23|        3|    908|       908|   1216|      1149|           OH|     5033| N963CA|              188|           161|    124|      27|       0|   LGA| SAV|     722|     6|     58|        0|            null|       0|           0|           0|      27|            0|                0|         YES|          NO|\n",
      "|2008|    1|        23|        3|    630|       635|    840|       831|           OH|     5355| N926CA|              130|           116|     85|       9|      -5|   GSP| LGA|     610|    20|     25|        0|            null|       0|          NA|          NA|      NA|           NA|               NA|         YES|          NO|\n",
      "|2008|    1|        24|        4|    930|       930|   1049|      1019|           OH|     5689| N403CA|              139|           109|     90|      30|       0|   CVG| DSM|     505|     5|     44|        0|            null|       0|           0|           0|      30|            0|                0|         YES|          NO|\n",
      "|2008|    1|        27|        7|   1950|      1950|   2132|      2129|           OH|     5433| N447CA|              102|            99|     65|       3|       0|   CVG| SAV|     515|     4|     33|        0|            null|       0|          NA|          NA|      NA|           NA|               NA|         YES|          NO|\n",
      "|2008|    1|        27|        7|   1315|      1315|   1506|      1459|           OH|     5645| N916CA|              111|           104|     66|       7|       0|   BOS| DCA|     399|     3|     42|        0|            null|       0|          NA|          NA|      NA|           NA|               NA|         YES|          NO|\n",
      "|2008|    1|        29|        2|    915|       915|    945|       925|           OH|     5249| N960CA|               90|            70|     54|      20|       0|   CVG| BNA|     230|    13|     23|        0|            null|       0|           0|           0|      20|            0|                0|         YES|          NO|\n",
      "|2008|    1|        29|        2|   1150|      1150|   1448|      1430|           OH|     5670| N695CA|              118|           100|     76|      18|       0|   MCI| CVG|     539|     6|     36|        0|            null|       0|           0|           0|      18|            0|                0|         YES|          NO|\n",
      "|2008|    1|        31|        4|   1505|      1505|   1651|      1645|           OH|     5107| N912CA|              106|           100|     85|       6|       0|   CVG| SAV|     515|     3|     18|        0|            null|       0|          NA|          NA|      NA|           NA|               NA|         YES|          NO|\n",
      "|2008|    1|         1|        2|   1742|      1711|   1748|      1718|           OO|     1998| N815SK|               66|            67|     40|      30|      31|   ATL| BNA|     214|     6|     20|        0|            null|       0|          30|           0|       0|            0|                0|         YES|         YES|\n",
      "+----+-----+----------+---------+-------+----------+-------+----------+-------------+---------+-------+-----------------+--------------+-------+--------+--------+------+----+--------+------+-------+---------+----------------+--------+------------+------------+--------+-------------+-----------------+------------+------------+\n",
      "only showing top 20 rows\n",
      "\n"
     ]
    }
   ],
   "source": [
    "airlines.filter(airlines.IsArrDelayed == 'YES').show()"
   ]
  },
  {
   "cell_type": "markdown",
   "metadata": {},
   "source": [
    "### Get delayed counts"
   ]
  },
  {
   "cell_type": "code",
   "execution_count": 33,
   "metadata": {},
   "outputs": [
    {
     "data": {
      "text/plain": [
       "265198"
      ]
     },
     "execution_count": 33,
     "metadata": {},
     "output_type": "execute_result"
    }
   ],
   "source": [
    "## Departure Delayed Count\n",
    "airlines. \\\n",
    "    filter(airlines.IsDepDelayed == \"YES\"). \\\n",
    "    count()"
   ]
  },
  {
   "cell_type": "code",
   "execution_count": 34,
   "metadata": {},
   "outputs": [
    {
     "data": {
      "text/plain": [
       "297956"
      ]
     },
     "execution_count": 34,
     "metadata": {},
     "output_type": "execute_result"
    }
   ],
   "source": [
    "## Arrival Delayed Count\n",
    "airlines. \\\n",
    "    filter(airlines.IsArrDelayed == \"YES\"). \\\n",
    "    count()"
   ]
  },
  {
   "cell_type": "code",
   "execution_count": 35,
   "metadata": {},
   "outputs": [
    {
     "name": "stdout",
     "output_type": "stream",
     "text": [
      "+----+-----+----------+---------+------------+------------+\n",
      "|Year|Month|DayOfMonth|FlightNum|IsDepDelayed|IsArrDelayed|\n",
      "+----+-----+----------+---------+------------+------------+\n",
      "|2008|    1|        17|     4977|         YES|         YES|\n",
      "|2008|    1|        17|     5426|          NO|         YES|\n",
      "|2008|    1|        18|     5260|         YES|         YES|\n",
      "|2008|    1|        19|     5276|          NO|         YES|\n",
      "|2008|    1|        20|     5215|          NO|         YES|\n",
      "|2008|    1|        20|     5324|          NO|         YES|\n",
      "|2008|    1|        21|     5056|          NO|         YES|\n",
      "|2008|    1|        21|     5215|         YES|          NO|\n",
      "|2008|    1|        21|     5595|         YES|         YES|\n",
      "|2008|    1|        21|     5610|          NO|         YES|\n",
      "|2008|    1|        22|     5032|         YES|         YES|\n",
      "|2008|    1|        22|     5331|          NO|         YES|\n",
      "|2008|    1|        23|     5033|          NO|         YES|\n",
      "|2008|    1|        23|     5355|          NO|         YES|\n",
      "|2008|    1|        24|     5689|          NO|         YES|\n",
      "|2008|    1|        27|     5433|          NO|         YES|\n",
      "|2008|    1|        27|     5645|          NO|         YES|\n",
      "|2008|    1|        29|     5249|          NO|         YES|\n",
      "|2008|    1|        29|     5670|          NO|         YES|\n",
      "|2008|    1|        31|     5107|          NO|         YES|\n",
      "+----+-----+----------+---------+------------+------------+\n",
      "only showing top 20 rows\n",
      "\n"
     ]
    }
   ],
   "source": [
    "airlines. \\\n",
    "    filter(\"IsDepDelayed = 'YES' OR IsArrDelayed = 'YES'\"). \\\n",
    "    select('Year', 'Month', 'DayOfMonth', \n",
    "           'FlightNum', 'IsDepDelayed', 'IsArrDelayed'\n",
    "          ). \\\n",
    "    show()"
   ]
  },
  {
   "cell_type": "code",
   "execution_count": 36,
   "metadata": {},
   "outputs": [
    {
     "name": "stdout",
     "output_type": "stream",
     "text": [
      "+-----------+---------------+---------------+\n",
      "|FlightCount|DepDelayedCount|ArrDelayedCount|\n",
      "+-----------+---------------+---------------+\n",
      "|     605659|         265198|         297956|\n",
      "+-----------+---------------+---------------+\n",
      "\n"
     ]
    }
   ],
   "source": [
    "## Both Departure Delayed and Arrival Delayed\n",
    "from pyspark.sql.functions import col, lit, count, sum, expr\n",
    "airlines. \\\n",
    "    agg(count(lit(1)).alias(\"FlightCount\"),\n",
    "        sum(expr(\"CASE WHEN IsDepDelayed = 'YES' THEN 1 ELSE 0 END\")).alias(\"DepDelayedCount\"),\n",
    "        sum(expr(\"CASE WHEN IsArrDelayed = 'YES' THEN 1 ELSE 0 END\")).alias(\"ArrDelayedCount\")\n",
    "       ). \\\n",
    "    show()"
   ]
  },
  {
   "cell_type": "markdown",
   "metadata": {
    "pycharm": {
     "name": "#%% md\n"
    }
   },
   "source": [
    "## Solutions - Problem 2\n",
    "\n",
    "Get number of flights which are delayed in departure and number of flights delayed in arrival for each day along with number of flights departed for each day. \n",
    "\n",
    "* Output should contain 4 columns - **FlightDate**, **FlightCount**, **DepDelayedCount**, **ArrDelayedCount**\n",
    "* **FlightDate** should be of **YYYY-MM-dd** format.\n",
    "*   Data should be **sorted** in ascending order by **flightDate**\n",
    "\n",
    "### Grouping Data by Flight Date\n"
   ]
  },
  {
   "cell_type": "code",
   "execution_count": 37,
   "metadata": {
    "pycharm": {
     "name": "#%%\n"
    }
   },
   "outputs": [
    {
     "data": {
      "text/plain": [
       "<pyspark.sql.group.GroupedData at 0x7f9fb8f99b70>"
      ]
     },
     "execution_count": 37,
     "metadata": {},
     "output_type": "execute_result"
    }
   ],
   "source": [
    "from pyspark.sql.functions import lit, concat, lpad\n",
    "airlines. \\\n",
    "  groupBy(concat(\"Year\", lit(\"-\"), \n",
    "                 lpad(\"Month\", 2, \"0\"), lit(\"-\"), \n",
    "                 lpad(\"DayOfMonth\", 2, \"0\")).\n",
    "          alias(\"FlightDate\"))"
   ]
  },
  {
   "cell_type": "markdown",
   "metadata": {},
   "source": [
    "### Getting Counts by FlightDate"
   ]
  },
  {
   "cell_type": "code",
   "execution_count": 38,
   "metadata": {},
   "outputs": [
    {
     "name": "stdout",
     "output_type": "stream",
     "text": [
      "+----------+-----------+\n",
      "|FlightDate|FlightCount|\n",
      "+----------+-----------+\n",
      "|2008-01-15|      19503|\n",
      "|2008-01-21|      20133|\n",
      "|2008-01-11|      20349|\n",
      "|2008-01-19|      16249|\n",
      "|2008-01-02|      20953|\n",
      "|2008-01-06|      19893|\n",
      "|2008-01-29|      19485|\n",
      "|2008-01-30|      19766|\n",
      "|2008-01-17|      20273|\n",
      "|2008-01-31|      20260|\n",
      "|2008-01-01|      19175|\n",
      "|2008-01-24|      20257|\n",
      "|2008-01-07|      20341|\n",
      "|2008-01-09|      19820|\n",
      "|2008-01-04|      20929|\n",
      "|2008-01-08|      19603|\n",
      "|2008-01-05|      18066|\n",
      "|2008-01-25|      20313|\n",
      "|2008-01-26|      16276|\n",
      "|2008-01-12|      16572|\n",
      "|2008-01-16|      19764|\n",
      "|2008-01-23|      19769|\n",
      "|2008-01-18|      20347|\n",
      "|2008-01-22|      19504|\n",
      "|2008-01-28|      20147|\n",
      "|2008-01-13|      18946|\n",
      "|2008-01-10|      20297|\n",
      "|2008-01-14|      20176|\n",
      "|2008-01-20|      18653|\n",
      "|2008-01-27|      18903|\n",
      "|2008-01-03|      20937|\n",
      "+----------+-----------+\n",
      "\n"
     ]
    }
   ],
   "source": [
    "from pyspark.sql.functions import lit, concat, lpad, count\n",
    "\n",
    "airlines. \\\n",
    "    groupBy(concat(\"Year\", lit(\"-\"), \n",
    "                   lpad(\"Month\", 2, \"0\"), lit(\"-\"), \n",
    "                   lpad(\"DayOfMonth\", 2, \"0\")).\n",
    "            alias(\"FlightDate\")). \\\n",
    "    agg(count(lit(1)).alias(\"FlightCount\")). \\\n",
    "    show(31)"
   ]
  },
  {
   "cell_type": "code",
   "execution_count": 39,
   "metadata": {},
   "outputs": [
    {
     "name": "stdout",
     "output_type": "stream",
     "text": [
      "+----------+-----+\n",
      "|FlightDate|count|\n",
      "+----------+-----+\n",
      "|2008-01-15|19503|\n",
      "|2008-01-21|20133|\n",
      "|2008-01-11|20349|\n",
      "|2008-01-19|16249|\n",
      "|2008-01-02|20953|\n",
      "|2008-01-06|19893|\n",
      "|2008-01-29|19485|\n",
      "|2008-01-30|19766|\n",
      "|2008-01-17|20273|\n",
      "|2008-01-31|20260|\n",
      "|2008-01-01|19175|\n",
      "|2008-01-24|20257|\n",
      "|2008-01-07|20341|\n",
      "|2008-01-09|19820|\n",
      "|2008-01-04|20929|\n",
      "|2008-01-08|19603|\n",
      "|2008-01-05|18066|\n",
      "|2008-01-25|20313|\n",
      "|2008-01-26|16276|\n",
      "|2008-01-12|16572|\n",
      "+----------+-----+\n",
      "only showing top 20 rows\n",
      "\n"
     ]
    }
   ],
   "source": [
    "# Alternative to get the count with out using agg\n",
    "# We will not be able to provide alias for aggregated fields\n",
    "from pyspark.sql.functions import lit, concat, lpad\n",
    "\n",
    "airlines. \\\n",
    "    groupBy(concat(\"Year\", lit(\"-\"), \n",
    "                   lpad(\"Month\", 2, \"0\"), lit(\"-\"), \n",
    "                   lpad(\"DayOfMonth\", 2, \"0\")).\n",
    "            alias(\"FlightDate\")). \\\n",
    "    count(). \\\n",
    "    show()"
   ]
  },
  {
   "cell_type": "markdown",
   "metadata": {},
   "source": [
    "### Getting total as well as delayed counts for each day"
   ]
  },
  {
   "cell_type": "code",
   "execution_count": 40,
   "metadata": {
    "pycharm": {
     "name": "#%%\n"
    }
   },
   "outputs": [
    {
     "name": "stdout",
     "output_type": "stream",
     "text": [
      "+----------+-----------+---------------+---------------+\n",
      "|FlightDate|FlightCount|DepDelayedCount|ArrDelayedCount|\n",
      "+----------+-----------+---------------+---------------+\n",
      "|2008-01-15|      19503|           5603|           6688|\n",
      "|2008-01-21|      20133|          10530|          11507|\n",
      "|2008-01-11|      20349|           7779|           8688|\n",
      "|2008-01-19|      16249|           7275|           7686|\n",
      "|2008-01-02|      20953|          13805|          14260|\n",
      "|2008-01-06|      19893|          11225|          11388|\n",
      "|2008-01-29|      19485|           7213|           9259|\n",
      "|2008-01-30|      19766|           7349|           8508|\n",
      "|2008-01-17|      20273|          10507|          12101|\n",
      "|2008-01-31|      20260|          10208|          12385|\n",
      "|2008-01-01|      19175|          11053|          11725|\n",
      "|2008-01-24|      20257|           8434|          10294|\n",
      "|2008-01-07|      20341|           8701|           9262|\n",
      "|2008-01-09|      19820|           6339|           7234|\n",
      "|2008-01-04|      20929|          10175|          10593|\n",
      "|2008-01-08|      19603|           7946|           9401|\n",
      "|2008-01-05|      18066|           9507|           9801|\n",
      "|2008-01-25|      20313|           9352|          11005|\n",
      "|2008-01-26|      16276|           6156|           7579|\n",
      "|2008-01-12|      16572|           4128|           4304|\n",
      "+----------+-----------+---------------+---------------+\n",
      "only showing top 20 rows\n",
      "\n"
     ]
    }
   ],
   "source": [
    "from pyspark.sql.functions import lit, concat, lpad, count, sum, expr\n",
    "\n",
    "airlines. \\\n",
    "    groupBy(concat(\"Year\", lit(\"-\"), \n",
    "                   lpad(\"Month\", 2, \"0\"), lit(\"-\"), \n",
    "                   lpad(\"DayOfMonth\", 2, \"0\")).\n",
    "            alias(\"FlightDate\")). \\\n",
    "    agg(count(lit(1)).alias(\"FlightCount\"),\n",
    "        sum(expr(\"CASE WHEN IsDepDelayed = 'YES' THEN 1 ELSE 0 END\")).alias(\"DepDelayedCount\"),\n",
    "        sum(expr(\"CASE WHEN IsArrDelayed = 'YES' THEN 1 ELSE 0 END\")).alias(\"ArrDelayedCount\")\n",
    "       ). \\\n",
    "    show()"
   ]
  },
  {
   "cell_type": "markdown",
   "metadata": {},
   "source": [
    "### Sorting Data By FlightDate"
   ]
  },
  {
   "cell_type": "code",
   "execution_count": 41,
   "metadata": {},
   "outputs": [
    {
     "name": "stdout",
     "output_type": "stream",
     "text": [
      "Help on method sort in module pyspark.sql.dataframe:\n",
      "\n",
      "sort(*cols, **kwargs) method of pyspark.sql.dataframe.DataFrame instance\n",
      "    Returns a new :class:`DataFrame` sorted by the specified column(s).\n",
      "    \n",
      "    :param cols: list of :class:`Column` or column names to sort by.\n",
      "    :param ascending: boolean or list of boolean (default ``True``).\n",
      "        Sort ascending vs. descending. Specify list for multiple sort orders.\n",
      "        If a list is specified, length of the list must equal length of the `cols`.\n",
      "    \n",
      "    >>> df.sort(df.age.desc()).collect()\n",
      "    [Row(age=5, name='Bob'), Row(age=2, name='Alice')]\n",
      "    >>> df.sort(\"age\", ascending=False).collect()\n",
      "    [Row(age=5, name='Bob'), Row(age=2, name='Alice')]\n",
      "    >>> df.orderBy(df.age.desc()).collect()\n",
      "    [Row(age=5, name='Bob'), Row(age=2, name='Alice')]\n",
      "    >>> from pyspark.sql.functions import *\n",
      "    >>> df.sort(asc(\"age\")).collect()\n",
      "    [Row(age=2, name='Alice'), Row(age=5, name='Bob')]\n",
      "    >>> df.orderBy(desc(\"age\"), \"name\").collect()\n",
      "    [Row(age=5, name='Bob'), Row(age=2, name='Alice')]\n",
      "    >>> df.orderBy([\"age\", \"name\"], ascending=[0, 1]).collect()\n",
      "    [Row(age=5, name='Bob'), Row(age=2, name='Alice')]\n",
      "    \n",
      "    .. versionadded:: 1.3\n",
      "\n"
     ]
    }
   ],
   "source": [
    "help(airlines.sort)"
   ]
  },
  {
   "cell_type": "code",
   "execution_count": 42,
   "metadata": {},
   "outputs": [
    {
     "name": "stdout",
     "output_type": "stream",
     "text": [
      "Help on method sort in module pyspark.sql.dataframe:\n",
      "\n",
      "sort(*cols, **kwargs) method of pyspark.sql.dataframe.DataFrame instance\n",
      "    Returns a new :class:`DataFrame` sorted by the specified column(s).\n",
      "    \n",
      "    :param cols: list of :class:`Column` or column names to sort by.\n",
      "    :param ascending: boolean or list of boolean (default ``True``).\n",
      "        Sort ascending vs. descending. Specify list for multiple sort orders.\n",
      "        If a list is specified, length of the list must equal length of the `cols`.\n",
      "    \n",
      "    >>> df.sort(df.age.desc()).collect()\n",
      "    [Row(age=5, name='Bob'), Row(age=2, name='Alice')]\n",
      "    >>> df.sort(\"age\", ascending=False).collect()\n",
      "    [Row(age=5, name='Bob'), Row(age=2, name='Alice')]\n",
      "    >>> df.orderBy(df.age.desc()).collect()\n",
      "    [Row(age=5, name='Bob'), Row(age=2, name='Alice')]\n",
      "    >>> from pyspark.sql.functions import *\n",
      "    >>> df.sort(asc(\"age\")).collect()\n",
      "    [Row(age=2, name='Alice'), Row(age=5, name='Bob')]\n",
      "    >>> df.orderBy(desc(\"age\"), \"name\").collect()\n",
      "    [Row(age=5, name='Bob'), Row(age=2, name='Alice')]\n",
      "    >>> df.orderBy([\"age\", \"name\"], ascending=[0, 1]).collect()\n",
      "    [Row(age=5, name='Bob'), Row(age=2, name='Alice')]\n",
      "    \n",
      "    .. versionadded:: 1.3\n",
      "\n"
     ]
    }
   ],
   "source": [
    "help(airlines.orderBy)"
   ]
  },
  {
   "cell_type": "code",
   "execution_count": 43,
   "metadata": {
    "pycharm": {
     "name": "#%%\n"
    }
   },
   "outputs": [
    {
     "name": "stdout",
     "output_type": "stream",
     "text": [
      "+----------+-----------+---------------+---------------+\n",
      "|FlightDate|FlightCount|DepDelayedCount|ArrDelayedCount|\n",
      "+----------+-----------+---------------+---------------+\n",
      "|2008-01-01|      19175|          11053|          11725|\n",
      "|2008-01-02|      20953|          13805|          14260|\n",
      "|2008-01-03|      20937|          12294|          12488|\n",
      "|2008-01-04|      20929|          10175|          10593|\n",
      "|2008-01-05|      18066|           9507|           9801|\n",
      "|2008-01-06|      19893|          11225|          11388|\n",
      "|2008-01-07|      20341|           8701|           9262|\n",
      "|2008-01-08|      19603|           7946|           9401|\n",
      "|2008-01-09|      19820|           6339|           7234|\n",
      "|2008-01-10|      20297|           7374|           8906|\n",
      "|2008-01-11|      20349|           7779|           8688|\n",
      "|2008-01-12|      16572|           4128|           4304|\n",
      "|2008-01-13|      18946|           6993|           7832|\n",
      "|2008-01-14|      20176|           6830|           8013|\n",
      "|2008-01-15|      19503|           5603|           6688|\n",
      "|2008-01-16|      19764|           5634|           6760|\n",
      "|2008-01-17|      20273|          10507|          12101|\n",
      "|2008-01-18|      20347|          10268|          11090|\n",
      "|2008-01-19|      16249|           7275|           7686|\n",
      "|2008-01-20|      18653|           6947|           7252|\n",
      "|2008-01-21|      20133|          10530|          11507|\n",
      "|2008-01-22|      19504|           9917|          11457|\n",
      "|2008-01-23|      19769|           7879|           9854|\n",
      "|2008-01-24|      20257|           8434|          10294|\n",
      "|2008-01-25|      20313|           9352|          11005|\n",
      "|2008-01-26|      16276|           6156|           7579|\n",
      "|2008-01-27|      18903|           9543|          10969|\n",
      "|2008-01-28|      20147|           8234|           9667|\n",
      "|2008-01-29|      19485|           7213|           9259|\n",
      "|2008-01-30|      19766|           7349|           8508|\n",
      "|2008-01-31|      20260|          10208|          12385|\n",
      "+----------+-----------+---------------+---------------+\n",
      "\n"
     ]
    }
   ],
   "source": [
    "from pyspark.sql.functions import lit, concat, lpad, sum, expr\n",
    "airlines. \\\n",
    "    groupBy(concat(\"Year\", lit(\"-\"), \n",
    "                   lpad(\"Month\", 2, \"0\"), lit(\"-\"), \n",
    "                   lpad(\"DayOfMonth\", 2, \"0\")).\n",
    "            alias(\"FlightDate\")). \\\n",
    "    agg(count(lit(1)).alias(\"FlightCount\"),\n",
    "        sum(expr(\"CASE WHEN IsDepDelayed = 'YES' THEN 1 ELSE 0 END\")).alias(\"DepDelayedCount\"),\n",
    "        sum(expr(\"CASE WHEN IsArrDelayed = 'YES' THEN 1 ELSE 0 END\")).alias(\"ArrDelayedCount\")\n",
    "       ). \\\n",
    "    orderBy(\"FlightDate\"). \\\n",
    "    show(31)"
   ]
  },
  {
   "cell_type": "markdown",
   "metadata": {},
   "source": [
    "### Sorting Data in descending order by count"
   ]
  },
  {
   "cell_type": "code",
   "execution_count": 44,
   "metadata": {},
   "outputs": [
    {
     "name": "stdout",
     "output_type": "stream",
     "text": [
      "+----------+-----------+---------------+---------------+\n",
      "|FlightDate|FlightCount|DepDelayedCount|ArrDelayedCount|\n",
      "+----------+-----------+---------------+---------------+\n",
      "|2008-01-02|      20953|          13805|          14260|\n",
      "|2008-01-03|      20937|          12294|          12488|\n",
      "|2008-01-04|      20929|          10175|          10593|\n",
      "|2008-01-11|      20349|           7779|           8688|\n",
      "|2008-01-18|      20347|          10268|          11090|\n",
      "|2008-01-07|      20341|           8701|           9262|\n",
      "|2008-01-25|      20313|           9352|          11005|\n",
      "|2008-01-10|      20297|           7374|           8906|\n",
      "|2008-01-17|      20273|          10507|          12101|\n",
      "|2008-01-31|      20260|          10208|          12385|\n",
      "|2008-01-24|      20257|           8434|          10294|\n",
      "|2008-01-14|      20176|           6830|           8013|\n",
      "|2008-01-28|      20147|           8234|           9667|\n",
      "|2008-01-21|      20133|          10530|          11507|\n",
      "|2008-01-06|      19893|          11225|          11388|\n",
      "|2008-01-09|      19820|           6339|           7234|\n",
      "|2008-01-23|      19769|           7879|           9854|\n",
      "|2008-01-30|      19766|           7349|           8508|\n",
      "|2008-01-16|      19764|           5634|           6760|\n",
      "|2008-01-08|      19603|           7946|           9401|\n",
      "+----------+-----------+---------------+---------------+\n",
      "only showing top 20 rows\n",
      "\n"
     ]
    }
   ],
   "source": [
    "from pyspark.sql.functions import lit, concat, lpad, sum, expr, col\n",
    "airlines. \\\n",
    "    groupBy(concat(\"Year\", lit(\"-\"), \n",
    "                   lpad(\"Month\", 2, \"0\"), lit(\"-\"), \n",
    "                   lpad(\"DayOfMonth\", 2, \"0\")).\n",
    "            alias(\"FlightDate\")). \\\n",
    "    agg(count(lit(1)).alias(\"FlightCount\"),\n",
    "        sum(expr(\"CASE WHEN IsDepDelayed = 'YES' THEN 1 ELSE 0 END\")).alias(\"DepDelayedCount\"),\n",
    "        sum(expr(\"CASE WHEN IsArrDelayed = 'YES' THEN 1 ELSE 0 END\")).alias(\"ArrDelayedCount\")\n",
    "       ). \\\n",
    "    orderBy(col(\"FlightCount\").desc()). \\\n",
    "    show()"
   ]
  },
  {
   "cell_type": "markdown",
   "metadata": {},
   "source": [
    "## Solutions - Problem 3\n",
    "Get all the flights which are departed late but arrived early (**IsArrDelayed is NO**).\n",
    "* Output should contain - **FlightCRSDepTime**, **UniqueCarrier**, **FlightNum**, **Origin**, **Dest**, **DepDelay**, **ArrDelay**\n",
    "* **FlightCRSDepTime** need to be computed using **Year**, **Month**, **DayOfMonth**, **CRSDepTime**\n",
    "* **FlightCRSDepTime** should be displayed using **YYYY-MM-dd HH:mm** format.\n",
    "* Output should be sorted by **FlightCRSDepTime** and then by the difference between **DepDelay** and **ArrDelay**\n",
    "* Also get the count of such flights\n"
   ]
  },
  {
   "cell_type": "code",
   "execution_count": 45,
   "metadata": {},
   "outputs": [
    {
     "name": "stdout",
     "output_type": "stream",
     "text": [
      "+----+-----+----------+----------+\n",
      "|Year|Month|DayOfMonth|CRSDepTime|\n",
      "+----+-----+----------+----------+\n",
      "|2008|    1|        16|      1735|\n",
      "|2008|    1|        17|      1701|\n",
      "|2008|    1|        17|      1225|\n",
      "|2008|    1|        17|      1530|\n",
      "|2008|    1|        17|      1205|\n",
      "|2008|    1|        18|      1150|\n",
      "|2008|    1|        18|      1009|\n",
      "|2008|    1|        19|       835|\n",
      "|2008|    1|        20|      1935|\n",
      "|2008|    1|        20|       830|\n",
      "|2008|    1|        21|      1640|\n",
      "|2008|    1|        21|      1204|\n",
      "|2008|    1|        21|      1935|\n",
      "|2008|    1|        21|      1830|\n",
      "|2008|    1|        21|       700|\n",
      "|2008|    1|        22|      1910|\n",
      "|2008|    1|        22|      1320|\n",
      "|2008|    1|        23|       908|\n",
      "|2008|    1|        23|      1252|\n",
      "|2008|    1|        23|       635|\n",
      "+----+-----+----------+----------+\n",
      "only showing top 20 rows\n",
      "\n"
     ]
    }
   ],
   "source": [
    "airlines.select('Year', 'Month', 'DayOfMonth', 'CRSDepTime').show()"
   ]
  },
  {
   "cell_type": "code",
   "execution_count": 46,
   "metadata": {},
   "outputs": [],
   "source": [
    "l = [(2008, 1, 23, 700),\n",
    "     (2008, 1, 10, 1855),\n",
    "    ]"
   ]
  },
  {
   "cell_type": "code",
   "execution_count": 47,
   "metadata": {},
   "outputs": [
    {
     "name": "stdout",
     "output_type": "stream",
     "text": [
      "+----+-----+----------+-------+\n",
      "|Year|Month|DayOfMonth|DepTime|\n",
      "+----+-----+----------+-------+\n",
      "|2008|    1|        23|    700|\n",
      "|2008|    1|        10|   1855|\n",
      "+----+-----+----------+-------+\n",
      "\n"
     ]
    }
   ],
   "source": [
    "df = spark.createDataFrame(l, \"Year INT, Month INT, DayOfMonth INT, DepTime INT\")\n",
    "df.show()"
   ]
  },
  {
   "cell_type": "code",
   "execution_count": 48,
   "metadata": {},
   "outputs": [
    {
     "name": "stdout",
     "output_type": "stream",
     "text": [
      "+-------------------------+\n",
      "|substring(DepTime, -2, 2)|\n",
      "+-------------------------+\n",
      "|                       00|\n",
      "|                       55|\n",
      "+-------------------------+\n",
      "\n"
     ]
    }
   ],
   "source": [
    "from pyspark.sql.functions import substring\n",
    "df.select(substring(col('DepTime'), -2, 2)). \\\n",
    "    show()"
   ]
  },
  {
   "cell_type": "code",
   "execution_count": 49,
   "metadata": {},
   "outputs": [
    {
     "name": "stdout",
     "output_type": "stream",
     "text": [
      "+-------+---------------------------------------+\n",
      "|DepTime|date_format(lpad(DepTime, 4, 0), HH:mm)|\n",
      "+-------+---------------------------------------+\n",
      "|    700|                                  00:00|\n",
      "|   1855|                                  00:00|\n",
      "+-------+---------------------------------------+\n",
      "\n"
     ]
    }
   ],
   "source": [
    "df.select(\"DepTime\", date_format(lpad('DepTime', 4, \"0\"), 'HH:mm')).show()"
   ]
  },
  {
   "cell_type": "code",
   "execution_count": 50,
   "metadata": {},
   "outputs": [
    {
     "name": "stdout",
     "output_type": "stream",
     "text": [
      "Help on function substring in module pyspark.sql.functions:\n",
      "\n",
      "substring(str, pos, len)\n",
      "    Substring starts at `pos` and is of length `len` when str is String type or\n",
      "    returns the slice of byte array that starts at `pos` in byte and is of length `len`\n",
      "    when str is Binary type.\n",
      "    \n",
      "    .. note:: The position is not zero based, but 1 based index.\n",
      "    \n",
      "    >>> df = spark.createDataFrame([('abcd',)], ['s',])\n",
      "    >>> df.select(substring(df.s, 1, 2).alias('s')).collect()\n",
      "    [Row(s='ab')]\n",
      "    \n",
      "    .. versionadded:: 1.5\n",
      "\n"
     ]
    }
   ],
   "source": [
    "help(substring)"
   ]
  },
  {
   "cell_type": "code",
   "execution_count": 51,
   "metadata": {},
   "outputs": [
    {
     "ename": "NameError",
     "evalue": "name 'length' is not defined",
     "output_type": "error",
     "traceback": [
      "\u001b[0;31m---------------------------------------------------------------------------\u001b[0m",
      "\u001b[0;31mNameError\u001b[0m                                 Traceback (most recent call last)",
      "\u001b[0;32m<ipython-input-51-398395c3fb5c>\u001b[0m in \u001b[0;36m<module>\u001b[0;34m\u001b[0m\n\u001b[0;32m----> 1\u001b[0;31m \u001b[0mdf\u001b[0m\u001b[0;34m.\u001b[0m\u001b[0mselect\u001b[0m\u001b[0;34m(\u001b[0m\u001b[0msubstring\u001b[0m\u001b[0;34m(\u001b[0m\u001b[0mcol\u001b[0m\u001b[0;34m(\u001b[0m\u001b[0;34m'DepTime'\u001b[0m\u001b[0;34m)\u001b[0m\u001b[0;34m,\u001b[0m \u001b[0;36m1\u001b[0m\u001b[0;34m,\u001b[0m \u001b[0mlength\u001b[0m\u001b[0;34m(\u001b[0m\u001b[0mcol\u001b[0m\u001b[0;34m(\u001b[0m\u001b[0;34m'DepTime'\u001b[0m\u001b[0;34m)\u001b[0m\u001b[0;34m.\u001b[0m\u001b[0mcast\u001b[0m\u001b[0;34m(\u001b[0m\u001b[0;34m'string'\u001b[0m\u001b[0;34m)\u001b[0m\u001b[0;34m)\u001b[0m\u001b[0;34m)\u001b[0m\u001b[0;34m)\u001b[0m\u001b[0;34m.\u001b[0m\u001b[0;31m \u001b[0m\u001b[0;31m\\\u001b[0m\u001b[0;34m\u001b[0m\u001b[0;34m\u001b[0m\u001b[0m\n\u001b[0m\u001b[1;32m      2\u001b[0m     \u001b[0mshow\u001b[0m\u001b[0;34m(\u001b[0m\u001b[0;34m)\u001b[0m\u001b[0;34m\u001b[0m\u001b[0;34m\u001b[0m\u001b[0m\n",
      "\u001b[0;31mNameError\u001b[0m: name 'length' is not defined"
     ]
    }
   ],
   "source": [
    "df.select(substring(col('DepTime'), 1, length(col('DepTime').cast('string')))). \\\n",
    "    show()"
   ]
  },
  {
   "cell_type": "code",
   "execution_count": 52,
   "metadata": {},
   "outputs": [
    {
     "name": "stdout",
     "output_type": "stream",
     "text": [
      "+----------------+-------------+---------+------+----+--------+--------+\n",
      "|FlightCRSDepTime|UniqueCarrier|FlightNum|Origin|Dest|DepDelay|ArrDelay|\n",
      "+----------------+-------------+---------+------+----+--------+--------+\n",
      "| 2008-01-01 0055|           DL|      560|   LAX| ATL|      15|      -4|\n",
      "| 2008-01-01 0100|           AA|     2466|   SFO| DFW|       2|      -7|\n",
      "| 2008-01-01 0300|           CO|      488|   SJU| EWR|       3|     -12|\n",
      "| 2008-01-01 0400|           B6|      724|   BQN| MCO|       4|     -23|\n",
      "| 2008-01-01 0515|           XE|     2140|   SLC| IAH|       1|     -10|\n",
      "| 2008-01-01 0525|           XE|     2429|   MSP| IAH|       1|      -4|\n",
      "| 2008-01-01 0530|           XE|     2785|   BTR| IAH|       6|       0|\n",
      "| 2008-01-01 0540|           OO|     5793|   CIC| SFO|       1|      -4|\n",
      "| 2008-01-01 0540|           UA|      422|   SEA| DEN|       4|     -10|\n",
      "| 2008-01-01 0600|           DL|      970|   FLL| ATL|       2|       0|\n",
      "| 2008-01-01 0600|           AA|     1734|   SAT| DFW|       2|      -1|\n",
      "| 2008-01-01 0600|           MQ|     3191|   LAX| SJC|       2|      -3|\n",
      "| 2008-01-01 0600|           UA|     1294|   PDX| DEN|       2|      -3|\n",
      "| 2008-01-01 0600|           UA|      265|   ORD| DEN|       2|      -5|\n",
      "| 2008-01-01 0600|           AA|     1157|   AUS| DFW|       1|      -6|\n",
      "| 2008-01-01 0600|           AQ|      441|   LAS| OAK|       7|       0|\n",
      "| 2008-01-01 0600|           AA|      802|   LAX| DFW|       1|      -7|\n",
      "| 2008-01-01 0600|           EV|     4484|   DSM| ATL|       3|      -7|\n",
      "| 2008-01-01 0600|           AA|     1150|   LAS| DFW|       3|      -7|\n",
      "| 2008-01-01 0600|           OO|     1985|   MKE| ATL|       2|     -10|\n",
      "+----------------+-------------+---------+------+----+--------+--------+\n",
      "only showing top 20 rows\n",
      "\n"
     ]
    }
   ],
   "source": [
    "from pyspark.sql.functions import lit, col, concat, lpad, sum, expr\n",
    "\n",
    "flightsFiltered = airlines. \\\n",
    "    filter(\"IsDepDelayed = 'YES' AND IsArrDelayed = 'NO'\"). \\\n",
    "    select(concat(\"Year\", lit(\"-\"), \n",
    "                  lpad(\"Month\", 2, \"0\"), lit(\"-\"), \n",
    "                  lpad(\"DayOfMonth\", 2, \"0\"), lit(\" \"),\n",
    "                  lpad(\"CRSDepTime\", 4, \"0\")\n",
    "                 ).alias(\"FlightCRSDepTime\"),\n",
    "           \"UniqueCarrier\", \"FlightNum\", \"Origin\", \n",
    "           \"Dest\", \"DepDelay\", \"ArrDelay\"\n",
    "          ). \\\n",
    "    orderBy(\"FlightCRSDepTime\", col(\"DepDelay\") - col(\"ArrDelay\")). \\\n",
    "    show()"
   ]
  },
  {
   "cell_type": "markdown",
   "metadata": {
    "pycharm": {
     "name": "#%% md\n"
    }
   },
   "source": [
    "### Getting Count"
   ]
  },
  {
   "cell_type": "code",
   "execution_count": 53,
   "metadata": {
    "pycharm": {
     "name": "#%%\n"
    }
   },
   "outputs": [
    {
     "data": {
      "text/plain": [
       "54233"
      ]
     },
     "execution_count": 53,
     "metadata": {},
     "output_type": "execute_result"
    }
   ],
   "source": [
    "from pyspark.sql.functions import lit, col, concat, lpad, sum, expr\n",
    "\n",
    "flightsFiltered = airlines. \\\n",
    "    filter(\"IsDepDelayed = 'YES' AND IsArrDelayed = 'NO'\"). \\\n",
    "    select(concat(\"Year\", lit(\"-\"), \n",
    "                  lpad(\"Month\", 2, \"0\"), lit(\"-\"), \n",
    "                  lpad(\"DayOfMonth\", 2, \"0\"), lit(\" \"),\n",
    "                  lpad(\"CRSDepTime\", 4, \"0\")\n",
    "                 ).alias(\"FlightCRSDepTime\"),\n",
    "           \"UniqueCarrier\", \"FlightNum\", \"Origin\", \n",
    "           \"Dest\", \"DepDelay\", \"ArrDelay\"\n",
    "          ). \\\n",
    "    count()\n",
    "\n",
    "flightsFiltered"
   ]
  },
  {
   "cell_type": "code",
   "execution_count": null,
   "metadata": {},
   "outputs": [],
   "source": []
  }
 ],
 "metadata": {
  "kernelspec": {
   "display_name": "Python 3 (ipykernel)",
   "language": "python",
   "name": "python3"
  },
  "language_info": {
   "codemirror_mode": {
    "name": "ipython",
    "version": 3
   },
   "file_extension": ".py",
   "mimetype": "text/x-python",
   "name": "python",
   "nbconvert_exporter": "python",
   "pygments_lexer": "ipython3",
   "version": "3.11.4"
  },
  "pycharm": {
   "stem_cell": {
    "cell_type": "raw",
    "metadata": {
     "collapsed": false
    },
    "source": [
     "\n",
     "\n",
     "\n"
    ]
   }
  }
 },
 "nbformat": 4,
 "nbformat_minor": 4
}
