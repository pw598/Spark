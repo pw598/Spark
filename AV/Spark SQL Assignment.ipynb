{
 "cells": [
  {
   "cell_type": "markdown",
   "id": "e72d1725",
   "metadata": {},
   "source": [
    "# Import Libraries and Data"
   ]
  },
  {
   "cell_type": "code",
   "execution_count": 1,
   "id": "70991b45",
   "metadata": {},
   "outputs": [],
   "source": [
    "from pyspark.sql import SparkSession\n",
    "spark = SparkSession.builder.getOrCreate()\n",
    "\n",
    "from pyspark.context import SparkContext\n",
    "sc = spark.sparkContext"
   ]
  },
  {
   "cell_type": "code",
   "execution_count": 2,
   "id": "6a9bb867",
   "metadata": {},
   "outputs": [],
   "source": [
    "train = spark.read.csv(\"train.csv\",inferSchema=True, header=True)\n",
    "meal_info = spark.read.csv(\"meal_info.csv\",inferSchema=True, header=True)\n",
    "fulfillment_center_info = spark.read.csv(\"fulfilment_center_info.csv\",inferSchema=True, header=True)"
   ]
  },
  {
   "cell_type": "code",
   "execution_count": 3,
   "id": "f1760080",
   "metadata": {},
   "outputs": [
    {
     "data": {
      "text/plain": [
       "['id',\n",
       " 'week',\n",
       " 'center_id',\n",
       " 'meal_id',\n",
       " 'checkout_price',\n",
       " 'base_price',\n",
       " 'emailer_for_promotion',\n",
       " 'homepage_featured',\n",
       " 'num_orders']"
      ]
     },
     "execution_count": 3,
     "metadata": {},
     "output_type": "execute_result"
    }
   ],
   "source": [
    "train.columns"
   ]
  },
  {
   "cell_type": "code",
   "execution_count": 4,
   "id": "185a16c5",
   "metadata": {},
   "outputs": [
    {
     "data": {
      "text/plain": [
       "['meal_id', 'category', 'cuisine']"
      ]
     },
     "execution_count": 4,
     "metadata": {},
     "output_type": "execute_result"
    }
   ],
   "source": [
    "meal_info.columns"
   ]
  },
  {
   "cell_type": "code",
   "execution_count": 5,
   "id": "ea7427b9",
   "metadata": {},
   "outputs": [
    {
     "data": {
      "text/plain": [
       "['center_id', 'city_code', 'region_code', 'center_type', 'op_area']"
      ]
     },
     "execution_count": 5,
     "metadata": {},
     "output_type": "execute_result"
    }
   ],
   "source": [
    "fulfillment_center_info.columns"
   ]
  },
  {
   "cell_type": "code",
   "execution_count": 6,
   "id": "89ee531a",
   "metadata": {},
   "outputs": [],
   "source": [
    "meal_info.createOrReplaceTempView(\"meal_info_view\")\n",
    "fulfillment_center_info.createOrReplaceTempView(\"center_info_view\")\n",
    "train.createOrReplaceTempView(\"train_view\")"
   ]
  },
  {
   "cell_type": "markdown",
   "id": "ca7df5fc",
   "metadata": {},
   "source": [
    "# Question 1"
   ]
  },
  {
   "cell_type": "markdown",
   "id": "ac29b659",
   "metadata": {},
   "source": [
    "### What are the distinct number of meal categories and cuisines?"
   ]
  },
  {
   "cell_type": "code",
   "execution_count": 7,
   "id": "f7f386c0",
   "metadata": {},
   "outputs": [
    {
     "name": "stdout",
     "output_type": "stream",
     "text": [
      "root\n",
      " |-- meal_id: integer (nullable = true)\n",
      " |-- category: string (nullable = true)\n",
      " |-- cuisine: string (nullable = true)\n",
      "\n"
     ]
    }
   ],
   "source": [
    "meal_info.printSchema()"
   ]
  },
  {
   "cell_type": "code",
   "execution_count": 8,
   "id": "133fb057",
   "metadata": {},
   "outputs": [
    {
     "data": {
      "text/html": [
       "<table border='1'>\n",
       "<tr><th>count(DISTINCT category)</th></tr>\n",
       "<tr><td>14</td></tr>\n",
       "</table>\n"
      ],
      "text/plain": [
       "+------------------------+\n",
       "|count(DISTINCT category)|\n",
       "+------------------------+\n",
       "|                      14|\n",
       "+------------------------+"
      ]
     },
     "execution_count": 8,
     "metadata": {},
     "output_type": "execute_result"
    }
   ],
   "source": [
    "spark.sql(\"select count(distinct category) from meal_info_view\")"
   ]
  },
  {
   "cell_type": "code",
   "execution_count": 9,
   "id": "b04a728a",
   "metadata": {},
   "outputs": [
    {
     "data": {
      "text/html": [
       "<table border='1'>\n",
       "<tr><th>count(DISTINCT cuisine)</th></tr>\n",
       "<tr><td>4</td></tr>\n",
       "</table>\n"
      ],
      "text/plain": [
       "+-----------------------+\n",
       "|count(DISTINCT cuisine)|\n",
       "+-----------------------+\n",
       "|                      4|\n",
       "+-----------------------+"
      ]
     },
     "execution_count": 9,
     "metadata": {},
     "output_type": "execute_result"
    }
   ],
   "source": [
    "spark.sql(\"select count(distinct cuisine) from meal_info_view\")"
   ]
  },
  {
   "cell_type": "markdown",
   "id": "2d04cf2e",
   "metadata": {},
   "source": [
    "# Question 2"
   ]
  },
  {
   "cell_type": "markdown",
   "id": "9c35bf83",
   "metadata": {},
   "source": [
    "### Which center_id has the highest num_orders?"
   ]
  },
  {
   "cell_type": "code",
   "execution_count": 10,
   "id": "04402c29",
   "metadata": {},
   "outputs": [
    {
     "data": {
      "text/html": [
       "<table border='1'>\n",
       "<tr><th>center_id</th><th>sum(num_orders)</th></tr>\n",
       "<tr><td>13</td><td>1742220</td></tr>\n",
       "</table>\n"
      ],
      "text/plain": [
       "+---------+---------------+\n",
       "|center_id|sum(num_orders)|\n",
       "+---------+---------------+\n",
       "|       13|        1742220|\n",
       "+---------+---------------+"
      ]
     },
     "execution_count": 10,
     "metadata": {},
     "output_type": "execute_result"
    }
   ],
   "source": [
    "spark.sql(\n",
    "    \"\"\"\n",
    "    select center_id, sum(num_orders) from train_view\n",
    "    group by center_id\n",
    "    order by sum(num_orders) desc\n",
    "    limit 1\n",
    "    \"\"\")"
   ]
  },
  {
   "cell_type": "markdown",
   "id": "246258e9",
   "metadata": {},
   "source": [
    "The expanded list:"
   ]
  },
  {
   "cell_type": "code",
   "execution_count": 11,
   "id": "aa04a1ed",
   "metadata": {},
   "outputs": [
    {
     "data": {
      "text/html": [
       "<table border='1'>\n",
       "<tr><th>center_id</th><th>sum(num_orders)</th></tr>\n",
       "<tr><td>13</td><td>1742220</td></tr>\n",
       "<tr><td>43</td><td>1557942</td></tr>\n",
       "<tr><td>10</td><td>1346533</td></tr>\n",
       "<tr><td>137</td><td>1287312</td></tr>\n",
       "<tr><td>52</td><td>1188327</td></tr>\n",
       "<tr><td>174</td><td>1158331</td></tr>\n",
       "<tr><td>67</td><td>1104886</td></tr>\n",
       "<tr><td>11</td><td>1088253</td></tr>\n",
       "<tr><td>27</td><td>955839</td></tr>\n",
       "<tr><td>104</td><td>951334</td></tr>\n",
       "<tr><td>146</td><td>925553</td></tr>\n",
       "<tr><td>108</td><td>914257</td></tr>\n",
       "<tr><td>51</td><td>884075</td></tr>\n",
       "<tr><td>132</td><td>849919</td></tr>\n",
       "<tr><td>99</td><td>830240</td></tr>\n",
       "<tr><td>36</td><td>820700</td></tr>\n",
       "<tr><td>59</td><td>816131</td></tr>\n",
       "<tr><td>89</td><td>789488</td></tr>\n",
       "<tr><td>97</td><td>773587</td></tr>\n",
       "<tr><td>126</td><td>767573</td></tr>\n",
       "</table>\n",
       "only showing top 20 rows\n"
      ],
      "text/plain": [
       "+---------+---------------+\n",
       "|center_id|sum(num_orders)|\n",
       "+---------+---------------+\n",
       "|       13|        1742220|\n",
       "|       43|        1557942|\n",
       "|       10|        1346533|\n",
       "|      137|        1287312|\n",
       "|       52|        1188327|\n",
       "|      174|        1158331|\n",
       "|       67|        1104886|\n",
       "|       11|        1088253|\n",
       "|       27|         955839|\n",
       "|      104|         951334|\n",
       "|      146|         925553|\n",
       "|      108|         914257|\n",
       "|       51|         884075|\n",
       "|      132|         849919|\n",
       "|       99|         830240|\n",
       "|       36|         820700|\n",
       "|       59|         816131|\n",
       "|       89|         789488|\n",
       "|       97|         773587|\n",
       "|      126|         767573|\n",
       "+---------+---------------+\n",
       "only showing top 20 rows"
      ]
     },
     "execution_count": 11,
     "metadata": {},
     "output_type": "execute_result"
    }
   ],
   "source": [
    "spark.sql(\n",
    "    \"\"\"\n",
    "    select center_id, sum(num_orders) from train_view\n",
    "    group by center_id\n",
    "    order by sum(num_orders) desc\n",
    "    \"\"\")"
   ]
  },
  {
   "cell_type": "markdown",
   "id": "a04c46fa",
   "metadata": {},
   "source": [
    "# Question 3"
   ]
  },
  {
   "cell_type": "markdown",
   "id": "1f0c6cff",
   "metadata": {},
   "source": [
    "### What is the top selling cuisine at the center_id that had the highest num_orders?"
   ]
  },
  {
   "cell_type": "code",
   "execution_count": 12,
   "id": "a090c573",
   "metadata": {},
   "outputs": [],
   "source": [
    "df = spark.sql(\n",
    "            \"\"\"\n",
    "            select center_id, num_orders, train_view.meal_id from train_view where center_id = 13\n",
    "            \"\"\")\n",
    "\n",
    "# the below would not work with the where clause\n",
    "#            left join meal_info_view on train_view.meal_id = meal_info_view.meal_id\n",
    "#            \"\"\")\n",
    "\n",
    "df2 = spark.sql(\n",
    "            \"\"\"\n",
    "            select meal_id, cuisine from meal_info_view\n",
    "            \"\"\")\n",
    "\n",
    "df3 = df.join(df2, on='meal_id', how='left')"
   ]
  },
  {
   "cell_type": "code",
   "execution_count": 13,
   "id": "701d8721",
   "metadata": {},
   "outputs": [
    {
     "data": {
      "text/html": [
       "<table border='1'>\n",
       "<tr><th>Cuisine</th><th>sum(num_orders)</th></tr>\n",
       "<tr><td>Thai</td><td>654724</td></tr>\n",
       "<tr><td>Indian</td><td>377658</td></tr>\n",
       "<tr><td>Continental</td><td>169600</td></tr>\n",
       "<tr><td>Italian</td><td>540238</td></tr>\n",
       "</table>\n"
      ],
      "text/plain": [
       "+-----------+---------------+\n",
       "|    Cuisine|sum(num_orders)|\n",
       "+-----------+---------------+\n",
       "|       Thai|         654724|\n",
       "|     Indian|         377658|\n",
       "|Continental|         169600|\n",
       "|    Italian|         540238|\n",
       "+-----------+---------------+"
      ]
     },
     "execution_count": 13,
     "metadata": {},
     "output_type": "execute_result"
    }
   ],
   "source": [
    "df3.select('cuisine', 'num_orders').groupBy('Cuisine').sum('num_orders')"
   ]
  },
  {
   "cell_type": "markdown",
   "id": "e9075dff",
   "metadata": {},
   "source": [
    "The thai cuisine sold the most at the center with the highest number of orders (13)."
   ]
  },
  {
   "cell_type": "markdown",
   "id": "1995e213",
   "metadata": {},
   "source": [
    "# Question 4"
   ]
  },
  {
   "cell_type": "markdown",
   "id": "6381d166",
   "metadata": {},
   "source": [
    "### What is the average op_area per center_type?"
   ]
  },
  {
   "cell_type": "code",
   "execution_count": 14,
   "id": "1da70d4a",
   "metadata": {},
   "outputs": [
    {
     "data": {
      "text/plain": [
       "['center_id', 'city_code', 'region_code', 'center_type', 'op_area']"
      ]
     },
     "execution_count": 14,
     "metadata": {},
     "output_type": "execute_result"
    }
   ],
   "source": [
    "fulfillment_center_info.columns"
   ]
  },
  {
   "cell_type": "code",
   "execution_count": 15,
   "id": "a6a617ad",
   "metadata": {},
   "outputs": [
    {
     "data": {
      "text/html": [
       "<table border='1'>\n",
       "<tr><th>center_id</th><th>avg(op_area)</th></tr>\n",
       "<tr><td>137</td><td>4.4</td></tr>\n",
       "<tr><td>65</td><td>4.8</td></tr>\n",
       "<tr><td>53</td><td>3.8</td></tr>\n",
       "<tr><td>108</td><td>4.4</td></tr>\n",
       "<tr><td>34</td><td>4.2</td></tr>\n",
       "<tr><td>101</td><td>2.8</td></tr>\n",
       "<tr><td>126</td><td>2.7</td></tr>\n",
       "<tr><td>81</td><td>4.0</td></tr>\n",
       "<tr><td>76</td><td>3.0</td></tr>\n",
       "<tr><td>27</td><td>4.5</td></tr>\n",
       "<tr><td>26</td><td>3.0</td></tr>\n",
       "<tr><td>91</td><td>0.9</td></tr>\n",
       "<tr><td>93</td><td>3.9</td></tr>\n",
       "<tr><td>157</td><td>4.1</td></tr>\n",
       "<tr><td>177</td><td>3.4</td></tr>\n",
       "<tr><td>152</td><td>4.0</td></tr>\n",
       "<tr><td>132</td><td>3.9</td></tr>\n",
       "<tr><td>146</td><td>5.0</td></tr>\n",
       "<tr><td>52</td><td>5.6</td></tr>\n",
       "<tr><td>13</td><td>6.7</td></tr>\n",
       "</table>\n",
       "only showing top 20 rows\n"
      ],
      "text/plain": [
       "+---------+------------+\n",
       "|center_id|avg(op_area)|\n",
       "+---------+------------+\n",
       "|      137|         4.4|\n",
       "|       65|         4.8|\n",
       "|       53|         3.8|\n",
       "|      108|         4.4|\n",
       "|       34|         4.2|\n",
       "|      101|         2.8|\n",
       "|      126|         2.7|\n",
       "|       81|         4.0|\n",
       "|       76|         3.0|\n",
       "|       27|         4.5|\n",
       "|       26|         3.0|\n",
       "|       91|         0.9|\n",
       "|       93|         3.9|\n",
       "|      157|         4.1|\n",
       "|      177|         3.4|\n",
       "|      152|         4.0|\n",
       "|      132|         3.9|\n",
       "|      146|         5.0|\n",
       "|       52|         5.6|\n",
       "|       13|         6.7|\n",
       "+---------+------------+\n",
       "only showing top 20 rows"
      ]
     },
     "execution_count": 15,
     "metadata": {},
     "output_type": "execute_result"
    }
   ],
   "source": [
    "fulfillment_center_info.select('center_id', 'op_area').groupBy('center_id').avg('op_area')"
   ]
  },
  {
   "cell_type": "markdown",
   "id": "b04c21e2",
   "metadata": {},
   "source": [
    "# Question 5"
   ]
  },
  {
   "cell_type": "markdown",
   "id": "71d6502c",
   "metadata": {},
   "source": [
    "### Which center_type had the highest revenue? (Revenue is total sum of checkout_price*num_orders)"
   ]
  },
  {
   "cell_type": "code",
   "execution_count": 17,
   "id": "69011036",
   "metadata": {},
   "outputs": [],
   "source": [
    "df = train.join(fulfillment_center_info, on='center_id', how='left')"
   ]
  },
  {
   "cell_type": "code",
   "execution_count": 18,
   "id": "0a6d24cb",
   "metadata": {},
   "outputs": [],
   "source": [
    "from pyspark.sql.functions import col\n",
    "df2 = df.withColumn('revenue', col('num_orders') * col('checkout_price'))"
   ]
  },
  {
   "cell_type": "code",
   "execution_count": 19,
   "id": "910bfd5c",
   "metadata": {},
   "outputs": [
    {
     "data": {
      "text/html": [
       "<table border='1'>\n",
       "<tr><th>center_type</th><th>sum(revenue)</th></tr>\n",
       "<tr><td>TYPE_A</td><td>7.276203201869873E9</td></tr>\n",
       "<tr><td>TYPE_B</td><td>3.1729685294000454E9</td></tr>\n",
       "<tr><td>TYPE_C</td><td>2.251833991370026E9</td></tr>\n",
       "</table>\n"
      ],
      "text/plain": [
       "+-----------+--------------------+\n",
       "|center_type|        sum(revenue)|\n",
       "+-----------+--------------------+\n",
       "|     TYPE_A| 7.276203201869873E9|\n",
       "|     TYPE_B|3.1729685294000454E9|\n",
       "|     TYPE_C| 2.251833991370026E9|\n",
       "+-----------+--------------------+"
      ]
     },
     "execution_count": 19,
     "metadata": {},
     "output_type": "execute_result"
    }
   ],
   "source": [
    "df2.select('center_type', 'revenue').groupBy('center_type').sum('revenue').sort('sum(revenue)', ascending=False)"
   ]
  },
  {
   "cell_type": "markdown",
   "id": "f60fabd8",
   "metadata": {},
   "source": [
    "Center type A had the highest revenue."
   ]
  },
  {
   "cell_type": "markdown",
   "id": "f0a5c852",
   "metadata": {},
   "source": [
    "# Question 6"
   ]
  },
  {
   "cell_type": "markdown",
   "id": "ba3f4d6d",
   "metadata": {},
   "source": [
    "### Which is the top ordered cuisine in terms of num_orders?"
   ]
  },
  {
   "cell_type": "code",
   "execution_count": 22,
   "id": "4dcb09ff",
   "metadata": {},
   "outputs": [],
   "source": [
    "df = train.join(meal_info, on='meal_id', how='left')"
   ]
  },
  {
   "cell_type": "code",
   "execution_count": 24,
   "id": "b8a9b752",
   "metadata": {},
   "outputs": [
    {
     "data": {
      "text/html": [
       "<table border='1'>\n",
       "<tr><th>cuisine</th><th>sum(num_orders)</th></tr>\n",
       "<tr><td>Italian</td><td>17166334</td></tr>\n",
       "<tr><td>Thai</td><td>14058488</td></tr>\n",
       "<tr><td>Indian</td><td>10979934</td></tr>\n",
       "<tr><td>Continental</td><td>6766188</td></tr>\n",
       "</table>\n"
      ],
      "text/plain": [
       "+-----------+---------------+\n",
       "|    cuisine|sum(num_orders)|\n",
       "+-----------+---------------+\n",
       "|    Italian|       17166334|\n",
       "|       Thai|       14058488|\n",
       "|     Indian|       10979934|\n",
       "|Continental|        6766188|\n",
       "+-----------+---------------+"
      ]
     },
     "execution_count": 24,
     "metadata": {},
     "output_type": "execute_result"
    }
   ],
   "source": [
    "df.select('cuisine', 'num_orders').groupBy('cuisine').sum('num_orders').sort('sum(num_orders)', ascending=False)"
   ]
  },
  {
   "cell_type": "markdown",
   "id": "8f769d41",
   "metadata": {},
   "source": [
    "Italian had the greatest number of orders."
   ]
  },
  {
   "cell_type": "markdown",
   "id": "50e3b978",
   "metadata": {},
   "source": [
    "# Question 7"
   ]
  },
  {
   "cell_type": "markdown",
   "id": "3851ae1a",
   "metadata": {},
   "source": [
    "### What are the num_orders per cuisine per week?"
   ]
  },
  {
   "cell_type": "code",
   "execution_count": 34,
   "id": "7b8398ac",
   "metadata": {},
   "outputs": [
    {
     "data": {
      "text/html": [
       "<table border='1'>\n",
       "<tr><th>week</th><th>cuisine</th><th>sum(num_orders)</th></tr>\n",
       "<tr><td>1</td><td>Continental</td><td>146020</td></tr>\n",
       "<tr><td>1</td><td>Indian</td><td>175317</td></tr>\n",
       "<tr><td>1</td><td>Italian</td><td>228836</td></tr>\n",
       "<tr><td>1</td><td>Thai</td><td>242088</td></tr>\n",
       "<tr><td>2</td><td>Continental</td><td>133570</td></tr>\n",
       "<tr><td>2</td><td>Indian</td><td>177109</td></tr>\n",
       "<tr><td>2</td><td>Italian</td><td>202627</td></tr>\n",
       "<tr><td>2</td><td>Thai</td><td>273778</td></tr>\n",
       "<tr><td>3</td><td>Continental</td><td>97977</td></tr>\n",
       "<tr><td>3</td><td>Indian</td><td>150148</td></tr>\n",
       "<tr><td>3</td><td>Italian</td><td>197299</td></tr>\n",
       "<tr><td>3</td><td>Thai</td><td>249838</td></tr>\n",
       "<tr><td>4</td><td>Continental</td><td>118819</td></tr>\n",
       "<tr><td>4</td><td>Indian</td><td>155239</td></tr>\n",
       "<tr><td>4</td><td>Italian</td><td>192265</td></tr>\n",
       "<tr><td>4</td><td>Thai</td><td>277206</td></tr>\n",
       "<tr><td>5</td><td>Continental</td><td>116077</td></tr>\n",
       "<tr><td>5</td><td>Indian</td><td>683532</td></tr>\n",
       "<tr><td>5</td><td>Italian</td><td>169161</td></tr>\n",
       "<tr><td>5</td><td>Thai</td><td>229905</td></tr>\n",
       "</table>\n",
       "only showing top 20 rows\n"
      ],
      "text/plain": [
       "+----+-----------+---------------+\n",
       "|week|    cuisine|sum(num_orders)|\n",
       "+----+-----------+---------------+\n",
       "|   1|Continental|         146020|\n",
       "|   1|     Indian|         175317|\n",
       "|   1|    Italian|         228836|\n",
       "|   1|       Thai|         242088|\n",
       "|   2|Continental|         133570|\n",
       "|   2|     Indian|         177109|\n",
       "|   2|    Italian|         202627|\n",
       "|   2|       Thai|         273778|\n",
       "|   3|Continental|          97977|\n",
       "|   3|     Indian|         150148|\n",
       "|   3|    Italian|         197299|\n",
       "|   3|       Thai|         249838|\n",
       "|   4|Continental|         118819|\n",
       "|   4|     Indian|         155239|\n",
       "|   4|    Italian|         192265|\n",
       "|   4|       Thai|         277206|\n",
       "|   5|Continental|         116077|\n",
       "|   5|     Indian|         683532|\n",
       "|   5|    Italian|         169161|\n",
       "|   5|       Thai|         229905|\n",
       "+----+-----------+---------------+\n",
       "only showing top 20 rows"
      ]
     },
     "execution_count": 34,
     "metadata": {},
     "output_type": "execute_result"
    }
   ],
   "source": [
    "df.select('cuisine', 'num_orders', 'week').groupBy('week', 'cuisine').sum('num_orders').sort('week', 'cuisine')"
   ]
  },
  {
   "cell_type": "markdown",
   "id": "fb8c149d",
   "metadata": {},
   "source": [
    "# Question 8"
   ]
  },
  {
   "cell_type": "markdown",
   "id": "7b7d382c",
   "metadata": {},
   "source": [
    "### Which center_id gave the highest number of discounts?\n",
    "(Discount is considered when checkout_price is less than base_price)"
   ]
  },
  {
   "cell_type": "code",
   "execution_count": 36,
   "id": "97092116",
   "metadata": {},
   "outputs": [],
   "source": [
    "discount_df = train[train['checkout_price'] < train['base_price']]"
   ]
  },
  {
   "cell_type": "code",
   "execution_count": 37,
   "id": "cbdfa59f",
   "metadata": {},
   "outputs": [],
   "source": [
    "df = discount_df.join(fulfillment_center_info, on='center_id', how='left')"
   ]
  },
  {
   "cell_type": "code",
   "execution_count": 39,
   "id": "002c1b24",
   "metadata": {},
   "outputs": [
    {
     "data": {
      "text/plain": [
       "['center_id',\n",
       " 'id',\n",
       " 'week',\n",
       " 'meal_id',\n",
       " 'checkout_price',\n",
       " 'base_price',\n",
       " 'emailer_for_promotion',\n",
       " 'homepage_featured',\n",
       " 'num_orders',\n",
       " 'city_code',\n",
       " 'region_code',\n",
       " 'center_type',\n",
       " 'op_area']"
      ]
     },
     "execution_count": 39,
     "metadata": {},
     "output_type": "execute_result"
    }
   ],
   "source": [
    "df.columns"
   ]
  },
  {
   "cell_type": "code",
   "execution_count": 43,
   "id": "af5fbe36",
   "metadata": {},
   "outputs": [
    {
     "data": {
      "text/html": [
       "<table border='1'>\n",
       "<tr><th>center_id</th><th>sum(num_orders)</th></tr>\n",
       "<tr><td>13</td><td>1092266</td></tr>\n",
       "<tr><td>43</td><td>991737</td></tr>\n",
       "<tr><td>137</td><td>871196</td></tr>\n",
       "<tr><td>10</td><td>827907</td></tr>\n",
       "<tr><td>174</td><td>753408</td></tr>\n",
       "</table>\n"
      ],
      "text/plain": [
       "+---------+---------------+\n",
       "|center_id|sum(num_orders)|\n",
       "+---------+---------------+\n",
       "|       13|        1092266|\n",
       "|       43|         991737|\n",
       "|      137|         871196|\n",
       "|       10|         827907|\n",
       "|      174|         753408|\n",
       "+---------+---------------+"
      ]
     },
     "execution_count": 43,
     "metadata": {},
     "output_type": "execute_result"
    }
   ],
   "source": [
    "df.select('center_id', 'num_orders').groupBy('center_id').sum('num_orders').sort('sum(num_orders)', ascending=False).limit(5)"
   ]
  },
  {
   "cell_type": "markdown",
   "id": "5fde7e37",
   "metadata": {},
   "source": [
    "Center 13 gave the most discounts."
   ]
  }
 ],
 "metadata": {
  "kernelspec": {
   "display_name": "Pyspark 2",
   "language": "python",
   "name": "pyspark2"
  },
  "language_info": {
   "codemirror_mode": {
    "name": "ipython",
    "version": 3
   },
   "file_extension": ".py",
   "mimetype": "text/x-python",
   "name": "python",
   "nbconvert_exporter": "python",
   "pygments_lexer": "ipython3",
   "version": "3.6.12"
  }
 },
 "nbformat": 4,
 "nbformat_minor": 5
}
