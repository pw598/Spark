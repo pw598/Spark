{
 "cells": [
  {
   "cell_type": "markdown",
   "metadata": {},
   "source": [
    "# `Spark SQL`\n",
    "\n",
    "----\n",
    "\n",
    "### `Table of Contents`\n",
    "* Define schema\n",
    "* Read data\n",
    "* Create temporary view of table\n",
    "* View columns\n",
    "* Create new column\n",
    "* Explore and Visualize data\n",
    "\n",
    "---"
   ]
  },
  {
   "cell_type": "markdown",
   "metadata": {},
   "source": [
    "---\n",
    "### `Create Spark Session`\n",
    "\n",
    "---"
   ]
  },
  {
   "cell_type": "code",
   "execution_count": 1,
   "metadata": {},
   "outputs": [],
   "source": [
    "from pyspark.sql import SparkSession"
   ]
  },
  {
   "cell_type": "code",
   "execution_count": 2,
   "metadata": {},
   "outputs": [],
   "source": [
    "# Create SparkSession object\n",
    "spark = SparkSession.builder \\\n",
    "        .getOrCreate()"
   ]
  },
  {
   "cell_type": "markdown",
   "metadata": {},
   "source": [
    "----\n",
    "### `Understanding the data`\n",
    "\n",
    "**`Census data - `**\n",
    "\n",
    "![](images/census_data.png)\n",
    "\n",
    "**`Columns - `**\n",
    "\n",
    "* age\n",
    "* workclass\n",
    "* fnlwgt\n",
    "* education\n",
    "* education-num\n",
    "* marital-status\n",
    "* occupation\n",
    "* relationship\n",
    "* race\n",
    "* sex\n",
    "* capital-gain\n",
    "* capital-loss\n",
    "* hours-per-week\n",
    "* native-country"
   ]
  },
  {
   "cell_type": "markdown",
   "metadata": {},
   "source": [
    "----\n",
    "### `Define schema`\n",
    "\n",
    "----"
   ]
  },
  {
   "cell_type": "code",
   "execution_count": 3,
   "metadata": {},
   "outputs": [],
   "source": [
    "# Import required libraries\n",
    "from pyspark.sql.types import StringType, IntegerType, StructType, StructField, DoubleType"
   ]
  },
  {
   "cell_type": "code",
   "execution_count": 4,
   "metadata": {},
   "outputs": [],
   "source": [
    "# Define schema\n",
    "finalSchema = StructType([StructField('age', DoubleType(),True),\n",
    "                              StructField('workclass',StringType(),True),\n",
    "                              StructField('fnlwgt', DoubleType(),True),\n",
    "                              StructField('education', StringType(), True),\n",
    "                              StructField('education_num', DoubleType(), True),\n",
    "                              StructField('marital_status', StringType(), True),\n",
    "                              StructField('occupation', StringType(), True),\n",
    "                              StructField(gspm2v5ybx26wlkh7i9doqhbk8csd7ko'relationship', StringType(), True),\n",
    "                              StructField('race', StringType(), True),\n",
    "                              StructField('sex', StringType(), True),\n",
    "                              StructField('capital_gain', DoubleType(), True),\n",
    "                              StructField('capital_loss', DoubleType(), True),\n",
    "                              StructField('hours_per_week', DoubleType(), True),\n",
    "                              StructField('native_country', StringType(), True),\n",
    "                              StructField('income', StringType(), True)\n",
    "                             ])"
   ]
  },
  {
   "cell_type": "markdown",
   "metadata": {},
   "source": [
    "---\n",
    "### `Read data`\n",
    "\n",
    "----"
   ]
  },
  {
   "cell_type": "code",
   "execution_count": 5,
   "metadata": {},
   "outputs": [],
   "source": [
    "# Creating dataframe from the data\n",
    "df = spark.read.csv('data/census.csv',schema=finalSchema,header=True)"
   ]
  },
  {
   "cell_type": "code",
   "execution_count": 6,
   "metadata": {},
   "outputs": [
    {
     "name": "stdout",
     "output_type": "stream",
     "text": [
      "root\n",
      " |-- age: double (nullable = true)\n",
      " |-- workclass: string (nullable = true)\n",
      " |-- fnlwgt: double (nullable = true)\n",
      " |-- education: string (nullable = true)\n",
      " |-- education_num: double (nullable = true)\n",
      " |-- marital_status: string (nullable = true)\n",
      " |-- occupation: string (nullable = true)\n",
      " |-- relationship: string (nullable = true)\n",
      " |-- race: string (nullable = true)\n",
      " |-- sex: string (nullable = true)\n",
      " |-- capital_gain: double (nullable = true)\n",
      " |-- capital_loss: double (nullable = true)\n",
      " |-- hours_per_week: double (nullable = true)\n",
      " |-- native_country: string (nullable = true)\n",
      " |-- income: string (nullable = true)\n",
      "\n"
     ]
    }
   ],
   "source": [
    "# Schema of dataframe\n",
    "df.printSchema()"
   ]
  },
  {
   "cell_type": "markdown",
   "metadata": {
    "application/vnd.databricks.v1+cell": {
     "inputWidgets": {},
     "nuid": "9a01578d-eca5-4cb7-9e8f-c341b470aed9",
     "showTitle": false,
     "title": ""
    }
   },
   "source": [
    "---\n",
    "### `Create temporary view of table`"
   ]
  },
  {
   "cell_type": "markdown",
   "metadata": {},
   "source": [
    "Create or replace a temporary view for dataframe using [**`createOrReplaceTempView()`**](http://spark.apache.org/docs/2.1.0/api/python/pyspark.sql.html?highlight=withcolumn#pyspark.sql.DataFrame.createOrReplaceTempView) with the provided name.\n",
    "\n",
    "----"
   ]
  },
  {
   "cell_type": "code",
   "execution_count": 7,
   "metadata": {},
   "outputs": [],
   "source": [
    "# Create view for the dataframe\n",
    "df.createOrReplaceTempView(\"census\")"
   ]
  },
  {
   "cell_type": "code",
   "execution_count": 8,
   "metadata": {},
   "outputs": [
    {
     "name": "stdout",
     "output_type": "stream",
     "text": [
      "+--------------+\n",
      "|      col_name|\n",
      "+--------------+\n",
      "|           age|\n",
      "|     workclass|\n",
      "|        fnlwgt|\n",
      "|     education|\n",
      "| education_num|\n",
      "|marital_status|\n",
      "|    occupation|\n",
      "|  relationship|\n",
      "|          race|\n",
      "|           sex|\n",
      "|  capital_gain|\n",
      "|  capital_loss|\n",
      "|hours_per_week|\n",
      "|native_country|\n",
      "|        income|\n",
      "+--------------+\n",
      "\n"
     ]
    }
   ],
   "source": [
    "# View columns\n",
    "spark.sql(\"show columns from census\").show()"
   ]
  },
  {
   "cell_type": "markdown",
   "metadata": {},
   "source": [
    "---\n",
    "### `View columns`\n",
    "\n",
    "View select columns from the temporary table.\n",
    "\n",
    "---"
   ]
  },
  {
   "cell_type": "code",
   "execution_count": 9,
   "metadata": {},
   "outputs": [
    {
     "data": {
      "text/html": [
       "<table border='1'>\n",
       "<tr><th>age</th><th>workclass</th><th>fnlwgt</th><th>education</th><th>income</th></tr>\n",
       "<tr><td>50.0</td><td> Self-emp-not-inc</td><td>83311.0</td><td> Bachelors</td><td> &lt;=50K</td></tr>\n",
       "<tr><td>38.0</td><td> Private</td><td>215646.0</td><td> HS-grad</td><td> &lt;=50K</td></tr>\n",
       "<tr><td>53.0</td><td> Private</td><td>234721.0</td><td> 11th</td><td> &lt;=50K</td></tr>\n",
       "<tr><td>28.0</td><td> Private</td><td>338409.0</td><td> Bachelors</td><td> &lt;=50K</td></tr>\n",
       "<tr><td>37.0</td><td> Private</td><td>284582.0</td><td> Masters</td><td> &lt;=50K</td></tr>\n",
       "<tr><td>49.0</td><td> Private</td><td>160187.0</td><td> 9th</td><td> &lt;=50K</td></tr>\n",
       "<tr><td>52.0</td><td> Self-emp-not-inc</td><td>209642.0</td><td> HS-grad</td><td> &gt;50K</td></tr>\n",
       "<tr><td>31.0</td><td> Private</td><td>45781.0</td><td> Masters</td><td> &gt;50K</td></tr>\n",
       "<tr><td>42.0</td><td> Private</td><td>159449.0</td><td> Bachelors</td><td> &gt;50K</td></tr>\n",
       "<tr><td>37.0</td><td> Private</td><td>280464.0</td><td> Some-college</td><td> &gt;50K</td></tr>\n",
       "<tr><td>30.0</td><td> State-gov</td><td>141297.0</td><td> Bachelors</td><td> &gt;50K</td></tr>\n",
       "<tr><td>23.0</td><td> Private</td><td>122272.0</td><td> Bachelors</td><td> &lt;=50K</td></tr>\n",
       "<tr><td>32.0</td><td> Private</td><td>205019.0</td><td> Assoc-acdm</td><td> &lt;=50K</td></tr>\n",
       "<tr><td>40.0</td><td> Private</td><td>121772.0</td><td> Assoc-voc</td><td> &gt;50K</td></tr>\n",
       "<tr><td>34.0</td><td> Private</td><td>245487.0</td><td> 7th-8th</td><td> &lt;=50K</td></tr>\n",
       "<tr><td>25.0</td><td> Self-emp-not-inc</td><td>176756.0</td><td> HS-grad</td><td> &lt;=50K</td></tr>\n",
       "<tr><td>32.0</td><td> Private</td><td>186824.0</td><td> HS-grad</td><td> &lt;=50K</td></tr>\n",
       "<tr><td>38.0</td><td> Private</td><td>28887.0</td><td> 11th</td><td> &lt;=50K</td></tr>\n",
       "<tr><td>43.0</td><td> Self-emp-not-inc</td><td>292175.0</td><td> Masters</td><td> &gt;50K</td></tr>\n",
       "<tr><td>40.0</td><td> Private</td><td>193524.0</td><td> Doctorate</td><td> &gt;50K</td></tr>\n",
       "</table>\n",
       "only showing top 20 rows\n"
      ],
      "text/plain": [
       "+----+-----------------+--------+-------------+------+\n",
       "| age|        workclass|  fnlwgt|    education|income|\n",
       "+----+-----------------+--------+-------------+------+\n",
       "|50.0| Self-emp-not-inc| 83311.0|    Bachelors| <=50K|\n",
       "|38.0|          Private|215646.0|      HS-grad| <=50K|\n",
       "|53.0|          Private|234721.0|         11th| <=50K|\n",
       "|28.0|          Private|338409.0|    Bachelors| <=50K|\n",
       "|37.0|          Private|284582.0|      Masters| <=50K|\n",
       "|49.0|          Private|160187.0|          9th| <=50K|\n",
       "|52.0| Self-emp-not-inc|209642.0|      HS-grad|  >50K|\n",
       "|31.0|          Private| 45781.0|      Masters|  >50K|\n",
       "|42.0|          Private|159449.0|    Bachelors|  >50K|\n",
       "|37.0|          Private|280464.0| Some-college|  >50K|\n",
       "|30.0|        State-gov|141297.0|    Bachelors|  >50K|\n",
       "|23.0|          Private|122272.0|    Bachelors| <=50K|\n",
       "|32.0|          Private|205019.0|   Assoc-acdm| <=50K|\n",
       "|40.0|          Private|121772.0|    Assoc-voc|  >50K|\n",
       "|34.0|          Private|245487.0|      7th-8th| <=50K|\n",
       "|25.0| Self-emp-not-inc|176756.0|      HS-grad| <=50K|\n",
       "|32.0|          Private|186824.0|      HS-grad| <=50K|\n",
       "|38.0|          Private| 28887.0|         11th| <=50K|\n",
       "|43.0| Self-emp-not-inc|292175.0|      Masters|  >50K|\n",
       "|40.0|          Private|193524.0|    Doctorate|  >50K|\n",
       "+----+-----------------+--------+-------------+------+\n",
       "only showing top 20 rows"
      ]
     },
     "execution_count": 9,
     "metadata": {},
     "output_type": "execute_result"
    }
   ],
   "source": [
    "# View select columns\n",
    "spark.sql(\"select age, workclass, fnlwgt, education, income from census\")"
   ]
  },
  {
   "cell_type": "markdown",
   "metadata": {},
   "source": [
    "---\n",
    "### `Creating new column`\n",
    "\n",
    "---"
   ]
  },
  {
   "cell_type": "code",
   "execution_count": 10,
   "metadata": {},
   "outputs": [],
   "source": [
    "# Create new column\n",
    "df_mod = spark.sql('select *, fnlwgt%1000 as NEW_COLUMN from census')"
   ]
  },
  {
   "cell_type": "code",
   "execution_count": 11,
   "metadata": {},
   "outputs": [],
   "source": [
    "# Create view for the dataframe\n",
    "df_mod.createOrReplaceTempView(\"census_mod\")"
   ]
  },
  {
   "cell_type": "code",
   "execution_count": 12,
   "metadata": {},
   "outputs": [
    {
     "data": {
      "text/html": [
       "<table border='1'>\n",
       "<tr><th>fnlwgt</th><th>NEW_COLUMN</th></tr>\n",
       "<tr><td>83311.0</td><td>311.0</td></tr>\n",
       "<tr><td>215646.0</td><td>646.0</td></tr>\n",
       "<tr><td>234721.0</td><td>721.0</td></tr>\n",
       "<tr><td>338409.0</td><td>409.0</td></tr>\n",
       "<tr><td>284582.0</td><td>582.0</td></tr>\n",
       "<tr><td>160187.0</td><td>187.0</td></tr>\n",
       "<tr><td>209642.0</td><td>642.0</td></tr>\n",
       "<tr><td>45781.0</td><td>781.0</td></tr>\n",
       "<tr><td>159449.0</td><td>449.0</td></tr>\n",
       "<tr><td>280464.0</td><td>464.0</td></tr>\n",
       "<tr><td>141297.0</td><td>297.0</td></tr>\n",
       "<tr><td>122272.0</td><td>272.0</td></tr>\n",
       "<tr><td>205019.0</td><td>19.0</td></tr>\n",
       "<tr><td>121772.0</td><td>772.0</td></tr>\n",
       "<tr><td>245487.0</td><td>487.0</td></tr>\n",
       "<tr><td>176756.0</td><td>756.0</td></tr>\n",
       "<tr><td>186824.0</td><td>824.0</td></tr>\n",
       "<tr><td>28887.0</td><td>887.0</td></tr>\n",
       "<tr><td>292175.0</td><td>175.0</td></tr>\n",
       "<tr><td>193524.0</td><td>524.0</td></tr>\n",
       "</table>\n",
       "only showing top 20 rows\n"
      ],
      "text/plain": [
       "+--------+----------+\n",
       "|  fnlwgt|NEW_COLUMN|\n",
       "+--------+----------+\n",
       "| 83311.0|     311.0|\n",
       "|215646.0|     646.0|\n",
       "|234721.0|     721.0|\n",
       "|338409.0|     409.0|\n",
       "|284582.0|     582.0|\n",
       "|160187.0|     187.0|\n",
       "|209642.0|     642.0|\n",
       "| 45781.0|     781.0|\n",
       "|159449.0|     449.0|\n",
       "|280464.0|     464.0|\n",
       "|141297.0|     297.0|\n",
       "|122272.0|     272.0|\n",
       "|205019.0|      19.0|\n",
       "|121772.0|     772.0|\n",
       "|245487.0|     487.0|\n",
       "|176756.0|     756.0|\n",
       "|186824.0|     824.0|\n",
       "| 28887.0|     887.0|\n",
       "|292175.0|     175.0|\n",
       "|193524.0|     524.0|\n",
       "+--------+----------+\n",
       "only showing top 20 rows"
      ]
     },
     "execution_count": 12,
     "metadata": {},
     "output_type": "execute_result"
    }
   ],
   "source": [
    "# SQL query on new View\n",
    "spark.sql(\"select fnlwgt, NEW_COLUMN from census_mod\")"
   ]
  },
  {
   "cell_type": "markdown",
   "metadata": {},
   "source": [
    "----\n",
    "### `SQL Queries`\n",
    "\n",
    "----"
   ]
  },
  {
   "cell_type": "code",
   "execution_count": 13,
   "metadata": {},
   "outputs": [
    {
     "data": {
      "text/html": [
       "<table border='1'>\n",
       "<tr><th>occupation</th><th>n</th><th>married_rate</th><th>widow_rate</th><th>divorce_rate</th><th>separated_rate</th><th>bachelor_rate</th></tr>\n",
       "<tr><td> Prof-specialty</td><td>4140</td><td>0.53</td><td>0.02</td><td>0.13</td><td>0.02</td><td>0.3</td></tr>\n",
       "<tr><td> Craft-repair</td><td>4099</td><td>0.64</td><td>0.01</td><td>0.11</td><td>0.03</td><td>0.21</td></tr>\n",
       "<tr><td> Exec-managerial</td><td>4066</td><td>0.61</td><td>0.02</td><td>0.15</td><td>0.02</td><td>0.2</td></tr>\n",
       "<tr><td> Adm-clerical</td><td>3769</td><td>0.28</td><td>0.04</td><td>0.22</td><td>0.04</td><td>0.42</td></tr>\n",
       "<tr><td> Sales</td><td>3650</td><td>0.47</td><td>0.03</td><td>0.12</td><td>0.03</td><td>0.36</td></tr>\n",
       "<tr><td> Other-service</td><td>3295</td><td>0.24</td><td>0.05</td><td>0.15</td><td>0.06</td><td>0.5</td></tr>\n",
       "<tr><td> Machine-op-inspct</td><td>2002</td><td>0.51</td><td>0.03</td><td>0.14</td><td>0.04</td><td>0.29</td></tr>\n",
       "<tr><td> ?</td><td>1843</td><td>0.36</td><td>0.08</td><td>0.1</td><td>0.04</td><td>0.42</td></tr>\n",
       "<tr><td> Transport-moving</td><td>1597</td><td>0.63</td><td>0.02</td><td>0.11</td><td>0.02</td><td>0.21</td></tr>\n",
       "<tr><td> Handlers-cleaners</td><td>1370</td><td>0.36</td><td>0.01</td><td>0.09</td><td>0.03</td><td>0.51</td></tr>\n",
       "<tr><td> Farming-fishing</td><td>994</td><td>0.6</td><td>0.02</td><td>0.06</td><td>0.02</td><td>0.29</td></tr>\n",
       "<tr><td> Tech-support</td><td>928</td><td>0.44</td><td>0.02</td><td>0.15</td><td>0.03</td><td>0.36</td></tr>\n",
       "<tr><td> Protective-serv</td><td>649</td><td>0.6</td><td>0.01</td><td>0.12</td><td>0.02</td><td>0.24</td></tr>\n",
       "<tr><td> Priv-house-serv</td><td>149</td><td>0.13</td><td>0.15</td><td>0.19</td><td>0.08</td><td>0.45</td></tr>\n",
       "<tr><td> Armed-Forces</td><td>9</td><td>0.33</td><td>0.0</td><td>0.0</td><td>0.0</td><td>0.67</td></tr>\n",
       "</table>\n"
      ],
      "text/plain": [
       "+------------------+----+------------+----------+------------+--------------+-------------+\n",
       "|        occupation|   n|married_rate|widow_rate|divorce_rate|separated_rate|bachelor_rate|\n",
       "+------------------+----+------------+----------+------------+--------------+-------------+\n",
       "|    Prof-specialty|4140|        0.53|      0.02|        0.13|          0.02|          0.3|\n",
       "|      Craft-repair|4099|        0.64|      0.01|        0.11|          0.03|         0.21|\n",
       "|   Exec-managerial|4066|        0.61|      0.02|        0.15|          0.02|          0.2|\n",
       "|      Adm-clerical|3769|        0.28|      0.04|        0.22|          0.04|         0.42|\n",
       "|             Sales|3650|        0.47|      0.03|        0.12|          0.03|         0.36|\n",
       "|     Other-service|3295|        0.24|      0.05|        0.15|          0.06|          0.5|\n",
       "| Machine-op-inspct|2002|        0.51|      0.03|        0.14|          0.04|         0.29|\n",
       "|                 ?|1843|        0.36|      0.08|         0.1|          0.04|         0.42|\n",
       "|  Transport-moving|1597|        0.63|      0.02|        0.11|          0.02|         0.21|\n",
       "| Handlers-cleaners|1370|        0.36|      0.01|        0.09|          0.03|         0.51|\n",
       "|   Farming-fishing| 994|         0.6|      0.02|        0.06|          0.02|         0.29|\n",
       "|      Tech-support| 928|        0.44|      0.02|        0.15|          0.03|         0.36|\n",
       "|   Protective-serv| 649|         0.6|      0.01|        0.12|          0.02|         0.24|\n",
       "|   Priv-house-serv| 149|        0.13|      0.15|        0.19|          0.08|         0.45|\n",
       "|      Armed-Forces|   9|        0.33|       0.0|         0.0|           0.0|         0.67|\n",
       "+------------------+----+------------+----------+------------+--------------+-------------+"
      ]
     },
     "execution_count": 13,
     "metadata": {},
     "output_type": "execute_result"
    }
   ],
   "source": [
    "# Marital rates by occupation\n",
    "spark.sql(\n",
    "  \"\"\"\n",
    "  SELECT \n",
    "    occupation,\n",
    "    SUM(1) as n,\n",
    "    ROUND(AVG(if(LTRIM(marital_status) LIKE 'Married-%',1,0)),2) as married_rate,\n",
    "    ROUND(AVG(if(lower(marital_status) LIKE '%widow%',1,0)),2) as widow_rate,\n",
    "    ROUND(AVG(if(LTRIM(marital_status) = 'Divorced',1,0)),2) as divorce_rate,\n",
    "    ROUND(AVG(if(LTRIM(marital_status) = 'Separated',1,0)),2) as separated_rate,\n",
    "    ROUND(AVG(if(LTRIM(marital_status) = 'Never-married',1,0)),2) as bachelor_rate\n",
    "  FROM \n",
    "    census_mod \n",
    "  GROUP BY 1\n",
    "  ORDER BY n DESC\n",
    "  \"\"\")"
   ]
  },
  {
   "cell_type": "markdown",
   "metadata": {},
   "source": [
    "----\n",
    "### `Convert table to dataframe`\n",
    "* Convert a temporary table to dataframe using [table](https://spark.apache.org/docs/2.1.0/api/python/pyspark.sql.html#pyspark.sql.SparkSession.table)\n",
    "\n",
    "----"
   ]
  },
  {
   "cell_type": "code",
   "execution_count": 14,
   "metadata": {},
   "outputs": [],
   "source": [
    "# Convert table to dataframe\n",
    "df_mod_2 = spark.table(\"census_mod\")"
   ]
  },
  {
   "cell_type": "code",
   "execution_count": 15,
   "metadata": {},
   "outputs": [
    {
     "data": {
      "text/plain": [
       "['age',\n",
       " 'workclass',\n",
       " 'fnlwgt',\n",
       " 'education',\n",
       " 'education_num',\n",
       " 'marital_status',\n",
       " 'occupation',\n",
       " 'relationship',\n",
       " 'race',\n",
       " 'sex',\n",
       " 'capital_gain',\n",
       " 'capital_loss',\n",
       " 'hours_per_week',\n",
       " 'native_country',\n",
       " 'income',\n",
       " 'NEW_COLUMN']"
      ]
     },
     "execution_count": 15,
     "metadata": {},
     "output_type": "execute_result"
    }
   ],
   "source": [
    "# Columns\n",
    "df_mod_2.columns"
   ]
  },
  {
   "cell_type": "markdown",
   "metadata": {},
   "source": [
    "----\n",
    "### `Explore & Visualize Data`\n",
    " * Aggregate using Spark SQL\n",
    " * Convert Spark DataFrame to Pandas DataFrame\n",
    " * Visualize Pandas DataFrame\n",
    " \n",
    " ----"
   ]
  },
  {
   "cell_type": "code",
   "execution_count": 16,
   "metadata": {},
   "outputs": [],
   "source": [
    "# Average people withh income >50K per occupation\n",
    "df_result = spark.sql(\n",
    "  \"\"\"\n",
    "  SELECT \n",
    "    occupation,\n",
    "    AVG(IF(income = ' >50K',1,0)) as plus_50k\n",
    "  FROM \n",
    "    census_mod \n",
    "  GROUP BY 1\n",
    "  ORDER BY 2 DESC\n",
    "  \"\"\")"
   ]
  },
  {
   "cell_type": "code",
   "execution_count": 17,
   "metadata": {},
   "outputs": [
    {
     "name": "stdout",
     "output_type": "stream",
     "text": [
      "+------------------+--------------------+\n",
      "|        occupation|            plus_50k|\n",
      "+------------------+--------------------+\n",
      "|   Exec-managerial|  0.4840137727496311|\n",
      "|    Prof-specialty| 0.44903381642512075|\n",
      "|   Protective-serv|   0.325115562403698|\n",
      "|      Tech-support| 0.30495689655172414|\n",
      "|             Sales|  0.2693150684931507|\n",
      "|      Craft-repair| 0.22664064405952672|\n",
      "|  Transport-moving| 0.20037570444583594|\n",
      "|      Adm-clerical| 0.13451843990448395|\n",
      "| Machine-op-inspct| 0.12487512487512488|\n",
      "|   Farming-fishing| 0.11569416498993963|\n",
      "|      Armed-Forces|  0.1111111111111111|\n",
      "|                 ?| 0.10363537710255019|\n",
      "| Handlers-cleaners| 0.06277372262773723|\n",
      "|     Other-service| 0.04157814871016692|\n",
      "|   Priv-house-serv|0.006711409395973154|\n",
      "+------------------+--------------------+\n",
      "\n"
     ]
    }
   ],
   "source": [
    "# Display dataframe\n",
    "df_result.show()"
   ]
  },
  {
   "cell_type": "code",
   "execution_count": 18,
   "metadata": {},
   "outputs": [],
   "source": [
    "# Convert Spark dataframe to Pandas dataframe\n",
    "import pandas as pd\n",
    "\n",
    "# Collect results into a Pandas dataframe\n",
    "df_pandas = pd.DataFrame(df_result.collect(), columns=df_result.schema.names)"
   ]
  },
  {
   "cell_type": "code",
   "execution_count": 19,
   "metadata": {},
   "outputs": [
    {
     "data": {
      "text/html": [
       "<div>\n",
       "<style scoped>\n",
       "    .dataframe tbody tr th:only-of-type {\n",
       "        vertical-align: middle;\n",
       "    }\n",
       "\n",
       "    .dataframe tbody tr th {\n",
       "        vertical-align: top;\n",
       "    }\n",
       "\n",
       "    .dataframe thead th {\n",
       "        text-align: right;\n",
       "    }\n",
       "</style>\n",
       "<table border=\"1\" class=\"dataframe\">\n",
       "  <thead>\n",
       "    <tr style=\"text-align: right;\">\n",
       "      <th></th>\n",
       "      <th>occupation</th>\n",
       "      <th>plus_50k</th>\n",
       "    </tr>\n",
       "  </thead>\n",
       "  <tbody>\n",
       "    <tr>\n",
       "      <th>0</th>\n",
       "      <td>Exec-managerial</td>\n",
       "      <td>0.484014</td>\n",
       "    </tr>\n",
       "    <tr>\n",
       "      <th>1</th>\n",
       "      <td>Prof-specialty</td>\n",
       "      <td>0.449034</td>\n",
       "    </tr>\n",
       "    <tr>\n",
       "      <th>2</th>\n",
       "      <td>Protective-serv</td>\n",
       "      <td>0.325116</td>\n",
       "    </tr>\n",
       "    <tr>\n",
       "      <th>3</th>\n",
       "      <td>Tech-support</td>\n",
       "      <td>0.304957</td>\n",
       "    </tr>\n",
       "    <tr>\n",
       "      <th>4</th>\n",
       "      <td>Sales</td>\n",
       "      <td>0.269315</td>\n",
       "    </tr>\n",
       "  </tbody>\n",
       "</table>\n",
       "</div>"
      ],
      "text/plain": [
       "         occupation  plus_50k\n",
       "0   Exec-managerial  0.484014\n",
       "1    Prof-specialty  0.449034\n",
       "2   Protective-serv  0.325116\n",
       "3      Tech-support  0.304957\n",
       "4             Sales  0.269315"
      ]
     },
     "execution_count": 19,
     "metadata": {},
     "output_type": "execute_result"
    }
   ],
   "source": [
    "# Display df\n",
    "df_pandas.head()"
   ]
  },
  {
   "cell_type": "code",
   "execution_count": 20,
   "metadata": {},
   "outputs": [
    {
     "data": {
      "image/png": "[encoded data removed]",
      "text/plain": [
       "<Figure size 432x288 with 1 Axes>"
      ]
     },
     "metadata": {
      "needs_background": "light"
     },
     "output_type": "display_data"
    }
   ],
   "source": [
    "# Visualize result\n",
    "import matplotlib.pyplot as plt\n",
    "\n",
    "# get simple plot on the pandas data\n",
    "df_pandas.plot(kind='barh', x='occupation', y='plus_50k');"
   ]
  },
  {
   "cell_type": "code",
   "execution_count": null,
   "metadata": {},
   "outputs": [],
   "source": []
  }
 ],
 "metadata": {
  "kernelspec": {
   "display_name": "Pyspark 2",
   "language": "python",
   "name": "pyspark2"
  },
  "language_info": {
   "codemirror_mode": {
    "name": "ipython",
    "version": 3
   },
   "file_extension": ".py",
   "mimetype": "text/x-python",
   "name": "python",
   "nbconvert_exporter": "python",
   "pygments_lexer": "ipython3",
   "version": "3.6.12"
  }
 },
 "nbformat": 4,
 "nbformat_minor": 4
}
