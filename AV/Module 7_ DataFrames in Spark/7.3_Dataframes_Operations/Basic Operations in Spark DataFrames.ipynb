{
 "cells": [
  {
   "cell_type": "markdown",
   "metadata": {},
   "source": [
    "---\n",
    "\n",
    "<center><h1> DataFrames Operations </h1></center>\n",
    "\n",
    "---\n",
    "\n",
    "\n",
    "\n",
    "* 1. **Print Schema**\n",
    "* 2. **Column Names**\n",
    "* 3. **Check the Dimensions of the Data**\n",
    "* 4. **Select Columns**\n",
    "* 5. **Add new columns**\n",
    "* 6. **Sorting**\n",
    "* 7. **GroupBy & Aggregation Functions**\n",
    "\n",
    "---\n",
    "\n",
    "We are going to use the Healthcare Analytics Data which has 18 different columns -\n",
    "\n",
    " - case_id\n",
    " - hospital_code\n",
    " - hospital_type_code\n",
    " - city_code_hospital\n",
    " - hospital_region_code\n",
    " - extra_room_available\n",
    " - department\n",
    " - ward_type\n",
    " - ward_facility_code\n",
    " - bed_grade\n",
    " - patient_id\n",
    " - city_code_patient\n",
    " - admission_type\n",
    " - severity_of_illness\n",
    " - visitors_with_patient\n",
    " - age\n",
    " - admission_deposit\n",
    " - stay\n",
    "\n",
    "---\n",
    "\n",
    "\n",
    "\n",
    "---\n",
    "\n",
    "#### `Importing the Required Libraries`\n",
    "\n",
    "---"
   ]
  },
  {
   "cell_type": "code",
   "execution_count": 1,
   "metadata": {},
   "outputs": [],
   "source": [
    "from pyspark.sql import SparkSession\n",
    "import pyspark.sql.types as tp"
   ]
  },
  {
   "cell_type": "code",
   "execution_count": 2,
   "metadata": {
    "scrolled": true
   },
   "outputs": [
    {
     "data": {
      "text/html": [
       "\n",
       "            <div>\n",
       "                <p><b>SparkSession - in-memory</b></p>\n",
       "                \n",
       "        <div>\n",
       "            <p><b>SparkContext</b></p>\n",
       "\n",
       "            <p><a href=\"http://gw02.itversity.com:4042\">Spark UI</a></p>\n",
       "\n",
       "            <dl>\n",
       "              <dt>Version</dt>\n",
       "                <dd><code>v2.3.0.2.6.5.0-292</code></dd>\n",
       "              <dt>Master</dt>\n",
       "                <dd><code>local[*]</code></dd>\n",
       "              <dt>AppName</dt>\n",
       "                <dd><code>pyspark-shell</code></dd>\n",
       "            </dl>\n",
       "        </div>\n",
       "        \n",
       "            </div>\n",
       "        "
      ],
      "text/plain": [
       "<pyspark.sql.session.SparkSession at 0x6d9a34801b38>"
      ]
     },
     "execution_count": 2,
     "metadata": {},
     "output_type": "execute_result"
    }
   ],
   "source": [
    "spark = SparkSession.builder.getOrCreate()\n",
    "spark"
   ]
  },
  {
   "cell_type": "markdown",
   "metadata": {},
   "source": [
    "---\n",
    "---\n",
    "#### `Define the Schema of the Data`\n",
    "\n",
    "We need to define the schema of the data before loading it. To define the schema, we will use [StructType](https://spark.apache.org/docs/2.1.0/api/python/pyspark.sql.html#pyspark.sql.types.StructType) object that will contain the list of [StructField](https://spark.apache.org/docs/2.1.0/api/python/pyspark.sql.html#pyspark.sql.types.StructField) objects. Each `StructField` object will contain the name of the column and the data type of the column.\n",
    "\n",
    "Let's define the schema of the given data.\n",
    "\n",
    "---"
   ]
  },
  {
   "cell_type": "code",
   "execution_count": 3,
   "metadata": {},
   "outputs": [],
   "source": [
    "# Define the schema of the data\n",
    "my_schema = tp.StructType([\n",
    "    tp.StructField(name= \"case_id\",               dataType= tp.IntegerType()),\n",
    "    tp.StructField(name= \"hospital_code\",         dataType= tp.IntegerType()),\n",
    "    tp.StructField(name= \"hospital_type_code\",    dataType= tp.StringType()),\n",
    "    tp.StructField(name= \"city_code_hospital\",    dataType= tp.IntegerType()),\n",
    "    tp.StructField(name= \"hospital_region_code\",  dataType= tp.StringType()),\n",
    "    tp.StructField(name= \"extra_room_available\",  dataType= tp.IntegerType()),\n",
    "    tp.StructField(name= \"department\",            dataType= tp.StringType()),\n",
    "    tp.StructField(name= \"ward_type\",             dataType= tp.StringType()),\n",
    "    tp.StructField(name= \"ward_facility_code\",    dataType= tp.StringType()),\n",
    "    tp.StructField(name= \"bed_grade\",             dataType= tp.IntegerType()),\n",
    "    tp.StructField(name= \"patient_id\",            dataType= tp.IntegerType()),\n",
    "    tp.StructField(name= \"city_code_patient\",     dataType= tp.IntegerType()),\n",
    "    tp.StructField(name= \"admission_type\",        dataType= tp.StringType()),\n",
    "    tp.StructField(name= \"severity_of_illness\",   dataType= tp.StringType()),\n",
    "    tp.StructField(name= \"visitors_with_patient\", dataType= tp.IntegerType()),\n",
    "    tp.StructField(name= \"age\",                   dataType= tp.StringType()),\n",
    "    tp.StructField(name= \"admission_deposit\",     dataType= tp.FloatType()),\n",
    "    tp.StructField(name= \"stay\",                  dataType= tp.StringType()),\n",
    "])"
   ]
  },
  {
   "cell_type": "markdown",
   "metadata": {},
   "source": [
    "---\n",
    "---\n",
    "\n",
    "#### `Load the Data`\n",
    "\n",
    "We will load the `module_8_train.csv` file and pass the schema that we have defined in the last step.\n",
    "\n",
    "\n",
    "---"
   ]
  },
  {
   "cell_type": "code",
   "execution_count": 4,
   "metadata": {},
   "outputs": [],
   "source": [
    "healthcare_data = spark.read.csv('data/module_8_train.csv', schema=my_schema, header=True)"
   ]
  },
  {
   "cell_type": "markdown",
   "metadata": {},
   "source": [
    "---\n",
    "---\n",
    "\n",
    "#### `Get the schema of the dataframe`\n",
    "\n",
    "To print the schema, we can use the [printSchema](https://spark.apache.org/docs/2.1.0/api/python/pyspark.sql.html#pyspark.sql.DataFrame.printSchema) function.\n",
    "\n",
    "\n",
    "---"
   ]
  },
  {
   "cell_type": "code",
   "execution_count": 5,
   "metadata": {},
   "outputs": [
    {
     "name": "stdout",
     "output_type": "stream",
     "text": [
      "root\n",
      " |-- case_id: integer (nullable = true)\n",
      " |-- hospital_code: integer (nullable = true)\n",
      " |-- hospital_type_code: string (nullable = true)\n",
      " |-- city_code_hospital: integer (nullable = true)\n",
      " |-- hospital_region_code: string (nullable = true)\n",
      " |-- extra_room_available: integer (nullable = true)\n",
      " |-- department: string (nullable = true)\n",
      " |-- ward_type: string (nullable = true)\n",
      " |-- ward_facility_code: string (nullable = true)\n",
      " |-- bed_grade: integer (nullable = true)\n",
      " |-- patient_id: integer (nullable = true)\n",
      " |-- city_code_patient: integer (nullable = true)\n",
      " |-- admission_type: string (nullable = true)\n",
      " |-- severity_of_illness: string (nullable = true)\n",
      " |-- visitors_with_patient: integer (nullable = true)\n",
      " |-- age: string (nullable = true)\n",
      " |-- admission_deposit: float (nullable = true)\n",
      " |-- stay: string (nullable = true)\n",
      "\n"
     ]
    }
   ],
   "source": [
    "healthcare_data.printSchema()"
   ]
  },
  {
   "cell_type": "markdown",
   "metadata": {},
   "source": [
    "---\n",
    "---\n",
    "\n",
    "#### `Get the column names`\n",
    "\n",
    "\n",
    "To print the column names, we can use the columns attribute of the dataframe.\n",
    "\n",
    "---"
   ]
  },
  {
   "cell_type": "code",
   "execution_count": 6,
   "metadata": {},
   "outputs": [
    {
     "data": {
      "text/plain": [
       "['case_id',\n",
       " 'hospital_code',\n",
       " 'hospital_type_code',\n",
       " 'city_code_hospital',\n",
       " 'hospital_region_code',\n",
       " 'extra_room_available',\n",
       " 'department',\n",
       " 'ward_type',\n",
       " 'ward_facility_code',\n",
       " 'bed_grade',\n",
       " 'patient_id',\n",
       " 'city_code_patient',\n",
       " 'admission_type',\n",
       " 'severity_of_illness',\n",
       " 'visitors_with_patient',\n",
       " 'age',\n",
       " 'admission_deposit',\n",
       " 'stay']"
      ]
     },
     "execution_count": 6,
     "metadata": {},
     "output_type": "execute_result"
    }
   ],
   "source": [
    "healthcare_data.columns"
   ]
  },
  {
   "cell_type": "markdown",
   "metadata": {},
   "source": [
    "---\n",
    "---\n",
    "#### `Check the number of rows & columns`\n",
    "\n",
    "You can check the dimension of any data, using the following way.\n",
    "\n",
    "----"
   ]
  },
  {
   "cell_type": "code",
   "execution_count": 7,
   "metadata": {
    "scrolled": true
   },
   "outputs": [
    {
     "data": {
      "text/plain": [
       "(318438, 18)"
      ]
     },
     "execution_count": 7,
     "metadata": {},
     "output_type": "execute_result"
    }
   ],
   "source": [
    "(healthcare_data.count(), len(healthcare_data.columns))"
   ]
  },
  {
   "cell_type": "markdown",
   "metadata": {},
   "source": [
    "---\n",
    "---\n",
    "\n",
    "#### `Select columns from the dataframe`\n",
    "\n",
    "\n",
    "If you want to view only few columns at a single time. You can use the select function and pass the column names to view separated by \",\".\n",
    "\n",
    "Let's see how to do that in the following cell.\n",
    "\n",
    "---"
   ]
  },
  {
   "cell_type": "code",
   "execution_count": 8,
   "metadata": {},
   "outputs": [
    {
     "name": "stdout",
     "output_type": "stream",
     "text": [
      "+-------------+------------+---------+----------+-----+---------------------+\n",
      "|hospital_code|  department|ward_type|patient_id|  age|visitors_with_patient|\n",
      "+-------------+------------+---------+----------+-----+---------------------+\n",
      "|            8|radiotherapy|        R|     31397|51-60|                    2|\n",
      "|            2|radiotherapy|        S|     31397|51-60|                    2|\n",
      "|           10|  anesthesia|        S|     31397|51-60|                    2|\n",
      "|           26|radiotherapy|        R|     31397|51-60|                    2|\n",
      "|           26|radiotherapy|        S|     31397|51-60|                    2|\n",
      "|           23|  anesthesia|        S|     31397|51-60|                    2|\n",
      "|           32|radiotherapy|        S|     31397|51-60|                    2|\n",
      "|           23|radiotherapy|        Q|     31397|51-60|                    2|\n",
      "|            1|  gynecology|        R|     31397|51-60|                    2|\n",
      "|           10|  gynecology|        S|     31397|51-60|                    2|\n",
      "|           22|radiotherapy|        S|     31397|51-60|                    2|\n",
      "|           26|radiotherapy|        R|     31397|51-60|                    2|\n",
      "|           16|radiotherapy|        R|     31397|51-60|                    2|\n",
      "|            9|radiotherapy|        S|     31397|51-60|                    2|\n",
      "|            6|  gynecology|        Q|     63418|71-80|                    2|\n",
      "|            6|  gynecology|        Q|     63418|71-80|                    2|\n",
      "|           23|radiotherapy|        Q|     63418|71-80|                    4|\n",
      "|           29|  anesthesia|        S|     63418|71-80|                    2|\n",
      "|           32|radiotherapy|        S|     63418|71-80|                    2|\n",
      "|           12|radiotherapy|        Q|     63418|71-80|                    2|\n",
      "+-------------+------------+---------+----------+-----+---------------------+\n",
      "only showing top 20 rows\n",
      "\n"
     ]
    }
   ],
   "source": [
    "# View only selected columns\n",
    "sample_data = healthcare_data.select(\"hospital_code\",\n",
    "                                     \"department\",\n",
    "                                     \"ward_type\",\n",
    "                                     \"patient_id\",\n",
    "                                     \"age\",\n",
    "                                     \"visitors_with_patient\")\n",
    "\n",
    "# Display data\n",
    "sample_data.show()"
   ]
  },
  {
   "cell_type": "markdown",
   "metadata": {},
   "source": [
    "---\n",
    "---\n",
    "#### `Drop Column`\n",
    "\n",
    "If you want to drop a single column from the dataframe, you can simply pass the column name in the [drop](https://spark.apache.org/docs/2.1.0/api/python/pyspark.sql.html#pyspark.sql.DataFrameNaFunctions.drop) function.\n",
    "\n",
    "---"
   ]
  },
  {
   "cell_type": "code",
   "execution_count": 9,
   "metadata": {},
   "outputs": [
    {
     "name": "stdout",
     "output_type": "stream",
     "text": [
      "+-------------+------------+---------+----------+---------------------+\n",
      "|hospital_code|  department|ward_type|patient_id|visitors_with_patient|\n",
      "+-------------+------------+---------+----------+---------------------+\n",
      "|            8|radiotherapy|        R|     31397|                    2|\n",
      "|            2|radiotherapy|        S|     31397|                    2|\n",
      "|           10|  anesthesia|        S|     31397|                    2|\n",
      "|           26|radiotherapy|        R|     31397|                    2|\n",
      "|           26|radiotherapy|        S|     31397|                    2|\n",
      "|           23|  anesthesia|        S|     31397|                    2|\n",
      "|           32|radiotherapy|        S|     31397|                    2|\n",
      "|           23|radiotherapy|        Q|     31397|                    2|\n",
      "|            1|  gynecology|        R|     31397|                    2|\n",
      "|           10|  gynecology|        S|     31397|                    2|\n",
      "|           22|radiotherapy|        S|     31397|                    2|\n",
      "|           26|radiotherapy|        R|     31397|                    2|\n",
      "|           16|radiotherapy|        R|     31397|                    2|\n",
      "|            9|radiotherapy|        S|     31397|                    2|\n",
      "|            6|  gynecology|        Q|     63418|                    2|\n",
      "|            6|  gynecology|        Q|     63418|                    2|\n",
      "|           23|radiotherapy|        Q|     63418|                    4|\n",
      "|           29|  anesthesia|        S|     63418|                    2|\n",
      "|           32|radiotherapy|        S|     63418|                    2|\n",
      "|           12|radiotherapy|        Q|     63418|                    2|\n",
      "+-------------+------------+---------+----------+---------------------+\n",
      "only showing top 20 rows\n",
      "\n"
     ]
    }
   ],
   "source": [
    "# Drop column\n",
    "sample_data_without_age = sample_data.drop(\"age\")\n",
    "\n",
    "sample_data_without_age.show()"
   ]
  },
  {
   "cell_type": "markdown",
   "metadata": {},
   "source": [
    "---\n",
    "---\n",
    "#### `Drop Multiple Columns`\n",
    "\n",
    "If you want to drop multiple columns you need to pass the list of columns followed by asterick ( * ) in the drop column.\n",
    "\n",
    "---"
   ]
  },
  {
   "cell_type": "code",
   "execution_count": 10,
   "metadata": {},
   "outputs": [
    {
     "name": "stdout",
     "output_type": "stream",
     "text": [
      "+-------------+---------+----------+\n",
      "|hospital_code|ward_type|patient_id|\n",
      "+-------------+---------+----------+\n",
      "|            8|        R|     31397|\n",
      "|            2|        S|     31397|\n",
      "|           10|        S|     31397|\n",
      "|           26|        R|     31397|\n",
      "|           26|        S|     31397|\n",
      "|           23|        S|     31397|\n",
      "|           32|        S|     31397|\n",
      "|           23|        Q|     31397|\n",
      "|            1|        R|     31397|\n",
      "|           10|        S|     31397|\n",
      "|           22|        S|     31397|\n",
      "|           26|        R|     31397|\n",
      "|           16|        R|     31397|\n",
      "|            9|        S|     31397|\n",
      "|            6|        Q|     63418|\n",
      "|            6|        Q|     63418|\n",
      "|           23|        Q|     63418|\n",
      "|           29|        S|     63418|\n",
      "|           32|        S|     63418|\n",
      "|           12|        Q|     63418|\n",
      "+-------------+---------+----------+\n",
      "only showing top 20 rows\n",
      "\n"
     ]
    }
   ],
   "source": [
    "# Drop multiple columns\n",
    "sample_data_drop = sample_data.drop(*[\"age\", \"department\", \"visitors_with_patient\"])\n",
    "\n",
    "sample_data_drop.show()"
   ]
  },
  {
   "cell_type": "markdown",
   "metadata": {},
   "source": [
    "---\n",
    "---\n",
    "#### `Retrieve specific records - single criteria`\n",
    "\n",
    "If you want to retrieve records that meet a specific condition, then use the *where* function.\n",
    "\n",
    "---"
   ]
  },
  {
   "cell_type": "code",
   "execution_count": 11,
   "metadata": {},
   "outputs": [
    {
     "name": "stdout",
     "output_type": "stream",
     "text": [
      "+-------------+------------+---------+----------+-----+---------------------+\n",
      "|hospital_code|  department|ward_type|patient_id|  age|visitors_with_patient|\n",
      "+-------------+------------+---------+----------+-----+---------------------+\n",
      "|            8|radiotherapy|        R|     31397|51-60|                    2|\n",
      "|            8|radiotherapy|        R|     33340|31-40|                    2|\n",
      "|            8|  gynecology|        Q|    117334|31-40|                    4|\n",
      "|            8|  gynecology|        R|     52406|71-80|                    2|\n",
      "|            8|  gynecology|        Q|     52406|71-80|                    2|\n",
      "|            8|  gynecology|        R|     90761|41-50|                    2|\n",
      "|            8|radiotherapy|        R|     92488|51-60|                    6|\n",
      "|            8|  gynecology|        R|    100741|31-40|                    2|\n",
      "|            8|  gynecology|        Q|     29799|51-60|                    3|\n",
      "|            8|  gynecology|        R|     28680|31-40|                    2|\n",
      "|            8|  gynecology|        Q|     95836|41-50|                    4|\n",
      "|            8|  gynecology|        R|      9873|51-60|                    3|\n",
      "|            8|  gynecology|        Q|     79921|31-40|                    3|\n",
      "|            8|  anesthesia|        Q|     48351|61-70|                    4|\n",
      "|            8|  gynecology|        Q|     48369|71-80|                    4|\n",
      "|            8|  gynecology|        R|     34053|31-40|                    2|\n",
      "|            8|  gynecology|        R|    110027|41-50|                    3|\n",
      "|            8|  gynecology|        Q|    126626|71-80|                    6|\n",
      "|            8|  gynecology|        Q|     48492|41-50|                    2|\n",
      "|            8|  gynecology|        Q|     40056|31-40|                    2|\n",
      "+-------------+------------+---------+----------+-----+---------------------+\n",
      "only showing top 20 rows\n",
      "\n"
     ]
    }
   ],
   "source": [
    "# Retrieve records where hospital_code is 8\n",
    "sample_data.where(sample_data.hospital_code==8).show()"
   ]
  },
  {
   "cell_type": "markdown",
   "metadata": {},
   "source": [
    "---\n",
    "---\n",
    "#### `Retrieve specific records - multiple criterias`\n",
    "\n",
    "Retrieve records based on multiple criterias.\n",
    "\n",
    "---"
   ]
  },
  {
   "cell_type": "code",
   "execution_count": 12,
   "metadata": {},
   "outputs": [
    {
     "name": "stdout",
     "output_type": "stream",
     "text": [
      "+-------------+------------+---------+----------+-----+---------------------+\n",
      "|hospital_code|  department|ward_type|patient_id|  age|visitors_with_patient|\n",
      "+-------------+------------+---------+----------+-----+---------------------+\n",
      "|            8|radiotherapy|        R|     31397|51-60|                    2|\n",
      "|            8|radiotherapy|        R|     33340|31-40|                    2|\n",
      "|            8|radiotherapy|        R|     92488|51-60|                    6|\n",
      "|            8|radiotherapy|        R|     25066|61-70|                    2|\n",
      "|            8|radiotherapy|        R|      9753|31-40|                    2|\n",
      "|            8|radiotherapy|        R|     12480|21-30|                    2|\n",
      "|            8|radiotherapy|        Q|     47488|81-90|                    2|\n",
      "|            8|radiotherapy|        R|     35348|61-70|                    6|\n",
      "|            8|radiotherapy|        Q|     55774|71-80|                    4|\n",
      "|            8|radiotherapy|        Q|     27140|51-60|                    3|\n",
      "|            8|radiotherapy|        R|     37700|61-70|                    1|\n",
      "|            8|radiotherapy|        Q|     81865|71-80|                    2|\n",
      "|            8|radiotherapy|        R|    104837|41-50|                    3|\n",
      "|            8|radiotherapy|        Q|     17161|41-50|                    6|\n",
      "|            8|radiotherapy|        R|     78183|81-90|                    2|\n",
      "|            8|radiotherapy|        R|     37015|31-40|                    2|\n",
      "|            8|radiotherapy|        Q|    116834|21-30|                    4|\n",
      "|            8|radiotherapy|        Q|     18150|61-70|                    3|\n",
      "|            8|radiotherapy|        R|     21013|81-90|                    3|\n",
      "|            8|radiotherapy|        Q|     21013|81-90|                    2|\n",
      "+-------------+------------+---------+----------+-----+---------------------+\n",
      "only showing top 20 rows\n",
      "\n"
     ]
    }
   ],
   "source": [
    "# Retrieve records where hospital_code is 8 and department is \"radiotherapy\"\n",
    "sample_data.where((sample_data.hospital_code==8) & (sample_data.department==\"radiotherapy\")).show()"
   ]
  },
  {
   "cell_type": "code",
   "execution_count": null,
   "metadata": {},
   "outputs": [],
   "source": []
  }
 ],
 "metadata": {
  "kernelspec": {
   "display_name": "Python 3 (ipykernel)",
   "language": "python",
   "name": "python3"
  },
  "language_info": {
   "codemirror_mode": {
    "name": "ipython",
    "version": 3
   },
   "file_extension": ".py",
   "mimetype": "text/x-python",
   "name": "python",
   "nbconvert_exporter": "python",
   "pygments_lexer": "ipython3",
   "version": "3.10.9"
  }
 },
 "nbformat": 4,
 "nbformat_minor": 4
}
