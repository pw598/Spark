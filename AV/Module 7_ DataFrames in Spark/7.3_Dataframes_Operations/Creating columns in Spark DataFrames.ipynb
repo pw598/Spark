{
 "cells": [
  {
   "cell_type": "markdown",
   "metadata": {},
   "source": [
    "#### `Importing the Required Libraries`\n",
    "\n",
    "---"
   ]
  },
  {
   "cell_type": "code",
   "execution_count": 1,
   "metadata": {},
   "outputs": [],
   "source": [
    "from pyspark.sql import SparkSession\n",
    "import pyspark.sql.types as tp"
   ]
  },
  {
   "cell_type": "code",
   "execution_count": 2,
   "metadata": {
    "scrolled": true
   },
   "outputs": [
    {
     "data": {
      "text/html": [
       "\n",
       "            <div>\n",
       "                <p><b>SparkSession - in-memory</b></p>\n",
       "                \n",
       "        <div>\n",
       "            <p><b>SparkContext</b></p>\n",
       "\n",
       "            <p><a href=\"http://gw02.itversity.com:4041\">Spark UI</a></p>\n",
       "\n",
       "            <dl>\n",
       "              <dt>Version</dt>\n",
       "                <dd><code>v2.3.0.2.6.5.0-292</code></dd>\n",
       "              <dt>Master</dt>\n",
       "                <dd><code>local[*]</code></dd>\n",
       "              <dt>AppName</dt>\n",
       "                <dd><code>pyspark-shell</code></dd>\n",
       "            </dl>\n",
       "        </div>\n",
       "        \n",
       "            </div>\n",
       "        "
      ],
      "text/plain": [
       "<pyspark.sql.session.SparkSession at 0x711437f47b70>"
      ]
     },
     "execution_count": 2,
     "metadata": {},
     "output_type": "execute_result"
    }
   ],
   "source": [
    "spark = SparkSession.builder.getOrCreate()\n",
    "spark"
   ]
  },
  {
   "cell_type": "code",
   "execution_count": 3,
   "metadata": {},
   "outputs": [],
   "source": [
    "# Define the schema of the data\n",
    "my_schema = tp.StructType([\n",
    "    tp.StructField(name= \"case_id\",               dataType= tp.IntegerType()),\n",
    "    tp.StructField(name= \"hospital_code\",         dataType= tp.IntegerType()),\n",
    "    tp.StructField(name= \"hospital_type_code\",    dataType= tp.StringType()),\n",
    "    tp.StructField(name= \"city_code_hospital\",    dataType= tp.IntegerType()),\n",
    "    tp.StructField(name= \"hospital_region_code\",  dataType= tp.StringType()),\n",
    "    tp.StructField(name= \"extra_room_available\",  dataType= tp.IntegerType()),\n",
    "    tp.StructField(name= \"department\",            dataType= tp.StringType()),\n",
    "    tp.StructField(name= \"ward_type\",             dataType= tp.StringType()),\n",
    "    tp.StructField(name= \"ward_facility_code\",    dataType= tp.StringType()),\n",
    "    tp.StructField(name= \"bed_grade\",             dataType= tp.IntegerType()),\n",
    "    tp.StructField(name= \"patient_id\",            dataType= tp.IntegerType()),\n",
    "    tp.StructField(name= \"city_code_patient\",     dataType= tp.IntegerType()),\n",
    "    tp.StructField(name= \"admission_type\",        dataType= tp.StringType()),\n",
    "    tp.StructField(name= \"severity_of_illness\",   dataType= tp.StringType()),\n",
    "    tp.StructField(name= \"visitors_with_patient\", dataType= tp.IntegerType()),\n",
    "    tp.StructField(name= \"age\",                   dataType= tp.StringType()),\n",
    "    tp.StructField(name= \"admission_deposit\",     dataType= tp.FloatType()),\n",
    "    tp.StructField(name= \"stay\",                  dataType= tp.StringType()),\n",
    "])"
   ]
  },
  {
   "cell_type": "code",
   "execution_count": 4,
   "metadata": {},
   "outputs": [],
   "source": [
    "# Read data\n",
    "healthcare_data = spark.read.csv('data/module_8_train.csv', schema=my_schema, header=True)"
   ]
  },
  {
   "cell_type": "code",
   "execution_count": 5,
   "metadata": {},
   "outputs": [
    {
     "name": "stdout",
     "output_type": "stream",
     "text": [
      "+-------------+------------+---------+----------+-----+---------------------+\n",
      "|hospital_code|  department|ward_type|patient_id|  age|visitors_with_patient|\n",
      "+-------------+------------+---------+----------+-----+---------------------+\n",
      "|            8|radiotherapy|        R|     31397|51-60|                    2|\n",
      "|            2|radiotherapy|        S|     31397|51-60|                    2|\n",
      "|           10|  anesthesia|        S|     31397|51-60|                    2|\n",
      "|           26|radiotherapy|        R|     31397|51-60|                    2|\n",
      "|           26|radiotherapy|        S|     31397|51-60|                    2|\n",
      "|           23|  anesthesia|        S|     31397|51-60|                    2|\n",
      "|           32|radiotherapy|        S|     31397|51-60|                    2|\n",
      "|           23|radiotherapy|        Q|     31397|51-60|                    2|\n",
      "|            1|  gynecology|        R|     31397|51-60|                    2|\n",
      "|           10|  gynecology|        S|     31397|51-60|                    2|\n",
      "|           22|radiotherapy|        S|     31397|51-60|                    2|\n",
      "|           26|radiotherapy|        R|     31397|51-60|                    2|\n",
      "|           16|radiotherapy|        R|     31397|51-60|                    2|\n",
      "|            9|radiotherapy|        S|     31397|51-60|                    2|\n",
      "|            6|  gynecology|        Q|     63418|71-80|                    2|\n",
      "|            6|  gynecology|        Q|     63418|71-80|                    2|\n",
      "|           23|radiotherapy|        Q|     63418|71-80|                    4|\n",
      "|           29|  anesthesia|        S|     63418|71-80|                    2|\n",
      "|           32|radiotherapy|        S|     63418|71-80|                    2|\n",
      "|           12|radiotherapy|        Q|     63418|71-80|                    2|\n",
      "+-------------+------------+---------+----------+-----+---------------------+\n",
      "only showing top 20 rows\n",
      "\n"
     ]
    }
   ],
   "source": [
    "# Sample data\n",
    "sample_data = healthcare_data.select(\"hospital_code\",\n",
    "                                     \"department\",\n",
    "                                     \"ward_type\",\n",
    "                                     \"patient_id\",\n",
    "                                     \"age\",\n",
    "                                     \"visitors_with_patient\")\n",
    "\n",
    "# Display data\n",
    "sample_data.show()"
   ]
  },
  {
   "cell_type": "markdown",
   "metadata": {},
   "source": [
    "---\n",
    "---\n",
    "### `Add New Column`\n",
    "\n",
    "* **1. Using Expression**\n",
    "* **2. Using when & otherwise**\n",
    "* **3. Using User Defined Function**\n",
    "\n",
    "\n",
    "\n",
    "---\n",
    "\n",
    "\n",
    "\n",
    "\n",
    "\n",
    "We will have to import some functions from the [pyspark sql module](https://spark.apache.org/docs/2.1.0/api/python/pyspark.sql.html#pyspark-sql-module)\n",
    "\n",
    "---"
   ]
  },
  {
   "cell_type": "code",
   "execution_count": 6,
   "metadata": {},
   "outputs": [],
   "source": [
    "from pyspark.sql.functions import expr, when"
   ]
  },
  {
   "cell_type": "markdown",
   "metadata": {},
   "source": [
    "---\n",
    "---\n",
    "\n",
    "#### `Using Expression`\n",
    "\n",
    "\n",
    "Suppose we want to create a new column `country`.\n",
    "\n",
    "All the values in this column have to be `India`.\n",
    "\n",
    "We need to first define the expression in the [expr](https://spark.apache.org/docs/2.1.0/api/python/pyspark.sql.html#pyspark.sql.functions.expr) function.\n",
    "\n",
    "---"
   ]
  },
  {
   "cell_type": "code",
   "execution_count": 7,
   "metadata": {},
   "outputs": [],
   "source": [
    "# Define expression\n",
    "country_value = expr(\"'India'\")"
   ]
  },
  {
   "cell_type": "markdown",
   "metadata": {},
   "source": [
    "\n",
    "---\n",
    "\n",
    "Now, we will use the [withColumn](https://spark.apache.org/docs/2.1.0/api/python/pyspark.sql.html#pyspark.sql.DataFrame.withColumn) function and then pass the name of the new column as `country` along with the expression that we defined above.\n",
    "\n",
    "---"
   ]
  },
  {
   "cell_type": "code",
   "execution_count": 8,
   "metadata": {},
   "outputs": [],
   "source": [
    "# Add new column to dataframe\n",
    "updated_sample_data = sample_data.withColumn(\"country\", country_value)"
   ]
  },
  {
   "cell_type": "code",
   "execution_count": 9,
   "metadata": {},
   "outputs": [
    {
     "name": "stdout",
     "output_type": "stream",
     "text": [
      "+-------------+------------+---------+----------+-----+---------------------+-------+\n",
      "|hospital_code|  department|ward_type|patient_id|  age|visitors_with_patient|country|\n",
      "+-------------+------------+---------+----------+-----+---------------------+-------+\n",
      "|            8|radiotherapy|        R|     31397|51-60|                    2|  India|\n",
      "|            2|radiotherapy|        S|     31397|51-60|                    2|  India|\n",
      "|           10|  anesthesia|        S|     31397|51-60|                    2|  India|\n",
      "|           26|radiotherapy|        R|     31397|51-60|                    2|  India|\n",
      "|           26|radiotherapy|        S|     31397|51-60|                    2|  India|\n",
      "|           23|  anesthesia|        S|     31397|51-60|                    2|  India|\n",
      "|           32|radiotherapy|        S|     31397|51-60|                    2|  India|\n",
      "|           23|radiotherapy|        Q|     31397|51-60|                    2|  India|\n",
      "|            1|  gynecology|        R|     31397|51-60|                    2|  India|\n",
      "|           10|  gynecology|        S|     31397|51-60|                    2|  India|\n",
      "|           22|radiotherapy|        S|     31397|51-60|                    2|  India|\n",
      "|           26|radiotherapy|        R|     31397|51-60|                    2|  India|\n",
      "|           16|radiotherapy|        R|     31397|51-60|                    2|  India|\n",
      "|            9|radiotherapy|        S|     31397|51-60|                    2|  India|\n",
      "|            6|  gynecology|        Q|     63418|71-80|                    2|  India|\n",
      "|            6|  gynecology|        Q|     63418|71-80|                    2|  India|\n",
      "|           23|radiotherapy|        Q|     63418|71-80|                    4|  India|\n",
      "|           29|  anesthesia|        S|     63418|71-80|                    2|  India|\n",
      "|           32|radiotherapy|        S|     63418|71-80|                    2|  India|\n",
      "|           12|radiotherapy|        Q|     63418|71-80|                    2|  India|\n",
      "+-------------+------------+---------+----------+-----+---------------------+-------+\n",
      "only showing top 20 rows\n",
      "\n"
     ]
    }
   ],
   "source": [
    "# Updated dataframe\n",
    "updated_sample_data.show()"
   ]
  },
  {
   "cell_type": "markdown",
   "metadata": {},
   "source": [
    "---\n",
    "\n",
    "Suppose we want to create a new column, based on the column `ward_type`. \n",
    "\n",
    "If the `ward_type` is `Q`, then column value is 2, otherwise 0. \n",
    "\n",
    "---"
   ]
  },
  {
   "cell_type": "code",
   "execution_count": 10,
   "metadata": {},
   "outputs": [],
   "source": [
    "# Filter condition\n",
    "filter_expression = expr(\"IF(ward_type = 'Q', 2, 0)\")"
   ]
  },
  {
   "cell_type": "code",
   "execution_count": 11,
   "metadata": {},
   "outputs": [],
   "source": [
    "# Add new column to the data\n",
    "updated_sample_data = sample_data.withColumn(\"ward_number_using_expr\", filter_expression)"
   ]
  },
  {
   "cell_type": "code",
   "execution_count": 12,
   "metadata": {},
   "outputs": [
    {
     "name": "stdout",
     "output_type": "stream",
     "text": [
      "+-------------+------------+---------+----------+-----+---------------------+----------------------+\n",
      "|hospital_code|  department|ward_type|patient_id|  age|visitors_with_patient|ward_number_using_expr|\n",
      "+-------------+------------+---------+----------+-----+---------------------+----------------------+\n",
      "|            8|radiotherapy|        R|     31397|51-60|                    2|                     0|\n",
      "|            2|radiotherapy|        S|     31397|51-60|                    2|                     0|\n",
      "|           10|  anesthesia|        S|     31397|51-60|                    2|                     0|\n",
      "|           26|radiotherapy|        R|     31397|51-60|                    2|                     0|\n",
      "|           26|radiotherapy|        S|     31397|51-60|                    2|                     0|\n",
      "|           23|  anesthesia|        S|     31397|51-60|                    2|                     0|\n",
      "|           32|radiotherapy|        S|     31397|51-60|                    2|                     0|\n",
      "|           23|radiotherapy|        Q|     31397|51-60|                    2|                     2|\n",
      "|            1|  gynecology|        R|     31397|51-60|                    2|                     0|\n",
      "|           10|  gynecology|        S|     31397|51-60|                    2|                     0|\n",
      "|           22|radiotherapy|        S|     31397|51-60|                    2|                     0|\n",
      "|           26|radiotherapy|        R|     31397|51-60|                    2|                     0|\n",
      "|           16|radiotherapy|        R|     31397|51-60|                    2|                     0|\n",
      "|            9|radiotherapy|        S|     31397|51-60|                    2|                     0|\n",
      "|            6|  gynecology|        Q|     63418|71-80|                    2|                     2|\n",
      "|            6|  gynecology|        Q|     63418|71-80|                    2|                     2|\n",
      "|           23|radiotherapy|        Q|     63418|71-80|                    4|                     2|\n",
      "|           29|  anesthesia|        S|     63418|71-80|                    2|                     0|\n",
      "|           32|radiotherapy|        S|     63418|71-80|                    2|                     0|\n",
      "|           12|radiotherapy|        Q|     63418|71-80|                    2|                     2|\n",
      "+-------------+------------+---------+----------+-----+---------------------+----------------------+\n",
      "only showing top 20 rows\n",
      "\n"
     ]
    }
   ],
   "source": [
    "updated_sample_data.show()"
   ]
  },
  {
   "cell_type": "markdown",
   "metadata": {},
   "source": [
    "---\n",
    "---\n",
    "\n",
    "#### `Using when & otherwise`\n",
    "\n",
    "- Add a new column  using [when](https://spark.apache.org/docs/2.1.0/api/python/pyspark.sql.html#pyspark.sql.functions.when) & [otherwise](https://spark.apache.org/docs/2.1.0/api/python/pyspark.sql.html#pyspark.sql.Column.otherwise) function. \n",
    "- Next, use the `withColumn` function and the pass the name of the new column as `ward_number_using_when` and pass the filter condition defined.\n",
    "\n",
    "\n",
    "---"
   ]
  },
  {
   "cell_type": "code",
   "execution_count": 13,
   "metadata": {},
   "outputs": [],
   "source": [
    "# Define the condition\n",
    "filter_condition = when(sample_data[\"ward_type\"] == 'Q', 2).otherwise(0)"
   ]
  },
  {
   "cell_type": "code",
   "execution_count": 14,
   "metadata": {},
   "outputs": [],
   "source": [
    "# Add new column\n",
    "updated_sample_data = sample_data.withColumn(\"ward_number_using_when\", filter_condition)"
   ]
  },
  {
   "cell_type": "code",
   "execution_count": 15,
   "metadata": {},
   "outputs": [
    {
     "name": "stdout",
     "output_type": "stream",
     "text": [
      "+-------------+------------+---------+----------+-----+---------------------+----------------------+\n",
      "|hospital_code|  department|ward_type|patient_id|  age|visitors_with_patient|ward_number_using_when|\n",
      "+-------------+------------+---------+----------+-----+---------------------+----------------------+\n",
      "|            8|radiotherapy|        R|     31397|51-60|                    2|                     0|\n",
      "|            2|radiotherapy|        S|     31397|51-60|                    2|                     0|\n",
      "|           10|  anesthesia|        S|     31397|51-60|                    2|                     0|\n",
      "|           26|radiotherapy|        R|     31397|51-60|                    2|                     0|\n",
      "|           26|radiotherapy|        S|     31397|51-60|                    2|                     0|\n",
      "|           23|  anesthesia|        S|     31397|51-60|                    2|                     0|\n",
      "|           32|radiotherapy|        S|     31397|51-60|                    2|                     0|\n",
      "|           23|radiotherapy|        Q|     31397|51-60|                    2|                     2|\n",
      "|            1|  gynecology|        R|     31397|51-60|                    2|                     0|\n",
      "|           10|  gynecology|        S|     31397|51-60|                    2|                     0|\n",
      "|           22|radiotherapy|        S|     31397|51-60|                    2|                     0|\n",
      "|           26|radiotherapy|        R|     31397|51-60|                    2|                     0|\n",
      "|           16|radiotherapy|        R|     31397|51-60|                    2|                     0|\n",
      "|            9|radiotherapy|        S|     31397|51-60|                    2|                     0|\n",
      "|            6|  gynecology|        Q|     63418|71-80|                    2|                     2|\n",
      "|            6|  gynecology|        Q|     63418|71-80|                    2|                     2|\n",
      "|           23|radiotherapy|        Q|     63418|71-80|                    4|                     2|\n",
      "|           29|  anesthesia|        S|     63418|71-80|                    2|                     0|\n",
      "|           32|radiotherapy|        S|     63418|71-80|                    2|                     0|\n",
      "|           12|radiotherapy|        Q|     63418|71-80|                    2|                     2|\n",
      "+-------------+------------+---------+----------+-----+---------------------+----------------------+\n",
      "only showing top 20 rows\n",
      "\n"
     ]
    }
   ],
   "source": [
    "# show the data\n",
    "updated_sample_data.show()"
   ]
  },
  {
   "cell_type": "markdown",
   "metadata": {},
   "source": [
    "---\n",
    "\n",
    "If we want to use condition on multiple columns. \n",
    "\n",
    "For example, if `ward_type` == `Q` then map value to 2. \n",
    "\n",
    "If it is not `Q`, then check `visitors_with_patient`. \n",
    "\n",
    "If `visitors_with_patient` is less than 4, then map value to 1, and for rest of the cases, map value to 0.\n",
    "\n",
    "---"
   ]
  },
  {
   "cell_type": "code",
   "execution_count": 16,
   "metadata": {},
   "outputs": [],
   "source": [
    "# Define condition\n",
    "filter_condition = when(sample_data[\"ward_type\"] == 'Q', 2).when(sample_data[\"visitors_with_patient\"] < 4, 1).otherwise(0)"
   ]
  },
  {
   "cell_type": "code",
   "execution_count": 17,
   "metadata": {},
   "outputs": [],
   "source": [
    "# Add new column\n",
    "updated_sample_data = sample_data.withColumn(\"new_column_using_when\", filter_condition)"
   ]
  },
  {
   "cell_type": "code",
   "execution_count": 18,
   "metadata": {
    "scrolled": true
   },
   "outputs": [
    {
     "name": "stdout",
     "output_type": "stream",
     "text": [
      "+-------------+------------+---------+----------+-----+---------------------+---------------------+\n",
      "|hospital_code|  department|ward_type|patient_id|  age|visitors_with_patient|new_column_using_when|\n",
      "+-------------+------------+---------+----------+-----+---------------------+---------------------+\n",
      "|            8|radiotherapy|        R|     31397|51-60|                    2|                    1|\n",
      "|            2|radiotherapy|        S|     31397|51-60|                    2|                    1|\n",
      "|           10|  anesthesia|        S|     31397|51-60|                    2|                    1|\n",
      "|           26|radiotherapy|        R|     31397|51-60|                    2|                    1|\n",
      "|           26|radiotherapy|        S|     31397|51-60|                    2|                    1|\n",
      "|           23|  anesthesia|        S|     31397|51-60|                    2|                    1|\n",
      "|           32|radiotherapy|        S|     31397|51-60|                    2|                    1|\n",
      "|           23|radiotherapy|        Q|     31397|51-60|                    2|                    2|\n",
      "|            1|  gynecology|        R|     31397|51-60|                    2|                    1|\n",
      "|           10|  gynecology|        S|     31397|51-60|                    2|                    1|\n",
      "|           22|radiotherapy|        S|     31397|51-60|                    2|                    1|\n",
      "|           26|radiotherapy|        R|     31397|51-60|                    2|                    1|\n",
      "|           16|radiotherapy|        R|     31397|51-60|                    2|                    1|\n",
      "|            9|radiotherapy|        S|     31397|51-60|                    2|                    1|\n",
      "|            6|  gynecology|        Q|     63418|71-80|                    2|                    2|\n",
      "|            6|  gynecology|        Q|     63418|71-80|                    2|                    2|\n",
      "|           23|radiotherapy|        Q|     63418|71-80|                    4|                    2|\n",
      "|           29|  anesthesia|        S|     63418|71-80|                    2|                    1|\n",
      "|           32|radiotherapy|        S|     63418|71-80|                    2|                    1|\n",
      "|           12|radiotherapy|        Q|     63418|71-80|                    2|                    2|\n",
      "+-------------+------------+---------+----------+-----+---------------------+---------------------+\n",
      "only showing top 20 rows\n",
      "\n"
     ]
    }
   ],
   "source": [
    "# show the data\n",
    "updated_sample_data.show()"
   ]
  },
  {
   "cell_type": "markdown",
   "metadata": {},
   "source": [
    "---\n",
    "---\n",
    "\n",
    "#### `Using User Define Functions`\n",
    "\n",
    "\n",
    "\n",
    "Creating columns using [udf](https://spark.apache.org/docs/2.1.0/api/python/pyspark.sql.html#pyspark.sql.functions.udf) function.\n",
    "\n",
    "\n",
    "---"
   ]
  },
  {
   "cell_type": "code",
   "execution_count": 19,
   "metadata": {},
   "outputs": [],
   "source": [
    "from pyspark.sql.functions import udf"
   ]
  },
  {
   "cell_type": "markdown",
   "metadata": {},
   "source": [
    "---\n",
    "\n",
    "\n",
    "Define the python function `encode_ward_function` which will take the parameters *ward* and *visitor*. \n",
    "\n",
    "If the ward is `Q` then return 2.\n",
    "\n",
    "If it is not `Q`, then check `visitors_with_patient`. \n",
    "\n",
    "If `visitors_with_patient` is less than 4, then return 1. Else return 0.\n",
    "\n",
    "---"
   ]
  },
  {
   "cell_type": "code",
   "execution_count": 20,
   "metadata": {},
   "outputs": [],
   "source": [
    "# Define the function to encode ward_type\n",
    "def encode_ward_visitor(ward, visitor):\n",
    "    \n",
    "    if ward == \"Q\":\n",
    "        return 2\n",
    "    elif visitor < 4:\n",
    "        return 1\n",
    "    else:\n",
    "        return 0"
   ]
  },
  {
   "cell_type": "markdown",
   "metadata": {},
   "source": [
    "---\n",
    "\n",
    "Now we need to convert this function into `udf` function. \n",
    "\n",
    "In the `udf` function we pass the function `encode_ward_visitor` that we defined and we also define the return type.\n",
    "\n",
    "---"
   ]
  },
  {
   "cell_type": "code",
   "execution_count": 21,
   "metadata": {},
   "outputs": [],
   "source": [
    "# Convert to udf function\n",
    "function_with_udf = udf(f= encode_ward_visitor, returnType= tp.IntegerType())"
   ]
  },
  {
   "cell_type": "markdown",
   "metadata": {},
   "source": [
    "---\n",
    "\n",
    "Use the `withColumn` function and the pass the name of the new column as `new_column_using_udf` and pass the udf function with the parameters.\n",
    "\n",
    "---"
   ]
  },
  {
   "cell_type": "code",
   "execution_count": 22,
   "metadata": {},
   "outputs": [],
   "source": [
    "# Create new column\n",
    "updated_sample_data = sample_data.withColumn(\"new_column_using_udf\", \n",
    "                                             function_with_udf(sample_data[\"ward_type\"], \n",
    "                                                               sample_data[\"visitors_with_patient\"]))"
   ]
  },
  {
   "cell_type": "code",
   "execution_count": 23,
   "metadata": {},
   "outputs": [
    {
     "name": "stdout",
     "output_type": "stream",
     "text": [
      "+-------------+------------+---------+----------+-----+---------------------+--------------------+\n",
      "|hospital_code|  department|ward_type|patient_id|  age|visitors_with_patient|new_column_using_udf|\n",
      "+-------------+------------+---------+----------+-----+---------------------+--------------------+\n",
      "|            8|radiotherapy|        R|     31397|51-60|                    2|                   1|\n",
      "|            2|radiotherapy|        S|     31397|51-60|                    2|                   1|\n",
      "|           10|  anesthesia|        S|     31397|51-60|                    2|                   1|\n",
      "|           26|radiotherapy|        R|     31397|51-60|                    2|                   1|\n",
      "|           26|radiotherapy|        S|     31397|51-60|                    2|                   1|\n",
      "|           23|  anesthesia|        S|     31397|51-60|                    2|                   1|\n",
      "|           32|radiotherapy|        S|     31397|51-60|                    2|                   1|\n",
      "|           23|radiotherapy|        Q|     31397|51-60|                    2|                   2|\n",
      "|            1|  gynecology|        R|     31397|51-60|                    2|                   1|\n",
      "|           10|  gynecology|        S|     31397|51-60|                    2|                   1|\n",
      "|           22|radiotherapy|        S|     31397|51-60|                    2|                   1|\n",
      "|           26|radiotherapy|        R|     31397|51-60|                    2|                   1|\n",
      "|           16|radiotherapy|        R|     31397|51-60|                    2|                   1|\n",
      "|            9|radiotherapy|        S|     31397|51-60|                    2|                   1|\n",
      "|            6|  gynecology|        Q|     63418|71-80|                    2|                   2|\n",
      "|            6|  gynecology|        Q|     63418|71-80|                    2|                   2|\n",
      "|           23|radiotherapy|        Q|     63418|71-80|                    4|                   2|\n",
      "|           29|  anesthesia|        S|     63418|71-80|                    2|                   1|\n",
      "|           32|radiotherapy|        S|     63418|71-80|                    2|                   1|\n",
      "|           12|radiotherapy|        Q|     63418|71-80|                    2|                   2|\n",
      "+-------------+------------+---------+----------+-----+---------------------+--------------------+\n",
      "only showing top 20 rows\n",
      "\n"
     ]
    }
   ],
   "source": [
    "updated_sample_data.show()"
   ]
  },
  {
   "cell_type": "code",
   "execution_count": null,
   "metadata": {},
   "outputs": [],
   "source": []
  }
 ],
 "metadata": {
  "kernelspec": {
   "display_name": "Python 3 (ipykernel)",
   "language": "python",
   "name": "python3"
  },
  "language_info": {
   "codemirror_mode": {
    "name": "ipython",
    "version": 3
   },
   "file_extension": ".py",
   "mimetype": "text/x-python",
   "name": "python",
   "nbconvert_exporter": "python",
   "pygments_lexer": "ipython3",
   "version": "3.10.9"
  }
 },
 "nbformat": 4,
 "nbformat_minor": 4
}
