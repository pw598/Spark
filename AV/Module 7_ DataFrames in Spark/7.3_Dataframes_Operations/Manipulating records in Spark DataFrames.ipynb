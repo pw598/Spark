{
 "cells": [
  {
   "cell_type": "markdown",
   "metadata": {},
   "source": [
    "#### `Importing the Required Libraries`\n",
    "\n",
    "---"
   ]
  },
  {
   "cell_type": "code",
   "execution_count": 1,
   "metadata": {},
   "outputs": [],
   "source": [
    "from pyspark.sql import SparkSession\n",
    "import pyspark.sql.types as tp"
   ]
  },
  {
   "cell_type": "code",
   "execution_count": 2,
   "metadata": {
    "scrolled": true
   },
   "outputs": [
    {
     "data": {
      "text/html": [
       "\n",
       "            <div>\n",
       "                <p><b>SparkSession - in-memory</b></p>\n",
       "                \n",
       "        <div>\n",
       "            <p><b>SparkContext</b></p>\n",
       "\n",
       "            <p><a href=\"http://gw02.itversity.com:4041\">Spark UI</a></p>\n",
       "\n",
       "            <dl>\n",
       "              <dt>Version</dt>\n",
       "                <dd><code>v2.3.0.2.6.5.0-292</code></dd>\n",
       "              <dt>Master</dt>\n",
       "                <dd><code>local[*]</code></dd>\n",
       "              <dt>AppName</dt>\n",
       "                <dd><code>pyspark-shell</code></dd>\n",
       "            </dl>\n",
       "        </div>\n",
       "        \n",
       "            </div>\n",
       "        "
      ],
      "text/plain": [
       "<pyspark.sql.session.SparkSession at 0x708de9432b38>"
      ]
     },
     "execution_count": 2,
     "metadata": {},
     "output_type": "execute_result"
    }
   ],
   "source": [
    "spark = SparkSession.builder.getOrCreate()\n",
    "spark"
   ]
  },
  {
   "cell_type": "markdown",
   "metadata": {},
   "source": [
    "---\n",
    "Read healthcare analytics data\n",
    "\n",
    "---"
   ]
  },
  {
   "cell_type": "code",
   "execution_count": 3,
   "metadata": {},
   "outputs": [],
   "source": [
    "# Define the schema of the data\n",
    "my_schema = tp.StructType([\n",
    "    tp.StructField(name= \"case_id\",               dataType= tp.IntegerType()),\n",
    "    tp.StructField(name= \"hospital_code\",         dataType= tp.IntegerType()),\n",
    "    tp.StructField(name= \"hospital_type_code\",    dataType= tp.StringType()),\n",
    "    tp.StructField(name= \"city_code_hospital\",    dataType= tp.IntegerType()),\n",
    "    tp.StructField(name= \"hospital_region_code\",  dataType= tp.StringType()),\n",
    "    tp.StructField(name= \"extra_room_available\",  dataType= tp.IntegerType()),\n",
    "    tp.StructField(name= \"department\",            dataType= tp.StringType()),\n",
    "    tp.StructField(name= \"ward_type\",             dataType= tp.StringType()),\n",
    "    tp.StructField(name= \"ward_facility_code\",    dataType= tp.StringType()),\n",
    "    tp.StructField(name= \"bed_grade\",             dataType= tp.IntegerType()),\n",
    "    tp.StructField(name= \"patient_id\",            dataType= tp.IntegerType()),\n",
    "    tp.StructField(name= \"city_code_patient\",     dataType= tp.IntegerType()),\n",
    "    tp.StructField(name= \"admission_type\",        dataType= tp.StringType()),\n",
    "    tp.StructField(name= \"severity_of_illness\",   dataType= tp.StringType()),\n",
    "    tp.StructField(name= \"visitors_with_patient\", dataType= tp.IntegerType()),\n",
    "    tp.StructField(name= \"age\",                   dataType= tp.StringType()),\n",
    "    tp.StructField(name= \"admission_deposit\",     dataType= tp.FloatType()),\n",
    "    tp.StructField(name= \"stay\",                  dataType= tp.StringType()),\n",
    "])"
   ]
  },
  {
   "cell_type": "code",
   "execution_count": 4,
   "metadata": {},
   "outputs": [],
   "source": [
    "# Read data\n",
    "healthcare_data = spark.read.csv('data/module_8_train.csv', schema=my_schema, header=True)"
   ]
  },
  {
   "cell_type": "code",
   "execution_count": 5,
   "metadata": {},
   "outputs": [
    {
     "name": "stdout",
     "output_type": "stream",
     "text": [
      "+-------+-------------+------------+---------+----------+-----+---------------------+\n",
      "|case_id|hospital_code|  department|ward_type|patient_id|  age|visitors_with_patient|\n",
      "+-------+-------------+------------+---------+----------+-----+---------------------+\n",
      "|      1|            8|radiotherapy|        R|     31397|51-60|                    2|\n",
      "|      2|            2|radiotherapy|        S|     31397|51-60|                    2|\n",
      "|      3|           10|  anesthesia|        S|     31397|51-60|                    2|\n",
      "|      4|           26|radiotherapy|        R|     31397|51-60|                    2|\n",
      "|      5|           26|radiotherapy|        S|     31397|51-60|                    2|\n",
      "|      6|           23|  anesthesia|        S|     31397|51-60|                    2|\n",
      "|      7|           32|radiotherapy|        S|     31397|51-60|                    2|\n",
      "|      8|           23|radiotherapy|        Q|     31397|51-60|                    2|\n",
      "|      9|            1|  gynecology|        R|     31397|51-60|                    2|\n",
      "|     10|           10|  gynecology|        S|     31397|51-60|                    2|\n",
      "|     11|           22|radiotherapy|        S|     31397|51-60|                    2|\n",
      "|     12|           26|radiotherapy|        R|     31397|51-60|                    2|\n",
      "|     13|           16|radiotherapy|        R|     31397|51-60|                    2|\n",
      "|     14|            9|radiotherapy|        S|     31397|51-60|                    2|\n",
      "|     15|            6|  gynecology|        Q|     63418|71-80|                    2|\n",
      "|     16|            6|  gynecology|        Q|     63418|71-80|                    2|\n",
      "|     17|           23|radiotherapy|        Q|     63418|71-80|                    4|\n",
      "|     18|           29|  anesthesia|        S|     63418|71-80|                    2|\n",
      "|     19|           32|radiotherapy|        S|     63418|71-80|                    2|\n",
      "|     20|           12|radiotherapy|        Q|     63418|71-80|                    2|\n",
      "+-------+-------------+------------+---------+----------+-----+---------------------+\n",
      "only showing top 20 rows\n",
      "\n"
     ]
    }
   ],
   "source": [
    "# Sample data\n",
    "sample_data = healthcare_data.select(\"case_id\",\n",
    "                                     \"hospital_code\",\n",
    "                                     \"department\",\n",
    "                                     \"ward_type\",\n",
    "                                     \"patient_id\",\n",
    "                                     \"age\",\n",
    "                                     \"visitors_with_patient\")\n",
    "\n",
    "# Display data\n",
    "sample_data.show()"
   ]
  },
  {
   "cell_type": "markdown",
   "metadata": {},
   "source": [
    "---\n",
    "---\n",
    "\n",
    "\n",
    "#### `Sorting`\n",
    "\n",
    "\n",
    "Sort the data using the [orderBy](https://spark.apache.org/docs/2.1.0/api/python/pyspark.sql.html#pyspark.sql.DataFrame.orderBy) function. \n",
    "\n",
    "Pass the parameter on which you want to sort the data. \n",
    "\n",
    "We will sort the dataframe on `hospital_code`. By default, it will sort in ascending order.\n",
    "\n",
    "\n",
    "---"
   ]
  },
  {
   "cell_type": "code",
   "execution_count": 6,
   "metadata": {},
   "outputs": [],
   "source": [
    "# Sort data\n",
    "sorted_df = sample_data.orderBy([\"hospital_code\"])"
   ]
  },
  {
   "cell_type": "code",
   "execution_count": 7,
   "metadata": {
    "scrolled": true
   },
   "outputs": [
    {
     "name": "stdout",
     "output_type": "stream",
     "text": [
      "+-------+-------------+------------+---------+----------+-----+---------------------+\n",
      "|case_id|hospital_code|  department|ward_type|patient_id|  age|visitors_with_patient|\n",
      "+-------+-------------+------------+---------+----------+-----+---------------------+\n",
      "| 299145|            1|  gynecology|        S|     35157|61-70|                    2|\n",
      "| 300930|            1|  gynecology|        Q|     45144|21-30|                    4|\n",
      "| 299248|            1|  gynecology|        R|     39870|51-60|                    2|\n",
      "| 297888|            1|  gynecology|        Q|     81050|11-20|                    4|\n",
      "| 299278|            1|  gynecology|        Q|     56989|41-50|                    4|\n",
      "| 298197|            1|  gynecology|        R|     18486|71-80|                    3|\n",
      "| 299687|            1|  gynecology|        S|     91688|11-20|                    2|\n",
      "| 298190|            1|  gynecology|        S|      8795|21-30|                    2|\n",
      "| 299887|            1|radiotherapy|        R|    112762|61-70|                    4|\n",
      "| 298259|            1|  gynecology|        Q|     55528|71-80|                    2|\n",
      "| 300087|            1|  gynecology|        R|     90193|61-70|                    3|\n",
      "| 298520|            1|  gynecology|        R|    109401|21-30|                    2|\n",
      "| 300256|            1|  anesthesia|        S|     89873|41-50|                    2|\n",
      "| 298775|            1|  anesthesia|        S|     81182|71-80|                    2|\n",
      "| 300266|            1|  gynecology|        R|     50116|11-20|                    2|\n",
      "| 298908|            1|  gynecology|        R|      7586|31-40|                    2|\n",
      "| 300270|            1|  gynecology|        R|     34699|11-20|                    3|\n",
      "| 300598|            1|  gynecology|        R|     67294|51-60|                    2|\n",
      "| 300635|            1|  gynecology|        S|    128913|41-50|                    4|\n",
      "| 298215|            1|  gynecology|        R|     59693|51-60|                    2|\n",
      "+-------+-------------+------------+---------+----------+-----+---------------------+\n",
      "only showing top 20 rows\n",
      "\n"
     ]
    }
   ],
   "source": [
    "# Display data\n",
    "sorted_df.show()"
   ]
  },
  {
   "cell_type": "markdown",
   "metadata": {},
   "source": [
    "---\n",
    "\n",
    "\n",
    "To sort in the decreasing order, pass the argument `ascending = False` inside the  `orderBy` function.\n",
    "\n",
    "---"
   ]
  },
  {
   "cell_type": "code",
   "execution_count": 8,
   "metadata": {},
   "outputs": [],
   "source": [
    "# Sort in descending order\n",
    "sorted_df_descending = sample_data.orderBy([\"hospital_code\"], ascending = False)"
   ]
  },
  {
   "cell_type": "code",
   "execution_count": 9,
   "metadata": {
    "scrolled": true
   },
   "outputs": [
    {
     "name": "stdout",
     "output_type": "stream",
     "text": [
      "+-------+-------------+------------------+---------+----------+-----+---------------------+\n",
      "|case_id|hospital_code|        department|ward_type|patient_id|  age|visitors_with_patient|\n",
      "+-------+-------------+------------------+---------+----------+-----+---------------------+\n",
      "| 298297|           32|        gynecology|        S|     25523|71-80|                    4|\n",
      "| 299043|           32|        gynecology|        S|     14249|31-40|                    4|\n",
      "| 298402|           32|        gynecology|        S|     34261|41-50|                    4|\n",
      "| 298268|           32|        anesthesia|        S|     34494|41-50|                    2|\n",
      "| 298419|           32|        gynecology|        S|     82148|11-20|                    2|\n",
      "| 297760|           32|      radiotherapy|        S|     83845|71-80|                    2|\n",
      "| 298456|           32|        gynecology|        S|     31408|31-40|                    4|\n",
      "| 297862|           32|        gynecology|        S|     19562|71-80|                    2|\n",
      "| 298476|           32|        gynecology|        S|      7988|61-70|                    2|\n",
      "| 297722|           32|        gynecology|        S|     87066|51-60|                    2|\n",
      "| 298534|           32|        gynecology|        S|     25674|61-70|                    2|\n",
      "| 297867|           32|        gynecology|        S|     32183|11-20|                    2|\n",
      "| 298564|           32|        gynecology|        S|     69216|61-70|                    4|\n",
      "| 298043|           32|        gynecology|        S|     97671|71-80|                    2|\n",
      "| 298585|           32|        gynecology|        S|       608|11-20|                    4|\n",
      "| 298120|           32|        gynecology|        S|     73049|71-80|                    4|\n",
      "| 298748|           32|        gynecology|        S|     43050|61-70|                    4|\n",
      "| 298148|           32|        gynecology|        S|     42551|21-30|                    2|\n",
      "| 298753|           32|TB & Chest disease|        S|     41334|21-30|                    2|\n",
      "| 298174|           32|        gynecology|        S|     98180|31-40|                    2|\n",
      "+-------+-------------+------------------+---------+----------+-----+---------------------+\n",
      "only showing top 20 rows\n",
      "\n"
     ]
    }
   ],
   "source": [
    "# Display data\n",
    "sorted_df_descending.show()"
   ]
  },
  {
   "cell_type": "markdown",
   "metadata": {},
   "source": [
    "---\n",
    "\n",
    "To sort on multiple columns, just pass the list of column names in the orderBy function. Also pass a list of `True/False` with ascending parameter with respect to each of the columns.\n",
    "\n",
    "---"
   ]
  },
  {
   "cell_type": "code",
   "execution_count": 10,
   "metadata": {},
   "outputs": [],
   "source": [
    "# Sort by multiple columns\n",
    "\n",
    "# hospital_code in ascending order\n",
    "# visitors_with_patient in descending order\n",
    "\n",
    "sorted_df_multiple = sample_data.orderBy([\"hospital_code\", \"visitors_with_patient\"], ascending = [True, False])"
   ]
  },
  {
   "cell_type": "code",
   "execution_count": 11,
   "metadata": {
    "scrolled": true
   },
   "outputs": [
    {
     "name": "stdout",
     "output_type": "stream",
     "text": [
      "+-------+-------------+----------+---------+----------+-----+---------------------+\n",
      "|case_id|hospital_code|department|ward_type|patient_id|  age|visitors_with_patient|\n",
      "+-------+-------------+----------+---------+----------+-----+---------------------+\n",
      "|  66407|            1|gynecology|        S|     29947|61-70|                   23|\n",
      "| 239067|            1|gynecology|        S|     16740|61-70|                   16|\n",
      "| 239066|            1|gynecology|        S|     16740|61-70|                   16|\n",
      "| 133483|            1|gynecology|        S|     36014|81-90|                   16|\n",
      "| 101959|            1|gynecology|        T|     81590|31-40|                   15|\n",
      "|  48238|            1|anesthesia|        Q|    117410|31-40|                   15|\n",
      "|  97085|            1|gynecology|        R|      3191|11-20|                   15|\n",
      "|  45583|            1|gynecology|        Q|     74432|51-60|                   15|\n",
      "|   4150|            1|gynecology|        R|     25950|61-70|                   12|\n",
      "| 267133|            1|anesthesia|        R|    106723|61-70|                   12|\n",
      "|  52009|            1|anesthesia|        S|     99354|31-40|                   12|\n",
      "|  89159|            1|gynecology|        S|     24024|61-70|                   12|\n",
      "| 275270|            1|gynecology|        R|     91121|71-80|                   12|\n",
      "|  89157|            1|gynecology|        Q|     24024|61-70|                   12|\n",
      "|  97374|            1|gynecology|        Q|     48239|31-40|                   12|\n",
      "| 267135|            1|anesthesia|        R|    106723|61-70|                   12|\n",
      "| 275269|            1|gynecology|        R|     91121|71-80|                   12|\n",
      "| 267134|            1|anesthesia|        R|    106723|61-70|                   12|\n",
      "|  89158|            1|gynecology|        R|     24024|61-70|                   12|\n",
      "|  89156|            1|gynecology|        Q|     24024|61-70|                   12|\n",
      "+-------+-------------+----------+---------+----------+-----+---------------------+\n",
      "only showing top 20 rows\n",
      "\n"
     ]
    }
   ],
   "source": [
    "# Display data\n",
    "sorted_df_multiple.show()"
   ]
  },
  {
   "cell_type": "markdown",
   "metadata": {},
   "source": [
    "---\n",
    "---\n",
    "#### `Aggregation & Group By`\n",
    "\n",
    "You can get the aggregated results on the dataframe using the [groupBy](https://spark.apache.org/docs/2.1.0/api/python/pyspark.sql.html#pyspark.sql.DataFrame.orderBy) function. \n",
    "\n",
    "First group the data using the `groupBy` function, then use the function you want to apply on the grouped data.\n",
    "\n",
    "We will find out the average number of `visitors_with_patient` for each `hospital code`.\n",
    "\n",
    "\n",
    "---"
   ]
  },
  {
   "cell_type": "code",
   "execution_count": 12,
   "metadata": {},
   "outputs": [],
   "source": [
    "# Import functions\n",
    "from pyspark.sql.functions import countDistinct, avg"
   ]
  },
  {
   "cell_type": "code",
   "execution_count": 13,
   "metadata": {},
   "outputs": [],
   "source": [
    "# Group the data on hospital_code\n",
    "grouped_data = sample_data.groupBy(\"hospital_code\")"
   ]
  },
  {
   "cell_type": "code",
   "execution_count": 14,
   "metadata": {},
   "outputs": [],
   "source": [
    "# Average number of visitors_with_patient\n",
    "grouped_data_average_visitors = grouped_data.agg(avg(\"visitors_with_patient\"))"
   ]
  },
  {
   "cell_type": "code",
   "execution_count": 15,
   "metadata": {
    "scrolled": true
   },
   "outputs": [
    {
     "name": "stdout",
     "output_type": "stream",
     "text": [
      "+-------------+--------------------------+\n",
      "|hospital_code|avg(visitors_with_patient)|\n",
      "+-------------+--------------------------+\n",
      "|           31|        2.9238719435341567|\n",
      "|           28|         3.272218007819338|\n",
      "|           26|         3.333504655943887|\n",
      "|           27|         3.098989048020219|\n",
      "|           12|        3.3176064441887227|\n",
      "|           22|          3.11620294599018|\n",
      "|            1|         3.345018098685464|\n",
      "|           13|        2.9574102368220014|\n",
      "|           16|        2.9997275946608553|\n",
      "|            6|        3.5002692778457773|\n",
      "|            3|         3.188026981450253|\n",
      "|           20|        2.9430604982206408|\n",
      "|            5|        3.3221820946588103|\n",
      "|           19|         3.621424195296668|\n",
      "|           15|         3.307334989737496|\n",
      "|            9|        3.3440486533449176|\n",
      "|           17|        3.0563533902926743|\n",
      "|            4|        2.6298387096774194|\n",
      "|            8|        3.2082992082992083|\n",
      "|           23|        3.4961605059098093|\n",
      "+-------------+--------------------------+\n",
      "only showing top 20 rows\n",
      "\n"
     ]
    }
   ],
   "source": [
    "# Display data\n",
    "grouped_data_average_visitors.show()"
   ]
  },
  {
   "cell_type": "code",
   "execution_count": 16,
   "metadata": {},
   "outputs": [
    {
     "name": "stdout",
     "output_type": "stream",
     "text": [
      "+-------------+--------------------------+\n",
      "|hospital_code|avg(visitors_with_patient)|\n",
      "+-------------+--------------------------+\n",
      "|            1|         3.345018098685464|\n",
      "|            2|         3.202469619756958|\n",
      "|            3|         3.188026981450253|\n",
      "|            4|        2.6298387096774194|\n",
      "|            5|        3.3221820946588103|\n",
      "|            6|        3.5002692778457773|\n",
      "|            7|         2.768759571209801|\n",
      "|            8|        3.2082992082992083|\n",
      "|            9|        3.3440486533449176|\n",
      "|           10|        3.1571807101218865|\n",
      "|           11|        3.4263619575253923|\n",
      "|           12|        3.3176064441887227|\n",
      "|           13|        2.9574102368220014|\n",
      "|           14|        3.3149238227146816|\n",
      "|           15|         3.307334989737496|\n",
      "|           16|        2.9997275946608553|\n",
      "|           17|        3.0563533902926743|\n",
      "|           18|         3.474104683195592|\n",
      "|           19|         3.621424195296668|\n",
      "|           20|        2.9430604982206408|\n",
      "+-------------+--------------------------+\n",
      "only showing top 20 rows\n",
      "\n"
     ]
    }
   ],
   "source": [
    "# Sort grouped data\n",
    "grouped_data_average_visitors.orderBy(['hospital_code']).show()"
   ]
  },
  {
   "cell_type": "markdown",
   "metadata": {},
   "source": [
    "---\n",
    "\n",
    "Now, we can see that in the above result, the name of the second column is coming as `avg(visitors_with_patients)`. In case we want to change it, we can use [alias](https://spark.apache.org/docs/2.1.0/api/python/pyspark.sql.html#pyspark.sql.DataFrame.orderBy).\n",
    "\n",
    "See the below example where we will calculate the number of unique `patient_id` in each department. We will pass the name of the column as `unique_patients` in the `alias` function.\n",
    "\n",
    "\n",
    "---"
   ]
  },
  {
   "cell_type": "code",
   "execution_count": 17,
   "metadata": {},
   "outputs": [],
   "source": [
    "# Group data on department column\n",
    "grouped_data_department = sample_data.groupBy(\"department\")"
   ]
  },
  {
   "cell_type": "code",
   "execution_count": 18,
   "metadata": {},
   "outputs": [],
   "source": [
    "# Calculate unique patient_id per department\n",
    "# Rename new column as \"unique_patients\"\n",
    "\n",
    "grouped_data_department_unique_patient = grouped_data_department.agg(countDistinct(\"patient_id\").alias(\"unique_patients\"))"
   ]
  },
  {
   "cell_type": "code",
   "execution_count": 19,
   "metadata": {
    "scrolled": true
   },
   "outputs": [
    {
     "name": "stdout",
     "output_type": "stream",
     "text": [
      "+------------------+---------------+\n",
      "|        department|unique_patients|\n",
      "+------------------+---------------+\n",
      "|      radiotherapy|          14524|\n",
      "|        anesthesia|          18204|\n",
      "|TB & Chest disease|           6610|\n",
      "|        gynecology|          83951|\n",
      "|           surgery|            572|\n",
      "+------------------+---------------+\n",
      "\n"
     ]
    }
   ],
   "source": [
    "# Display data\n",
    "grouped_data_department_unique_patient.show()"
   ]
  },
  {
   "cell_type": "markdown",
   "metadata": {},
   "source": [
    "----\n",
    "\n",
    "Now, if you want to see aggregated results in multiple columns, you can pass the list as follows.\n",
    "\n",
    "----"
   ]
  },
  {
   "cell_type": "code",
   "execution_count": 20,
   "metadata": {},
   "outputs": [],
   "source": [
    "# Calculate unique patient_id per department\n",
    "# Calculate average visitors_with_patient per department\n",
    "# Rename each column\n",
    "\n",
    "grouped_data_multiple_columns = grouped_data_department.agg(countDistinct(\"patient_id\").alias(\"unique_patient\"), \n",
    "                                                            avg(\"visitors_with_patient\").alias(\"average_patient_visitors\"))"
   ]
  },
  {
   "cell_type": "code",
   "execution_count": 21,
   "metadata": {},
   "outputs": [
    {
     "name": "stdout",
     "output_type": "stream",
     "text": [
      "+------------------+--------------+------------------------+\n",
      "|        department|unique_patient|average_patient_visitors|\n",
      "+------------------+--------------+------------------------+\n",
      "|           surgery|           572|      3.7577019150707742|\n",
      "|TB & Chest disease|          6610|       3.350093886918423|\n",
      "|      radiotherapy|         14524|       3.376595595455183|\n",
      "|        anesthesia|         18204|      3.0917062970083307|\n",
      "|        gynecology|         83951|      3.2915754791852048|\n",
      "+------------------+--------------+------------------------+\n",
      "\n"
     ]
    }
   ],
   "source": [
    "# Display data\n",
    "grouped_data_multiple_columns.orderBy(['unique_patient']).show()"
   ]
  },
  {
   "cell_type": "markdown",
   "metadata": {},
   "source": [
    "---\n",
    "---\n",
    "#### `Read case url data`\n",
    "\n",
    "Read file on case url data of patient cases.\n",
    "\n",
    "---"
   ]
  },
  {
   "cell_type": "code",
   "execution_count": 22,
   "metadata": {},
   "outputs": [],
   "source": [
    "# Define the schema of the data\n",
    "case_schema = tp.StructType([\n",
    "                tp.StructField(name= \"case_id\", dataType= tp.IntegerType()),\n",
    "                tp.StructField(name= \"case_url\", dataType= tp.StringType())\n",
    "])"
   ]
  },
  {
   "cell_type": "code",
   "execution_count": 23,
   "metadata": {},
   "outputs": [],
   "source": [
    "# Read data\n",
    "case_data = spark.read.csv('data/module_8_case_url.csv', schema=case_schema, header=True)"
   ]
  },
  {
   "cell_type": "code",
   "execution_count": 24,
   "metadata": {},
   "outputs": [
    {
     "name": "stdout",
     "output_type": "stream",
     "text": [
      "+-------+--------------------+\n",
      "|case_id|            case_url|\n",
      "+-------+--------------------+\n",
      "|      0|https://www.healt...|\n",
      "|      1|https://www.healt...|\n",
      "|      2|https://www.healt...|\n",
      "|      3|https://www.healt...|\n",
      "|      4|https://www.healt...|\n",
      "|      5|https://www.healt...|\n",
      "|      6|https://www.healt...|\n",
      "|      7|https://www.healt...|\n",
      "|      8|https://www.healt...|\n",
      "|      9|https://www.healt...|\n",
      "|     10|https://www.healt...|\n",
      "|     11|https://www.healt...|\n",
      "|     12|https://www.healt...|\n",
      "|     13|https://www.healt...|\n",
      "|     14|https://www.healt...|\n",
      "|     15|https://www.healt...|\n",
      "|     16|https://www.healt...|\n",
      "|     17|https://www.healt...|\n",
      "|     18|https://www.healt...|\n",
      "|     19|https://www.healt...|\n",
      "+-------+--------------------+\n",
      "only showing top 20 rows\n",
      "\n"
     ]
    }
   ],
   "source": [
    "# Display dataframe\n",
    "case_data.show()"
   ]
  },
  {
   "cell_type": "markdown",
   "metadata": {},
   "source": [
    "----\n",
    "----\n",
    "#### `Joins`\n",
    "\n",
    "[Join](https://spark.apache.org/docs/latest/api/python/pyspark.sql.html?highlight=join#pyspark.sql.DataFrame.join) healthcare analytics data with case url data.\n",
    "\n",
    "---"
   ]
  },
  {
   "cell_type": "code",
   "execution_count": 25,
   "metadata": {},
   "outputs": [
    {
     "name": "stdout",
     "output_type": "stream",
     "text": [
      "+-------+-------------+------------+---------+----------+-----+---------------------+\n",
      "|case_id|hospital_code|  department|ward_type|patient_id|  age|visitors_with_patient|\n",
      "+-------+-------------+------------+---------+----------+-----+---------------------+\n",
      "|      1|            8|radiotherapy|        R|     31397|51-60|                    2|\n",
      "|      2|            2|radiotherapy|        S|     31397|51-60|                    2|\n",
      "|      3|           10|  anesthesia|        S|     31397|51-60|                    2|\n",
      "|      4|           26|radiotherapy|        R|     31397|51-60|                    2|\n",
      "|      5|           26|radiotherapy|        S|     31397|51-60|                    2|\n",
      "|      6|           23|  anesthesia|        S|     31397|51-60|                    2|\n",
      "|      7|           32|radiotherapy|        S|     31397|51-60|                    2|\n",
      "|      8|           23|radiotherapy|        Q|     31397|51-60|                    2|\n",
      "|      9|            1|  gynecology|        R|     31397|51-60|                    2|\n",
      "|     10|           10|  gynecology|        S|     31397|51-60|                    2|\n",
      "|     11|           22|radiotherapy|        S|     31397|51-60|                    2|\n",
      "|     12|           26|radiotherapy|        R|     31397|51-60|                    2|\n",
      "|     13|           16|radiotherapy|        R|     31397|51-60|                    2|\n",
      "|     14|            9|radiotherapy|        S|     31397|51-60|                    2|\n",
      "|     15|            6|  gynecology|        Q|     63418|71-80|                    2|\n",
      "|     16|            6|  gynecology|        Q|     63418|71-80|                    2|\n",
      "|     17|           23|radiotherapy|        Q|     63418|71-80|                    4|\n",
      "|     18|           29|  anesthesia|        S|     63418|71-80|                    2|\n",
      "|     19|           32|radiotherapy|        S|     63418|71-80|                    2|\n",
      "|     20|           12|radiotherapy|        Q|     63418|71-80|                    2|\n",
      "+-------+-------------+------------+---------+----------+-----+---------------------+\n",
      "only showing top 20 rows\n",
      "\n"
     ]
    }
   ],
   "source": [
    "# healthcare analytics data\n",
    "sample_data.show()"
   ]
  },
  {
   "cell_type": "code",
   "execution_count": 26,
   "metadata": {},
   "outputs": [
    {
     "name": "stdout",
     "output_type": "stream",
     "text": [
      "+-------+--------------------+\n",
      "|case_id|            case_url|\n",
      "+-------+--------------------+\n",
      "|      0|https://www.healt...|\n",
      "|      1|https://www.healt...|\n",
      "|      2|https://www.healt...|\n",
      "|      3|https://www.healt...|\n",
      "|      4|https://www.healt...|\n",
      "|      5|https://www.healt...|\n",
      "|      6|https://www.healt...|\n",
      "|      7|https://www.healt...|\n",
      "|      8|https://www.healt...|\n",
      "|      9|https://www.healt...|\n",
      "|     10|https://www.healt...|\n",
      "|     11|https://www.healt...|\n",
      "|     12|https://www.healt...|\n",
      "|     13|https://www.healt...|\n",
      "|     14|https://www.healt...|\n",
      "|     15|https://www.healt...|\n",
      "|     16|https://www.healt...|\n",
      "|     17|https://www.healt...|\n",
      "|     18|https://www.healt...|\n",
      "|     19|https://www.healt...|\n",
      "+-------+--------------------+\n",
      "only showing top 20 rows\n",
      "\n"
     ]
    }
   ],
   "source": [
    "# case url data\n",
    "case_data.show()"
   ]
  },
  {
   "cell_type": "markdown",
   "metadata": {},
   "source": [
    "---\n",
    "<center>Inner join</center>\n",
    "\n",
    "<center><img src= \"images/inner_join.png\"></center>\n",
    "\n",
    "---"
   ]
  },
  {
   "cell_type": "code",
   "execution_count": 27,
   "metadata": {},
   "outputs": [],
   "source": [
    "# Inner join\n",
    "inner_join_df = sample_data.join(case_data, 'case_id')"
   ]
  },
  {
   "cell_type": "code",
   "execution_count": 28,
   "metadata": {},
   "outputs": [
    {
     "name": "stdout",
     "output_type": "stream",
     "text": [
      "+-------+-------------+------------+---------+----------+-----+---------------------+--------------------+\n",
      "|case_id|hospital_code|  department|ward_type|patient_id|  age|visitors_with_patient|            case_url|\n",
      "+-------+-------------+------------+---------+----------+-----+---------------------+--------------------+\n",
      "|      1|            8|radiotherapy|        R|     31397|51-60|                    2|https://www.healt...|\n",
      "|      2|            2|radiotherapy|        S|     31397|51-60|                    2|https://www.healt...|\n",
      "|      3|           10|  anesthesia|        S|     31397|51-60|                    2|https://www.healt...|\n",
      "|      4|           26|radiotherapy|        R|     31397|51-60|                    2|https://www.healt...|\n",
      "|      5|           26|radiotherapy|        S|     31397|51-60|                    2|https://www.healt...|\n",
      "|      6|           23|  anesthesia|        S|     31397|51-60|                    2|https://www.healt...|\n",
      "|      7|           32|radiotherapy|        S|     31397|51-60|                    2|https://www.healt...|\n",
      "|      8|           23|radiotherapy|        Q|     31397|51-60|                    2|https://www.healt...|\n",
      "|      9|            1|  gynecology|        R|     31397|51-60|                    2|https://www.healt...|\n",
      "|     10|           10|  gynecology|        S|     31397|51-60|                    2|https://www.healt...|\n",
      "|     11|           22|radiotherapy|        S|     31397|51-60|                    2|https://www.healt...|\n",
      "|     12|           26|radiotherapy|        R|     31397|51-60|                    2|https://www.healt...|\n",
      "|     13|           16|radiotherapy|        R|     31397|51-60|                    2|https://www.healt...|\n",
      "|     14|            9|radiotherapy|        S|     31397|51-60|                    2|https://www.healt...|\n",
      "|     15|            6|  gynecology|        Q|     63418|71-80|                    2|https://www.healt...|\n",
      "|     16|            6|  gynecology|        Q|     63418|71-80|                    2|https://www.healt...|\n",
      "|     17|           23|radiotherapy|        Q|     63418|71-80|                    4|https://www.healt...|\n",
      "|     18|           29|  anesthesia|        S|     63418|71-80|                    2|https://www.healt...|\n",
      "|     19|           32|radiotherapy|        S|     63418|71-80|                    2|https://www.healt...|\n",
      "|     20|           12|radiotherapy|        Q|     63418|71-80|                    2|https://www.healt...|\n",
      "+-------+-------------+------------+---------+----------+-----+---------------------+--------------------+\n",
      "only showing top 20 rows\n",
      "\n"
     ]
    }
   ],
   "source": [
    "# Display data\n",
    "inner_join_df.show()"
   ]
  },
  {
   "cell_type": "markdown",
   "metadata": {},
   "source": [
    "---\n",
    "<center>Right Outer join</center>\n",
    "\n",
    "<center><img src= \"images/right_outer_join.png\"></center>\n",
    "\n",
    "---"
   ]
  },
  {
   "cell_type": "code",
   "execution_count": 29,
   "metadata": {},
   "outputs": [],
   "source": [
    "# Right outer join\n",
    "right_outer_join_df = sample_data.join(case_data, 'case_id', 'rightouter')"
   ]
  },
  {
   "cell_type": "code",
   "execution_count": 30,
   "metadata": {},
   "outputs": [
    {
     "name": "stdout",
     "output_type": "stream",
     "text": [
      "+-------+-------------+------------+---------+----------+-----+---------------------+--------------------+\n",
      "|case_id|hospital_code|  department|ward_type|patient_id|  age|visitors_with_patient|            case_url|\n",
      "+-------+-------------+------------+---------+----------+-----+---------------------+--------------------+\n",
      "|      0|         null|        null|     null|      null| null|                 null|https://www.healt...|\n",
      "|      1|            8|radiotherapy|        R|     31397|51-60|                    2|https://www.healt...|\n",
      "|      2|            2|radiotherapy|        S|     31397|51-60|                    2|https://www.healt...|\n",
      "|      3|           10|  anesthesia|        S|     31397|51-60|                    2|https://www.healt...|\n",
      "|      4|           26|radiotherapy|        R|     31397|51-60|                    2|https://www.healt...|\n",
      "|      5|           26|radiotherapy|        S|     31397|51-60|                    2|https://www.healt...|\n",
      "|      6|           23|  anesthesia|        S|     31397|51-60|                    2|https://www.healt...|\n",
      "|      7|           32|radiotherapy|        S|     31397|51-60|                    2|https://www.healt...|\n",
      "|      8|           23|radiotherapy|        Q|     31397|51-60|                    2|https://www.healt...|\n",
      "|      9|            1|  gynecology|        R|     31397|51-60|                    2|https://www.healt...|\n",
      "|     10|           10|  gynecology|        S|     31397|51-60|                    2|https://www.healt...|\n",
      "|     11|           22|radiotherapy|        S|     31397|51-60|                    2|https://www.healt...|\n",
      "|     12|           26|radiotherapy|        R|     31397|51-60|                    2|https://www.healt...|\n",
      "|     13|           16|radiotherapy|        R|     31397|51-60|                    2|https://www.healt...|\n",
      "|     14|            9|radiotherapy|        S|     31397|51-60|                    2|https://www.healt...|\n",
      "|     15|            6|  gynecology|        Q|     63418|71-80|                    2|https://www.healt...|\n",
      "|     16|            6|  gynecology|        Q|     63418|71-80|                    2|https://www.healt...|\n",
      "|     17|           23|radiotherapy|        Q|     63418|71-80|                    4|https://www.healt...|\n",
      "|     18|           29|  anesthesia|        S|     63418|71-80|                    2|https://www.healt...|\n",
      "|     19|           32|radiotherapy|        S|     63418|71-80|                    2|https://www.healt...|\n",
      "+-------+-------------+------------+---------+----------+-----+---------------------+--------------------+\n",
      "only showing top 20 rows\n",
      "\n"
     ]
    }
   ],
   "source": [
    "# Display data\n",
    "right_outer_join_df.show()"
   ]
  },
  {
   "cell_type": "markdown",
   "metadata": {},
   "source": [
    "#### `Exercise`\n",
    "\n",
    "* Left Outer Join\n",
    "* Full Outer Join"
   ]
  },
  {
   "cell_type": "code",
   "execution_count": null,
   "metadata": {},
   "outputs": [],
   "source": []
  }
 ],
 "metadata": {
  "kernelspec": {
   "display_name": "Python 3 (ipykernel)",
   "language": "python",
   "name": "python3"
  },
  "language_info": {
   "codemirror_mode": {
    "name": "ipython",
    "version": 3
   },
   "file_extension": ".py",
   "mimetype": "text/x-python",
   "name": "python",
   "nbconvert_exporter": "python",
   "pygments_lexer": "ipython3",
   "version": "3.10.9"
  }
 },
 "nbformat": 4,
 "nbformat_minor": 4
}
