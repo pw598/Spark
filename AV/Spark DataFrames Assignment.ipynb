{
 "cells": [
  {
   "cell_type": "markdown",
   "id": "6dd37312",
   "metadata": {},
   "source": [
    "---\n",
    "---\n",
    "\n",
    "<center><h1>Assignment: DataFrames</h1></center>\n",
    "\n",
    "---\n",
    "\n",
    "In the notebook, we will work with a cricket commentary data.\n",
    "\n",
    "\n",
    "---\n",
    "\n",
    "#### `Importing the required libraries`\n",
    "\n",
    "---"
   ]
  },
  {
   "cell_type": "code",
   "execution_count": 1,
   "id": "89c3f948",
   "metadata": {},
   "outputs": [],
   "source": [
    "from pyspark.context import SparkContext\n",
    "import pyspark.sql.types as tp\n",
    "from pyspark.sql import functions as F"
   ]
  },
  {
   "cell_type": "code",
   "execution_count": 2,
   "id": "68adf517",
   "metadata": {},
   "outputs": [],
   "source": [
    "from pyspark.sql import SparkSession\n",
    "spark = SparkSession.builder.getOrCreate()\n",
    "\n",
    "from pyspark.context import SparkContext\n",
    "sc = spark.sparkContext"
   ]
  },
  {
   "cell_type": "code",
   "execution_count": 3,
   "id": "9cf4bfce",
   "metadata": {},
   "outputs": [
    {
     "data": {
      "text/html": [
       "\n",
       "        <div>\n",
       "            <p><b>SparkContext</b></p>\n",
       "\n",
       "            <p><a href=\"http://g01.itversity.com:4040\">Spark UI</a></p>\n",
       "\n",
       "            <dl>\n",
       "              <dt>Version</dt>\n",
       "                <dd><code>v2.4.7</code></dd>\n",
       "              <dt>Master</dt>\n",
       "                <dd><code>yarn</code></dd>\n",
       "              <dt>AppName</dt>\n",
       "                <dd><code>pyspark-shell</code></dd>\n",
       "            </dl>\n",
       "        </div>\n",
       "        "
      ],
      "text/plain": [
       "<SparkContext master=yarn appName=pyspark-shell>"
      ]
     },
     "execution_count": 3,
     "metadata": {},
     "output_type": "execute_result"
    }
   ],
   "source": [
    "sc"
   ]
  },
  {
   "cell_type": "markdown",
   "id": "9ea0a3a5",
   "metadata": {},
   "source": [
    "---\n",
    "\n",
    "#### `Read the CSV File`\n",
    "\n",
    "---"
   ]
  },
  {
   "cell_type": "code",
   "execution_count": 4,
   "id": "5600e439",
   "metadata": {},
   "outputs": [],
   "source": [
    "data = spark.read.csv(\"dataset/ind-ban-comment.csv\",inferSchema=True, header=True)"
   ]
  },
  {
   "cell_type": "markdown",
   "id": "114281e2",
   "metadata": {},
   "source": [
    "## check the schema of the dataframe"
   ]
  },
  {
   "cell_type": "code",
   "execution_count": 5,
   "id": "d0d499e4",
   "metadata": {},
   "outputs": [
    {
     "data": {
      "text/plain": [
       "StructType(List(StructField(_c0,IntegerType,true),StructField(Batsman,IntegerType,true),StructField(Batsman_Name,StringType,true),StructField(Bowler,IntegerType,true),StructField(Bowler_Name,StringType,true),StructField(Commentary,StringType,true),StructField(Detail,StringType,true),StructField(Dismissed,DoubleType,true),StructField(Id,IntegerType,true),StructField(Isball,BooleanType,true),StructField(Isboundary,DoubleType,true),StructField(Iswicket,DoubleType,true),StructField(Over,DoubleType,true),StructField(Runs,IntegerType,true),StructField(Summary,StringType,true),StructField(Timestamp,TimestampType,true),StructField(ZAD,StringType,true)))"
      ]
     },
     "execution_count": 5,
     "metadata": {},
     "output_type": "execute_result"
    }
   ],
   "source": [
    "data.schema"
   ]
  },
  {
   "cell_type": "markdown",
   "id": "0ed8ff9a",
   "metadata": {},
   "source": [
    "### VIEW THE TOP 4 ROWS OF THE DATA USING THE SHOW FUNCTION"
   ]
  },
  {
   "cell_type": "code",
   "execution_count": 6,
   "id": "2ba8a924",
   "metadata": {},
   "outputs": [
    {
     "name": "stdout",
     "output_type": "stream",
     "text": [
      "+---+-------+-----------------+------+-----------------+--------------------+------+---------+---+------+----------+--------+----+----+-------+-------------------+-------+\n",
      "|_c0|Batsman|     Batsman_Name|Bowler|      Bowler_Name|          Commentary|Detail|Dismissed| Id|Isball|Isboundary|Iswicket|Over|Runs|Summary|          Timestamp|    ZAD|\n",
      "+---+-------+-----------------+------+-----------------+--------------------+------+---------+---+------+----------+--------+----+----+-------+-------------------+-------+\n",
      "|  0|  28994|   Mohammed Shami| 63881|Mustafizur Rahman|OUT! Bowled! 5-fe...|     W|  28994.0|346|  true|      null|     1.0|49.6|   0|   null|2019-07-02 13:18:47|   null|\n",
      "|  1|   5132|Bhuvneshwar Kumar| 63881|Mustafizur Rahman|WIDE AND RUN OUT!...|  W+wd|   5132.0|344|  true|      null|     1.0|49.6|   1|   null|2019-07-02 13:17:28|   null|\n",
      "|  2|  28994|   Mohammed Shami| 63881|Mustafizur Rahman|Back of a length ...|  null|     null|343|  true|      null|    null|49.5|   1|   null|2019-07-02 13:16:03|8,349,3|\n",
      "|  3|   5132|Bhuvneshwar Kumar| 63881|Mustafizur Rahman|Just 1 run off th...|  null|     null|342|  true|      null|    null|49.4|   1|   null|2019-07-02 13:15:17|7,279,2|\n",
      "+---+-------+-----------------+------+-----------------+--------------------+------+---------+---+------+----------+--------+----+----+-------+-------------------+-------+\n",
      "only showing top 4 rows\n",
      "\n"
     ]
    }
   ],
   "source": [
    "data.show(4)"
   ]
  },
  {
   "cell_type": "markdown",
   "id": "b4d09301",
   "metadata": {},
   "source": [
    "---\n",
    "\n",
    "#### Find out the number of runs scored by each batsman\n",
    "\n",
    "---"
   ]
  },
  {
   "cell_type": "code",
   "execution_count": 7,
   "id": "374d9a20",
   "metadata": {},
   "outputs": [
    {
     "name": "stdout",
     "output_type": "stream",
     "text": [
      "+------------------+---------+\n",
      "|      Batsman_Name|sum(Runs)|\n",
      "+------------------+---------+\n",
      "|     Soumya Sarkar|       34|\n",
      "|  Mashrafe Mortaza|        8|\n",
      "|   Shakib Al Hasan|       68|\n",
      "|   Mushfiqur Rahim|       24|\n",
      "|Mohammad Saifuddin|       55|\n",
      "|         Liton Das|       22|\n",
      "|      Rishabh Pant|       55|\n",
      "|    Mohammed Shami|        1|\n",
      "|       Tamim Iqbal|       23|\n",
      "|     Hardik Pandya|        0|\n",
      "|          KL Rahul|       79|\n",
      "| Bhuvneshwar Kumar|        3|\n",
      "|     Rubel Hossain|        9|\n",
      "|      Rohit Sharma|      107|\n",
      "|    Dinesh Karthik|        8|\n",
      "|       Virat Kohli|       26|\n",
      "|          MS Dhoni|       35|\n",
      "|     Sabbir Rahman|       40|\n",
      "|  Mosaddek Hossain|        3|\n",
      "| Mustafizur Rahman|        0|\n",
      "+------------------+---------+\n",
      "\n"
     ]
    }
   ],
   "source": [
    "data.select('Batsman', 'Batsman_Name', 'Runs').groupBy('Batsman_Name').sum('Runs').show()"
   ]
  },
  {
   "cell_type": "markdown",
   "id": "7c006893",
   "metadata": {},
   "source": [
    "### SHOW THE BATSMAN SCORED BY EACH RUN IN DESCENDING ORDER"
   ]
  },
  {
   "cell_type": "code",
   "execution_count": 8,
   "id": "a4a352ec",
   "metadata": {},
   "outputs": [
    {
     "data": {
      "text/html": [
       "<table border='1'>\n",
       "<tr><th>Batsman_Name</th><th>sum(Runs)</th></tr>\n",
       "<tr><td>Rohit Sharma</td><td>107</td></tr>\n",
       "<tr><td>KL Rahul</td><td>79</td></tr>\n",
       "<tr><td>Shakib Al Hasan</td><td>68</td></tr>\n",
       "<tr><td>Rishabh Pant</td><td>55</td></tr>\n",
       "<tr><td>Mohammad Saifuddin</td><td>55</td></tr>\n",
       "<tr><td>Sabbir Rahman</td><td>40</td></tr>\n",
       "<tr><td>MS Dhoni</td><td>35</td></tr>\n",
       "<tr><td>Soumya Sarkar</td><td>34</td></tr>\n",
       "<tr><td>Virat Kohli</td><td>26</td></tr>\n",
       "<tr><td>Mushfiqur Rahim</td><td>24</td></tr>\n",
       "<tr><td>Tamim Iqbal</td><td>23</td></tr>\n",
       "<tr><td>Liton Das</td><td>22</td></tr>\n",
       "<tr><td>Rubel Hossain</td><td>9</td></tr>\n",
       "<tr><td>Dinesh Karthik</td><td>8</td></tr>\n",
       "<tr><td>Mashrafe Mortaza</td><td>8</td></tr>\n",
       "<tr><td>Bhuvneshwar Kumar</td><td>3</td></tr>\n",
       "<tr><td>Mosaddek Hossain</td><td>3</td></tr>\n",
       "<tr><td>Mohammed Shami</td><td>1</td></tr>\n",
       "<tr><td>Hardik Pandya</td><td>0</td></tr>\n",
       "<tr><td>Mustafizur Rahman</td><td>0</td></tr>\n",
       "</table>\n"
      ],
      "text/plain": [
       "+------------------+---------+\n",
       "|      Batsman_Name|sum(Runs)|\n",
       "+------------------+---------+\n",
       "|      Rohit Sharma|      107|\n",
       "|          KL Rahul|       79|\n",
       "|   Shakib Al Hasan|       68|\n",
       "|      Rishabh Pant|       55|\n",
       "|Mohammad Saifuddin|       55|\n",
       "|     Sabbir Rahman|       40|\n",
       "|          MS Dhoni|       35|\n",
       "|     Soumya Sarkar|       34|\n",
       "|       Virat Kohli|       26|\n",
       "|   Mushfiqur Rahim|       24|\n",
       "|       Tamim Iqbal|       23|\n",
       "|         Liton Das|       22|\n",
       "|     Rubel Hossain|        9|\n",
       "|    Dinesh Karthik|        8|\n",
       "|  Mashrafe Mortaza|        8|\n",
       "| Bhuvneshwar Kumar|        3|\n",
       "|  Mosaddek Hossain|        3|\n",
       "|    Mohammed Shami|        1|\n",
       "|     Hardik Pandya|        0|\n",
       "| Mustafizur Rahman|        0|\n",
       "+------------------+---------+"
      ]
     },
     "execution_count": 8,
     "metadata": {},
     "output_type": "execute_result"
    }
   ],
   "source": [
    "view = data.select('Batsman', 'Batsman_Name', 'Runs').groupBy('Batsman_Name').sum('Runs')\n",
    "view.sort('sum(Runs)', ascending=False)"
   ]
  },
  {
   "cell_type": "markdown",
   "id": "f6436fb5",
   "metadata": {},
   "source": [
    "---\n",
    "\n",
    "#### Which batsman scored the highest number of boundaries\n",
    "\n",
    "---"
   ]
  },
  {
   "cell_type": "code",
   "execution_count": 9,
   "id": "aae35559",
   "metadata": {},
   "outputs": [
    {
     "data": {
      "text/plain": [
       "['_c0',\n",
       " 'Batsman',\n",
       " 'Batsman_Name',\n",
       " 'Bowler',\n",
       " 'Bowler_Name',\n",
       " 'Commentary',\n",
       " 'Detail',\n",
       " 'Dismissed',\n",
       " 'Id',\n",
       " 'Isball',\n",
       " 'Isboundary',\n",
       " 'Iswicket',\n",
       " 'Over',\n",
       " 'Runs',\n",
       " 'Summary',\n",
       " 'Timestamp',\n",
       " 'ZAD']"
      ]
     },
     "execution_count": 9,
     "metadata": {},
     "output_type": "execute_result"
    }
   ],
   "source": [
    "data.columns"
   ]
  },
  {
   "cell_type": "code",
   "execution_count": 10,
   "id": "9bb7c51b",
   "metadata": {},
   "outputs": [
    {
     "data": {
      "text/html": [
       "<table border='1'>\n",
       "<tr><th>Batsman_Name</th><th>sum(Isboundary)</th></tr>\n",
       "<tr><td>Rohit Sharma</td><td>12.0</td></tr>\n",
       "<tr><td>Mohammad Saifuddin</td><td>9.0</td></tr>\n",
       "<tr><td>KL Rahul</td><td>7.0</td></tr>\n",
       "<tr><td>Rishabh Pant</td><td>7.0</td></tr>\n",
       "<tr><td>Shakib Al Hasan</td><td>6.0</td></tr>\n",
       "<tr><td>Sabbir Rahman</td><td>5.0</td></tr>\n",
       "<tr><td>Soumya Sarkar</td><td>4.0</td></tr>\n",
       "<tr><td>MS Dhoni</td><td>4.0</td></tr>\n",
       "<tr><td>Virat Kohli</td><td>3.0</td></tr>\n",
       "<tr><td>Mushfiqur Rahim</td><td>3.0</td></tr>\n",
       "<tr><td>Tamim Iqbal</td><td>3.0</td></tr>\n",
       "<tr><td>Liton Das</td><td>1.0</td></tr>\n",
       "<tr><td>Dinesh Karthik</td><td>1.0</td></tr>\n",
       "<tr><td>Mashrafe Mortaza</td><td>1.0</td></tr>\n",
       "<tr><td>Rubel Hossain</td><td>1.0</td></tr>\n",
       "<tr><td>Mohammed Shami</td><td>null</td></tr>\n",
       "<tr><td>Hardik Pandya</td><td>null</td></tr>\n",
       "<tr><td>Bhuvneshwar Kumar</td><td>null</td></tr>\n",
       "<tr><td>Mosaddek Hossain</td><td>null</td></tr>\n",
       "<tr><td>Mustafizur Rahman</td><td>null</td></tr>\n",
       "</table>\n"
      ],
      "text/plain": [
       "+------------------+---------------+\n",
       "|      Batsman_Name|sum(Isboundary)|\n",
       "+------------------+---------------+\n",
       "|      Rohit Sharma|           12.0|\n",
       "|Mohammad Saifuddin|            9.0|\n",
       "|          KL Rahul|            7.0|\n",
       "|      Rishabh Pant|            7.0|\n",
       "|   Shakib Al Hasan|            6.0|\n",
       "|     Sabbir Rahman|            5.0|\n",
       "|     Soumya Sarkar|            4.0|\n",
       "|          MS Dhoni|            4.0|\n",
       "|       Virat Kohli|            3.0|\n",
       "|   Mushfiqur Rahim|            3.0|\n",
       "|       Tamim Iqbal|            3.0|\n",
       "|         Liton Das|            1.0|\n",
       "|    Dinesh Karthik|            1.0|\n",
       "|  Mashrafe Mortaza|            1.0|\n",
       "|     Rubel Hossain|            1.0|\n",
       "|    Mohammed Shami|           null|\n",
       "|     Hardik Pandya|           null|\n",
       "| Bhuvneshwar Kumar|           null|\n",
       "|  Mosaddek Hossain|           null|\n",
       "| Mustafizur Rahman|           null|\n",
       "+------------------+---------------+"
      ]
     },
     "execution_count": 10,
     "metadata": {},
     "output_type": "execute_result"
    }
   ],
   "source": [
    "view = data.select('Batsman', 'Batsman_Name', 'Isboundary').groupBy('Batsman_Name').sum('Isboundary')\n",
    "view.sort('sum(Isboundary)', ascending=False)"
   ]
  },
  {
   "cell_type": "markdown",
   "id": "024e9e50",
   "metadata": {},
   "source": [
    "Rohit Sharma had the highest number of boundaries."
   ]
  },
  {
   "cell_type": "markdown",
   "id": "f56ab599",
   "metadata": {},
   "source": [
    "---\n",
    "\n",
    "**Define a `udf` function that will create a new column on the basis of following condition**\n",
    "\n",
    "If the value of `Runs` is less than 2, then assign `A`, if value is between `3 to 5` then assign `B` else assign `C`\n",
    "\n",
    "\n",
    "---"
   ]
  },
  {
   "cell_type": "code",
   "execution_count": 11,
   "id": "9e6db552",
   "metadata": {},
   "outputs": [],
   "source": [
    "view = data.select('Batsman', 'Batsman_Name', 'Runs')"
   ]
  },
  {
   "cell_type": "code",
   "execution_count": 12,
   "id": "9138db48",
   "metadata": {},
   "outputs": [],
   "source": [
    "from pyspark.sql.functions import expr, when"
   ]
  },
  {
   "cell_type": "code",
   "execution_count": 13,
   "id": "6c03b7f8",
   "metadata": {},
   "outputs": [],
   "source": [
    "from pyspark.sql.functions import col"
   ]
  },
  {
   "cell_type": "code",
   "execution_count": 14,
   "id": "00d418eb",
   "metadata": {},
   "outputs": [],
   "source": [
    "def create_col(x):\n",
    "    view = x.withColumn('new_column', \\\n",
    "                       when((col('Runs') < 2), 'A')\n",
    "                       .when((col('Runs') > 2) & (col('Runs') < 6), 'B')\n",
    "                       .otherwise('C'))\n",
    "    return view"
   ]
  },
  {
   "cell_type": "code",
   "execution_count": 15,
   "id": "aaa52692",
   "metadata": {},
   "outputs": [
    {
     "data": {
      "text/html": [
       "<table border='1'>\n",
       "<tr><th>Batsman</th><th>Batsman_Name</th><th>Runs</th><th>new_column</th></tr>\n",
       "<tr><td>28994</td><td>Mohammed Shami</td><td>0</td><td>A</td></tr>\n",
       "<tr><td>5132</td><td>Bhuvneshwar Kumar</td><td>1</td><td>A</td></tr>\n",
       "<tr><td>28994</td><td>Mohammed Shami</td><td>1</td><td>A</td></tr>\n",
       "<tr><td>5132</td><td>Bhuvneshwar Kumar</td><td>1</td><td>A</td></tr>\n",
       "<tr><td>3676</td><td>MS Dhoni</td><td>0</td><td>A</td></tr>\n",
       "<tr><td>3676</td><td>MS Dhoni</td><td>0</td><td>A</td></tr>\n",
       "<tr><td>3676</td><td>MS Dhoni</td><td>0</td><td>A</td></tr>\n",
       "<tr><td>3676</td><td>MS Dhoni</td><td>1</td><td>A</td></tr>\n",
       "<tr><td>3676</td><td>MS Dhoni</td><td>4</td><td>B</td></tr>\n",
       "<tr><td>3676</td><td>MS Dhoni</td><td>0</td><td>A</td></tr>\n",
       "<tr><td>3676</td><td>MS Dhoni</td><td>0</td><td>A</td></tr>\n",
       "<tr><td>3676</td><td>MS Dhoni</td><td>4</td><td>B</td></tr>\n",
       "<tr><td>3676</td><td>MS Dhoni</td><td>2</td><td>C</td></tr>\n",
       "<tr><td>5132</td><td>Bhuvneshwar Kumar</td><td>0</td><td>A</td></tr>\n",
       "<tr><td>3676</td><td>MS Dhoni</td><td>1</td><td>A</td></tr>\n",
       "<tr><td>3676</td><td>MS Dhoni</td><td>0</td><td>A</td></tr>\n",
       "<tr><td>5132</td><td>Bhuvneshwar Kumar</td><td>1</td><td>A</td></tr>\n",
       "<tr><td>3632</td><td>Dinesh Karthik</td><td>0</td><td>A</td></tr>\n",
       "<tr><td>3676</td><td>MS Dhoni</td><td>1</td><td>A</td></tr>\n",
       "<tr><td>3676</td><td>MS Dhoni</td><td>1</td><td>A</td></tr>\n",
       "</table>\n",
       "only showing top 20 rows\n"
      ],
      "text/plain": [
       "+-------+-----------------+----+----------+\n",
       "|Batsman|     Batsman_Name|Runs|new_column|\n",
       "+-------+-----------------+----+----------+\n",
       "|  28994|   Mohammed Shami|   0|         A|\n",
       "|   5132|Bhuvneshwar Kumar|   1|         A|\n",
       "|  28994|   Mohammed Shami|   1|         A|\n",
       "|   5132|Bhuvneshwar Kumar|   1|         A|\n",
       "|   3676|         MS Dhoni|   0|         A|\n",
       "|   3676|         MS Dhoni|   0|         A|\n",
       "|   3676|         MS Dhoni|   0|         A|\n",
       "|   3676|         MS Dhoni|   1|         A|\n",
       "|   3676|         MS Dhoni|   4|         B|\n",
       "|   3676|         MS Dhoni|   0|         A|\n",
       "|   3676|         MS Dhoni|   0|         A|\n",
       "|   3676|         MS Dhoni|   4|         B|\n",
       "|   3676|         MS Dhoni|   2|         C|\n",
       "|   5132|Bhuvneshwar Kumar|   0|         A|\n",
       "|   3676|         MS Dhoni|   1|         A|\n",
       "|   3676|         MS Dhoni|   0|         A|\n",
       "|   5132|Bhuvneshwar Kumar|   1|         A|\n",
       "|   3632|   Dinesh Karthik|   0|         A|\n",
       "|   3676|         MS Dhoni|   1|         A|\n",
       "|   3676|         MS Dhoni|   1|         A|\n",
       "+-------+-----------------+----+----------+\n",
       "only showing top 20 rows"
      ]
     },
     "execution_count": 15,
     "metadata": {},
     "output_type": "execute_result"
    }
   ],
   "source": [
    "create_col(view)"
   ]
  }
 ],
 "metadata": {
  "kernelspec": {
   "display_name": "Pyspark 2",
   "language": "python",
   "name": "pyspark2"
  },
  "language_info": {
   "codemirror_mode": {
    "name": "ipython",
    "version": 3
   },
   "file_extension": ".py",
   "mimetype": "text/x-python",
   "name": "python",
   "nbconvert_exporter": "python",
   "pygments_lexer": "ipython3",
   "version": "3.6.12"
  }
 },
 "nbformat": 4,
 "nbformat_minor": 5
}
