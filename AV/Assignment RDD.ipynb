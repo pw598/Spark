{
 "cells": [
  {
   "cell_type": "markdown",
   "id": "74d5486b",
   "metadata": {},
   "source": [
    "---\n",
    "---\n",
    "\n",
    "<center><h1> Assignment: RDDs</h1></center>\n",
    "    \n",
    "---\n",
    "---\n",
    "   \n",
    "#### `Creating the Spark Context`     \n",
    "    \n",
    "---"
   ]
  },
  {
   "cell_type": "code",
   "execution_count": null,
   "id": "def99afb",
   "metadata": {},
   "outputs": [],
   "source": [
    "# import pyspark\n",
    "# from pyspark.context import SparkContext\n",
    "# sc = spark.sparkContext\n",
    "\n",
    "# result: AttributeError: module 'pyspark' has no attribute 'sparkContext'"
   ]
  },
  {
   "cell_type": "code",
   "execution_count": 1,
   "id": "fdf12bb6",
   "metadata": {},
   "outputs": [],
   "source": [
    "# alternative that works:\n",
    "\n",
    "from pyspark.sql import SparkSession\n",
    "spark = SparkSession.builder.getOrCreate()\n",
    "sc = spark.sparkContext"
   ]
  },
  {
   "cell_type": "code",
   "execution_count": 2,
   "id": "767a911d",
   "metadata": {},
   "outputs": [],
   "source": [
    "# pair RDD A\n",
    "pair_rdd_A = sc.parallelize([(\"A\", 1000), \n",
    "                             (\"B\", 3244),\n",
    "                             (\"A\", 2939),\n",
    "                             (\"A\", 2233),\n",
    "                             (\"A\", 3920),\n",
    "                             (\"B\", 2233)])\n",
    "# pair RDD B\n",
    "pair_rdd_B = sc.parallelize([(\"A\", 0),\n",
    "                             (\"B\", 1),\n",
    "                             (\"C\", 3),\n",
    "                             (\"D\", 1),\n",
    "                             (\"E\", 2)])"
   ]
  },
  {
   "cell_type": "markdown",
   "id": "00a3beab",
   "metadata": {},
   "source": [
    "#### `Collect Both the Pair RDDs`\n",
    "\n",
    "---"
   ]
  },
  {
   "cell_type": "code",
   "execution_count": 3,
   "id": "924acf44",
   "metadata": {},
   "outputs": [
    {
     "data": {
      "text/plain": [
       "[('A', 1000), ('B', 3244), ('A', 2939), ('A', 2233), ('A', 3920), ('B', 2233)]"
      ]
     },
     "execution_count": 3,
     "metadata": {},
     "output_type": "execute_result"
    }
   ],
   "source": [
    "# write your code here to collect pair_rdd_A\n",
    "\n",
    "pair_rdd_A.collect()"
   ]
  },
  {
   "cell_type": "code",
   "execution_count": 4,
   "id": "a67fc8e0",
   "metadata": {},
   "outputs": [
    {
     "data": {
      "text/plain": [
       "[('A', 0), ('B', 1), ('C', 3), ('D', 1), ('E', 2)]"
      ]
     },
     "execution_count": 4,
     "metadata": {},
     "output_type": "execute_result"
    }
   ],
   "source": [
    "# write your code here to collect pair_rdd_B\n",
    "\n",
    "pair_rdd_B.collect()"
   ]
  },
  {
   "cell_type": "markdown",
   "id": "3b36815f",
   "metadata": {},
   "source": [
    "#### `Use CountByKey to find out the number of data points both in A & B`\n",
    "\n",
    "---"
   ]
  },
  {
   "cell_type": "code",
   "execution_count": 5,
   "id": "5efd6740",
   "metadata": {},
   "outputs": [
    {
     "data": {
      "text/plain": [
       "defaultdict(int, {'A': 4, 'B': 2})"
      ]
     },
     "execution_count": 5,
     "metadata": {},
     "output_type": "execute_result"
    }
   ],
   "source": [
    "# write your code here\n",
    "\n",
    "pair_rdd_A.countByKey()"
   ]
  },
  {
   "cell_type": "code",
   "execution_count": 6,
   "id": "f3263e08",
   "metadata": {},
   "outputs": [
    {
     "data": {
      "text/plain": [
       "defaultdict(int, {'A': 1, 'B': 1, 'C': 1, 'D': 1, 'E': 1})"
      ]
     },
     "execution_count": 6,
     "metadata": {},
     "output_type": "execute_result"
    }
   ],
   "source": [
    "pair_rdd_B.countByKey()"
   ]
  },
  {
   "cell_type": "markdown",
   "id": "c2d39411",
   "metadata": {},
   "source": [
    "#### `Find all the values agains the Key A & B using lookup in the pair_rdd_B`\n",
    "\n",
    "---"
   ]
  },
  {
   "cell_type": "code",
   "execution_count": 16,
   "id": "9a273dac",
   "metadata": {},
   "outputs": [
    {
     "data": {
      "text/plain": [
       "[0]"
      ]
     },
     "execution_count": 16,
     "metadata": {},
     "output_type": "execute_result"
    }
   ],
   "source": [
    "pair_rdd_B.lookup(\"A\")"
   ]
  },
  {
   "cell_type": "code",
   "execution_count": 17,
   "id": "cc745da1",
   "metadata": {},
   "outputs": [
    {
     "data": {
      "text/plain": [
       "[1]"
      ]
     },
     "execution_count": 17,
     "metadata": {},
     "output_type": "execute_result"
    }
   ],
   "source": [
    "pair_rdd_B.lookup(\"B\")"
   ]
  },
  {
   "cell_type": "markdown",
   "id": "33cb35c6",
   "metadata": {},
   "source": [
    "#### `Use ReduceByKey to find the total sum of values of A & B in the pair_rdd_B`\n",
    "\n",
    "---"
   ]
  },
  {
   "cell_type": "code",
   "execution_count": 12,
   "id": "2cdbe29e",
   "metadata": {},
   "outputs": [
    {
     "name": "stdout",
     "output_type": "stream",
     "text": [
      "sum of values for A and B in pair_rdd_B: 1\n"
     ]
    }
   ],
   "source": [
    "# write your code here to find the sum of values of A & B\n",
    "\n",
    "rdd_reduced = pair_rdd_B.reduceByKey(lambda x,y: x+y)\n",
    "lst = rdd_reduced.collect()\n",
    "\n",
    "values_sum = 0\n",
    "for i in lst:\n",
    "    if i[0] == 'A' or i[0] == 'B':\n",
    "        values_sum = values_sum + i[1]\n",
    "\n",
    "print('sum of values for A and B in pair_rdd_B:', values_sum)"
   ]
  },
  {
   "cell_type": "markdown",
   "id": "79b46c9d",
   "metadata": {},
   "source": [
    "#### `Join the pair_rdd_A and pair_rdd_B`\n",
    "\n",
    "---"
   ]
  },
  {
   "cell_type": "code",
   "execution_count": 21,
   "id": "5d59987e",
   "metadata": {},
   "outputs": [
    {
     "data": {
      "text/plain": [
       "[('A', (2233, 0)),\n",
       " ('A', (3920, 0)),\n",
       " ('A', (1000, 0)),\n",
       " ('A', (2939, 0)),\n",
       " ('B', (2233, 1)),\n",
       " ('B', (3244, 1))]"
      ]
     },
     "execution_count": 21,
     "metadata": {},
     "output_type": "execute_result"
    }
   ],
   "source": [
    "merge = pair_rdd_A.join(pair_rdd_B).collect()\n",
    "merge"
   ]
  }
 ],
 "metadata": {
  "kernelspec": {
   "display_name": "Pyspark 2",
   "language": "python",
   "name": "pyspark2"
  },
  "language_info": {
   "codemirror_mode": {
    "name": "ipython",
    "version": 3
   },
   "file_extension": ".py",
   "mimetype": "text/x-python",
   "name": "python",
   "nbconvert_exporter": "python",
   "pygments_lexer": "ipython3",
   "version": "3.6.12"
  }
 },
 "nbformat": 4,
 "nbformat_minor": 5
}
