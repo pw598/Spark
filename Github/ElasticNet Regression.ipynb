{
 "cells": [
  {
   "cell_type": "code",
   "execution_count": null,
   "id": "5d5805d1-3cc4-4116-a77e-8244243be034",
   "metadata": {},
   "outputs": [],
   "source": [
    "from pyspark.ml.regression import LinearRegression\n",
    "from pyspark.sql import SparkSession\n",
    "\n",
    "if __name__ == \"__main__\":\n",
    "    spark = SparkSession\\\n",
    "        .builder\\\n",
    "        .appName(\"LinearRegressionWithElasticNet\")\\\n",
    "        .getOrCreate()\n",
    "\n",
    "    # Load training data\n",
    "    training = spark.read.format(\"libsvm\")\\\n",
    "        .load(\"data/mllib/sample_linear_regression_data.txt\")\n",
    "\n",
    "    lr = LinearRegression(maxIter=10, regParam=0.3, elasticNetParam=0.8)\n",
    "\n",
    "    # Fit the model\n",
    "    lrModel = lr.fit(training)\n",
    "\n",
    "    # Print the coefficients and intercept for linear regression\n",
    "    print(\"Coefficients: %s\" % str(lrModel.coefficients))\n",
    "    print(\"Intercept: %s\" % str(lrModel.intercept))\n",
    "\n",
    "    # Summarize the model over the training set and print out some metrics\n",
    "    trainingSummary = lrModel.summary\n",
    "    print(\"numIterations: %d\" % trainingSummary.totalIterations)\n",
    "    print(\"objectiveHistory: %s\" % str(trainingSummary.objectiveHistory))\n",
    "    trainingSummary.residuals.show()\n",
    "    print(\"RMSE: %f\" % trainingSummary.rootMeanSquaredError)\n",
    "    print(\"r2: %f\" % trainingSummary.r2)\n",
    "\n",
    "    spark.stop()"
   ]
  }
 ],
 "metadata": {
  "kernelspec": {
   "display_name": "Python 3 (ipykernel)",
   "language": "python",
   "name": "python3"
  },
  "language_info": {
   "codemirror_mode": {
    "name": "ipython",
    "version": 3
   },
   "file_extension": ".py",
   "mimetype": "text/x-python",
   "name": "python",
   "nbconvert_exporter": "python",
   "pygments_lexer": "ipython3",
   "version": "3.11.4"
  }
 },
 "nbformat": 4,
 "nbformat_minor": 5
}
