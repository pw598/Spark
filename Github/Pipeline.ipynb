{
 "cells": [
  {
   "cell_type": "code",
   "execution_count": 1,
   "id": "29f2220e-30d5-4e97-a911-3e9a24d0d056",
   "metadata": {},
   "outputs": [
    {
     "data": {
      "text/plain": [
       "'C:\\\\spark-3.4.1-bin-hadoop3'"
      ]
     },
     "execution_count": 1,
     "metadata": {},
     "output_type": "execute_result"
    }
   ],
   "source": [
    "import findspark\n",
    "findspark.init()\n",
    "findspark.find()"
   ]
  },
  {
   "cell_type": "code",
   "execution_count": 2,
   "id": "38e8aced-243e-4bbf-9e76-52e6fbbbfa4f",
   "metadata": {
    "tags": []
   },
   "outputs": [
    {
     "name": "stdout",
     "output_type": "stream",
     "text": [
      "(4, spark i j k) --> prob=[0.6292098489668487,0.37079015103315127], prediction=0.000000\n",
      "(5, l m n) --> prob=[0.9847700067623042,0.015229993237695805], prediction=0.000000\n",
      "(6, spark hadoop spark) --> prob=[0.13412348342566105,0.865876516574339], prediction=1.000000\n",
      "(7, apache hadoop) --> prob=[0.9955732114398529,0.00442678856014711], prediction=0.000000\n"
     ]
    }
   ],
   "source": [
    "from pyspark.ml import Pipeline\n",
    "from pyspark.ml.classification import LogisticRegression\n",
    "from pyspark.ml.feature import HashingTF, Tokenizer\n",
    "from pyspark.sql import SparkSession\n",
    "\n",
    "if __name__ == \"__main__\":\n",
    "    spark = SparkSession\\\n",
    "        .builder\\\n",
    "        .appName(\"PipelineExample\")\\\n",
    "        .getOrCreate()\n",
    "\n",
    "    # Prepare training documents from a list of (id, text, label) tuples.\n",
    "    training = spark.createDataFrame([\n",
    "        (0, \"a b c d e spark\", 1.0),\n",
    "        (1, \"b d\", 0.0),\n",
    "        (2, \"spark f g h\", 1.0),\n",
    "        (3, \"hadoop mapreduce\", 0.0)\n",
    "    ], [\"id\", \"text\", \"label\"])\n",
    "\n",
    "    # Configure an ML pipeline, which consists of three stages: tokenizer, hashingTF, and lr.\n",
    "    tokenizer = Tokenizer(inputCol=\"text\", outputCol=\"words\")\n",
    "    hashingTF = HashingTF(inputCol=tokenizer.getOutputCol(), outputCol=\"features\")\n",
    "    lr = LogisticRegression(maxIter=10, regParam=0.001)\n",
    "    pipeline = Pipeline(stages=[tokenizer, hashingTF, lr])\n",
    "\n",
    "    # Fit the pipeline to training documents.\n",
    "    model = pipeline.fit(training)\n",
    "\n",
    "    # Prepare test documents, which are unlabeled (id, text) tuples.\n",
    "    test = spark.createDataFrame([\n",
    "        (4, \"spark i j k\"),\n",
    "        (5, \"l m n\"),\n",
    "        (6, \"spark hadoop spark\"),\n",
    "        (7, \"apache hadoop\")\n",
    "    ], [\"id\", \"text\"])\n",
    "\n",
    "    # Make predictions on test documents and print columns of interest.\n",
    "    prediction = model.transform(test)\n",
    "    selected = prediction.select(\"id\", \"text\", \"probability\", \"prediction\")\n",
    "    for row in selected.collect():\n",
    "        rid, text, prob, prediction = row\n",
    "        print(\n",
    "            \"(%d, %s) --> prob=%s, prediction=%f\" % (\n",
    "                rid, text, str(prob), prediction   # type: ignore\n",
    "            )\n",
    "        )\n",
    "\n",
    "    spark.stop()"
   ]
  }
 ],
 "metadata": {
  "kernelspec": {
   "display_name": "Python 3 (ipykernel)",
   "language": "python",
   "name": "python3"
  },
  "language_info": {
   "codemirror_mode": {
    "name": "ipython",
    "version": 3
   },
   "file_extension": ".py",
   "mimetype": "text/x-python",
   "name": "python",
   "nbconvert_exporter": "python",
   "pygments_lexer": "ipython3",
   "version": "3.11.4"
  }
 },
 "nbformat": 4,
 "nbformat_minor": 5
}
