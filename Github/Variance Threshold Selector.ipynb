{
 "cells": [
  {
   "cell_type": "code",
   "execution_count": 1,
   "id": "fc07809b-2201-4db9-851e-9b6d054f7ded",
   "metadata": {
    "tags": []
   },
   "outputs": [
    {
     "data": {
      "text/plain": [
       "'C:\\\\spark-3.4.1-bin-hadoop3'"
      ]
     },
     "execution_count": 1,
     "metadata": {},
     "output_type": "execute_result"
    }
   ],
   "source": [
    "import findspark\n",
    "findspark.init()\n",
    "findspark.find()"
   ]
  },
  {
   "cell_type": "code",
   "execution_count": 2,
   "id": "f23ef65b-a3af-4d5b-9937-137803815970",
   "metadata": {
    "tags": []
   },
   "outputs": [
    {
     "name": "stdout",
     "output_type": "stream",
     "text": [
      "Output: Features with variance lower than 8.000000 are removed.\n",
      "+---+--------------------+-----------------+\n",
      "| id|            features| selectedFeatures|\n",
      "+---+--------------------+-----------------+\n",
      "|  1|[6.0,7.0,0.0,7.0,...|[6.0,0.0,7.0,0.0]|\n",
      "|  2|[0.0,9.0,6.0,0.0,...|[0.0,6.0,0.0,9.0]|\n",
      "|  3|[0.0,9.0,3.0,0.0,...|[0.0,3.0,0.0,5.0]|\n",
      "|  4|[0.0,9.0,8.0,5.0,...|[0.0,8.0,5.0,4.0]|\n",
      "|  5|[8.0,9.0,6.0,5.0,...|[8.0,6.0,5.0,4.0]|\n",
      "|  6|[8.0,9.0,6.0,0.0,...|[8.0,6.0,0.0,0.0]|\n",
      "+---+--------------------+-----------------+\n",
      "\n"
     ]
    }
   ],
   "source": [
    "from pyspark.sql import SparkSession\n",
    "from pyspark.ml.feature import VarianceThresholdSelector\n",
    "from pyspark.ml.linalg import Vectors\n",
    "\n",
    "if __name__ == \"__main__\":\n",
    "    spark = SparkSession\\\n",
    "        .builder\\\n",
    "        .appName(\"VarianceThresholdSelectorExample\")\\\n",
    "        .getOrCreate()\n",
    "\n",
    "    df = spark.createDataFrame([\n",
    "        (1, Vectors.dense([6.0, 7.0, 0.0, 7.0, 6.0, 0.0])),\n",
    "        (2, Vectors.dense([0.0, 9.0, 6.0, 0.0, 5.0, 9.0])),\n",
    "        (3, Vectors.dense([0.0, 9.0, 3.0, 0.0, 5.0, 5.0])),\n",
    "        (4, Vectors.dense([0.0, 9.0, 8.0, 5.0, 6.0, 4.0])),\n",
    "        (5, Vectors.dense([8.0, 9.0, 6.0, 5.0, 4.0, 4.0])),\n",
    "        (6, Vectors.dense([8.0, 9.0, 6.0, 0.0, 0.0, 0.0]))], [\"id\", \"features\"])\n",
    "\n",
    "    selector = VarianceThresholdSelector(varianceThreshold=8.0, outputCol=\"selectedFeatures\")\n",
    "\n",
    "    result = selector.fit(df).transform(df)\n",
    "\n",
    "    print(\"Output: Features with variance lower than %f are removed.\" %\n",
    "          selector.getVarianceThreshold())\n",
    "    result.show()\n",
    "\n",
    "    spark.stop()"
   ]
  }
 ],
 "metadata": {
  "kernelspec": {
   "display_name": "Python 3 (ipykernel)",
   "language": "python",
   "name": "python3"
  },
  "language_info": {
   "codemirror_mode": {
    "name": "ipython",
    "version": 3
   },
   "file_extension": ".py",
   "mimetype": "text/x-python",
   "name": "python",
   "nbconvert_exporter": "python",
   "pygments_lexer": "ipython3",
   "version": "3.11.4"
  }
 },
 "nbformat": 4,
 "nbformat_minor": 5
}
