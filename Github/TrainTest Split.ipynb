{
 "cells": [
  {
   "cell_type": "code",
   "execution_count": 2,
   "id": "5c3d56ac-e642-4a92-a773-ac0b31051949",
   "metadata": {
    "tags": []
   },
   "outputs": [
    {
     "name": "stdout",
     "output_type": "stream",
     "text": [
      "+--------------------+--------------------+--------------------+\n",
      "|            features|               label|          prediction|\n",
      "+--------------------+--------------------+--------------------+\n",
      "|(10,[0,1,2,3,4,5,...| -17.026492264209548|  -1.780062242348691|\n",
      "|(10,[0,1,2,3,4,5,...|  -16.71909683360509| -0.1893325701092588|\n",
      "|(10,[0,1,2,3,4,5,...| -15.375857723312297|  0.7252323736487188|\n",
      "|(10,[0,1,2,3,4,5,...| -13.772441561702871|  3.2696413241677718|\n",
      "|(10,[0,1,2,3,4,5,...| -13.039928064104615| 0.18817684046065775|\n",
      "|(10,[0,1,2,3,4,5,...|   -9.42898793151394|  -3.449987079269568|\n",
      "|(10,[0,1,2,3,4,5,...|    -9.2679651250406|-0.33109075490696316|\n",
      "|(10,[0,1,2,3,4,5,...|  -9.173693798406978|-0.42727135281551937|\n",
      "|(10,[0,1,2,3,4,5,...| -7.1500991588127265|   2.936884251408867|\n",
      "|(10,[0,1,2,3,4,5,...|  -6.930603551528371|-0.02839768193150...|\n",
      "|(10,[0,1,2,3,4,5,...|  -6.456944198081549| -0.9224776887934015|\n",
      "|(10,[0,1,2,3,4,5,...| -3.2843694575334834| -1.0821208483033875|\n",
      "|(10,[0,1,2,3,4,5,...|   -1.99891354174786|  0.8052068273813595|\n",
      "|(10,[0,1,2,3,4,5,...| -0.4683784136986876|  0.5046267770459569|\n",
      "|(10,[0,1,2,3,4,5,...|-0.44652227528840105|0.053072145020589406|\n",
      "|(10,[0,1,2,3,4,5,...| 0.10157453780074743| -1.0931313634366817|\n",
      "|(10,[0,1,2,3,4,5,...|  0.2105613019270259|   1.068404443672188|\n",
      "|(10,[0,1,2,3,4,5,...|  2.1214592666251364| 0.10226191630980659|\n",
      "|(10,[0,1,2,3,4,5,...|  2.8497179990245116|  1.1908709522287462|\n",
      "|(10,[0,1,2,3,4,5,...|   3.980473021620311|  2.3611397922073025|\n",
      "+--------------------+--------------------+--------------------+\n",
      "only showing top 20 rows\n",
      "\n"
     ]
    }
   ],
   "source": [
    "from pyspark.ml.evaluation import RegressionEvaluator\n",
    "from pyspark.ml.regression import LinearRegression\n",
    "from pyspark.ml.tuning import ParamGridBuilder, TrainValidationSplit\n",
    "from pyspark.sql import SparkSession\n",
    "\n",
    "if __name__ == \"__main__\":\n",
    "    spark = SparkSession\\\n",
    "        .builder\\\n",
    "        .appName(\"TrainValidationSplit\")\\\n",
    "        .getOrCreate()\n",
    "\n",
    "    # Prepare training and test data.\n",
    "    data = spark.read.format(\"libsvm\")\\\n",
    "        .load(\"sample_linear_regression_data.txt\")\n",
    "    train, test = data.randomSplit([0.9, 0.1], seed=12345)\n",
    "\n",
    "    lr = LinearRegression(maxIter=10)\n",
    "\n",
    "    # We use a ParamGridBuilder to construct a grid of parameters to search over.\n",
    "    # TrainValidationSplit will try all combinations of values and determine best model using\n",
    "    # the evaluator.\n",
    "    paramGrid = ParamGridBuilder()\\\n",
    "        .addGrid(lr.regParam, [0.1, 0.01]) \\\n",
    "        .addGrid(lr.fitIntercept, [False, True])\\\n",
    "        .addGrid(lr.elasticNetParam, [0.0, 0.5, 1.0])\\\n",
    "        .build()\n",
    "\n",
    "    # In this case the estimator is simply the linear regression.\n",
    "    # A TrainValidationSplit requires an Estimator, a set of Estimator ParamMaps, and an Evaluator.\n",
    "    tvs = TrainValidationSplit(estimator=lr,\n",
    "                               estimatorParamMaps=paramGrid,\n",
    "                               evaluator=RegressionEvaluator(),\n",
    "                               # 80% of the data will be used for training, 20% for validation.\n",
    "                               trainRatio=0.8)\n",
    "\n",
    "    # Run TrainValidationSplit, and choose the best set of parameters.\n",
    "    model = tvs.fit(train)\n",
    "\n",
    "    # Make predictions on test data. model is the model with combination of parameters\n",
    "    # that performed best.\n",
    "    model.transform(test)\\\n",
    "        .select(\"features\", \"label\", \"prediction\")\\\n",
    "        .show()\n",
    "\n",
    "    spark.stop()"
   ]
  }
 ],
 "metadata": {
  "kernelspec": {
   "display_name": "Python 3 (ipykernel)",
   "language": "python",
   "name": "python3"
  },
  "language_info": {
   "codemirror_mode": {
    "name": "ipython",
    "version": 3
   },
   "file_extension": ".py",
   "mimetype": "text/x-python",
   "name": "python",
   "nbconvert_exporter": "python",
   "pygments_lexer": "ipython3",
   "version": "3.11.4"
  }
 },
 "nbformat": 4,
 "nbformat_minor": 5
}
