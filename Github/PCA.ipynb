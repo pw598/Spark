{
 "cells": [
  {
   "cell_type": "code",
   "execution_count": 1,
   "id": "c12acfdc-83ce-42a4-9509-6238173aff83",
   "metadata": {},
   "outputs": [
    {
     "data": {
      "text/plain": [
       "'C:\\\\spark-3.4.1-bin-hadoop3'"
      ]
     },
     "execution_count": 1,
     "metadata": {},
     "output_type": "execute_result"
    }
   ],
   "source": [
    "import findspark\n",
    "findspark.init()\n",
    "findspark.find()"
   ]
  },
  {
   "cell_type": "code",
   "execution_count": 2,
   "id": "f08bafc5-f1a9-45f6-8cbd-9b3ffa64764e",
   "metadata": {
    "tags": []
   },
   "outputs": [
    {
     "name": "stdout",
     "output_type": "stream",
     "text": [
      "+------------------------------------------------------------+\n",
      "|pcaFeatures                                                 |\n",
      "+------------------------------------------------------------+\n",
      "|[1.6485728230883814,-4.0132827005162985,-1.0091435193998504]|\n",
      "|[-4.645104331781533,-1.1167972663619048,-1.0091435193998504]|\n",
      "|[-6.428880535676488,-5.337951427775359,-1.0091435193998508] |\n",
      "+------------------------------------------------------------+\n",
      "\n"
     ]
    }
   ],
   "source": [
    "from pyspark.ml.feature import PCA\n",
    "from pyspark.ml.linalg import Vectors\n",
    "from pyspark.sql import SparkSession\n",
    "\n",
    "if __name__ == \"__main__\":\n",
    "    spark = SparkSession\\\n",
    "        .builder\\\n",
    "        .appName(\"PCAExample\")\\\n",
    "        .getOrCreate()\n",
    "\n",
    "    data = [(Vectors.sparse(5, [(1, 1.0), (3, 7.0)]),),\n",
    "            (Vectors.dense([2.0, 0.0, 3.0, 4.0, 5.0]),),\n",
    "            (Vectors.dense([4.0, 0.0, 0.0, 6.0, 7.0]),)]\n",
    "    df = spark.createDataFrame(data, [\"features\"])\n",
    "\n",
    "    pca = PCA(k=3, inputCol=\"features\", outputCol=\"pcaFeatures\")\n",
    "    model = pca.fit(df)\n",
    "\n",
    "    result = model.transform(df).select(\"pcaFeatures\")\n",
    "    result.show(truncate=False)\n",
    "\n",
    "    spark.stop()"
   ]
  }
 ],
 "metadata": {
  "kernelspec": {
   "display_name": "Python 3 (ipykernel)",
   "language": "python",
   "name": "python3"
  },
  "language_info": {
   "codemirror_mode": {
    "name": "ipython",
    "version": 3
   },
   "file_extension": ".py",
   "mimetype": "text/x-python",
   "name": "python",
   "nbconvert_exporter": "python",
   "pygments_lexer": "ipython3",
   "version": "3.11.4"
  }
 },
 "nbformat": 4,
 "nbformat_minor": 5
}
