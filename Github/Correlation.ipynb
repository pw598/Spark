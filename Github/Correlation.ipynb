{
 "cells": [
  {
   "cell_type": "code",
   "execution_count": 1,
   "id": "75dcb3d8",
   "metadata": {},
   "outputs": [
    {
     "data": {
      "text/plain": [
       "'C:\\\\ProgramData\\\\anaconda3\\\\Lib\\\\site-packages\\\\pyspark'"
      ]
     },
     "execution_count": 1,
     "metadata": {},
     "output_type": "execute_result"
    }
   ],
   "source": [
    "import findspark\n",
    "findspark.init()\n",
    "findspark.find()"
   ]
  },
  {
   "cell_type": "code",
   "execution_count": 2,
   "id": "50775e61",
   "metadata": {},
   "outputs": [
    {
     "name": "stdout",
     "output_type": "stream",
     "text": [
      "Pearson correlation matrix:\n",
      "DenseMatrix([[1.        , 0.05564149,        nan, 0.40047142],\n",
      "             [0.05564149, 1.        ,        nan, 0.91359586],\n",
      "             [       nan,        nan, 1.        ,        nan],\n",
      "             [0.40047142, 0.91359586,        nan, 1.        ]])\n",
      "Spearman correlation matrix:\n",
      "DenseMatrix([[1.        , 0.10540926,        nan, 0.4       ],\n",
      "             [0.10540926, 1.        ,        nan, 0.9486833 ],\n",
      "             [       nan,        nan, 1.        ,        nan],\n",
      "             [0.4       , 0.9486833 ,        nan, 1.        ]])\n"
     ]
    }
   ],
   "source": [
    "from pyspark.ml.linalg import Vectors\n",
    "from pyspark.ml.stat import Correlation\n",
    "from pyspark.sql import SparkSession\n",
    "\n",
    "if __name__ == \"__main__\":\n",
    "    spark = SparkSession \\\n",
    "        .builder \\\n",
    "        .appName(\"CorrelationExample\") \\\n",
    "        .getOrCreate()\n",
    "\n",
    "    # $example on$\n",
    "    data = [(Vectors.sparse(4, [(0, 1.0), (3, -2.0)]),),\n",
    "            (Vectors.dense([4.0, 5.0, 0.0, 3.0]),),\n",
    "            (Vectors.dense([6.0, 7.0, 0.0, 8.0]),),\n",
    "            (Vectors.sparse(4, [(0, 9.0), (3, 1.0)]),)]\n",
    "    df = spark.createDataFrame(data, [\"features\"])\n",
    "\n",
    "    r1 = Correlation.corr(df, \"features\").head()\n",
    "\n",
    "    assert r1 is not None\n",
    "    print(\"Pearson correlation matrix:\\n\" + str(r1[0]))\n",
    "\n",
    "    r2 = Correlation.corr(df, \"features\", \"spearman\").head()\n",
    "\n",
    "    assert r2 is not None\n",
    "\n",
    "    print(\"Spearman correlation matrix:\\n\" + str(r2[0]))\n",
    "\n",
    "    spark.stop()"
   ]
  }
 ],
 "metadata": {
  "kernelspec": {
   "display_name": "Python 3 (ipykernel)",
   "language": "python",
   "name": "python3"
  },
  "language_info": {
   "codemirror_mode": {
    "name": "ipython",
    "version": 3
   },
   "file_extension": ".py",
   "mimetype": "text/x-python",
   "name": "python",
   "nbconvert_exporter": "python",
   "pygments_lexer": "ipython3",
   "version": "3.11.4"
  }
 },
 "nbformat": 4,
 "nbformat_minor": 5
}
