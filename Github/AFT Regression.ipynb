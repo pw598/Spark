{
 "cells": [
  {
   "cell_type": "code",
   "execution_count": 4,
   "id": "246a021d",
   "metadata": {},
   "outputs": [
    {
     "data": {
      "text/plain": [
       "'C:\\\\ProgramData\\\\anaconda3\\\\Lib\\\\site-packages\\\\pyspark'"
      ]
     },
     "execution_count": 4,
     "metadata": {},
     "output_type": "execute_result"
    }
   ],
   "source": [
    "import findspark\n",
    "findspark.init()\n",
    "findspark.find()"
   ]
  },
  {
   "cell_type": "code",
   "execution_count": 6,
   "id": "872fe1d1",
   "metadata": {},
   "outputs": [
    {
     "name": "stdout",
     "output_type": "stream",
     "text": [
      "Coefficients: [-0.4963068060199877,0.19844393975928384]\n",
      "Intercept: 2.6380905631560227\n",
      "Scale: 1.5472326865488453\n",
      "+-----+------+--------------+------------------+--------------------------------------+\n",
      "|label|censor|features      |prediction        |quantiles                             |\n",
      "+-----+------+--------------+------------------+--------------------------------------+\n",
      "|1.218|1.0   |[1.56,-0.605] |5.7189965530298945|[1.1603295951029082,4.995471733719641]|\n",
      "|2.949|0.0   |[0.346,2.158] |18.076458028588927|[3.667540106156393,15.78955928549122] |\n",
      "|3.627|0.0   |[1.38,0.231]  |7.381875365763497 |[1.4977117707333785,6.447975512763022]|\n",
      "|0.273|1.0   |[0.52,1.151]  |13.577581299077902|[2.754761130759774,11.859846908963423]|\n",
      "|4.199|0.0   |[0.795,-0.226]|9.013093216625728 |[1.828670240609154,7.872823838856878] |\n",
      "+-----+------+--------------+------------------+--------------------------------------+\n",
      "\n"
     ]
    }
   ],
   "source": [
    "from pyspark.ml.regression import AFTSurvivalRegression\n",
    "from pyspark.ml.linalg import Vectors\n",
    "from pyspark.sql import SparkSession\n",
    "\n",
    "if __name__ == \"__main__\":\n",
    "    spark = SparkSession \\\n",
    "        .builder \\\n",
    "        .appName(\"AFTSurvivalRegressionExample\") \\\n",
    "        .getOrCreate()\n",
    "\n",
    "    training = spark.createDataFrame([\n",
    "        (1.218, 1.0, Vectors.dense(1.560, -0.605)),\n",
    "        (2.949, 0.0, Vectors.dense(0.346, 2.158)),\n",
    "        (3.627, 0.0, Vectors.dense(1.380, 0.231)),\n",
    "        (0.273, 1.0, Vectors.dense(0.520, 1.151)),\n",
    "        (4.199, 0.0, Vectors.dense(0.795, -0.226))], [\"label\", \"censor\", \"features\"])\n",
    "    quantileProbabilities = [0.3, 0.6]\n",
    "    aft = AFTSurvivalRegression(quantileProbabilities=quantileProbabilities,\n",
    "                                quantilesCol=\"quantiles\")\n",
    "\n",
    "    model = aft.fit(training)\n",
    "\n",
    "    # Print the coefficients, intercept and scale parameter for AFT survival regression\n",
    "    print(\"Coefficients: \" + str(model.coefficients))\n",
    "    print(\"Intercept: \" + str(model.intercept))\n",
    "    print(\"Scale: \" + str(model.scale))\n",
    "    model.transform(training).show(truncate=False)\n",
    "    # $example off$\n",
    "\n",
    "    spark.stop()"
   ]
  }
 ],
 "metadata": {
  "kernelspec": {
   "display_name": "Python 3 (ipykernel)",
   "language": "python",
   "name": "python3"
  },
  "language_info": {
   "codemirror_mode": {
    "name": "ipython",
    "version": 3
   },
   "file_extension": ".py",
   "mimetype": "text/x-python",
   "name": "python",
   "nbconvert_exporter": "python",
   "pygments_lexer": "ipython3",
   "version": "3.11.4"
  }
 },
 "nbformat": 4,
 "nbformat_minor": 5
}
